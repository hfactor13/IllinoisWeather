{
 "cells": [
  {
   "cell_type": "markdown",
   "metadata": {},
   "source": [
    "# Exploratory Data Analysis of Weather in Illinois"
   ]
  },
  {
   "cell_type": "code",
   "execution_count": 31,
   "metadata": {},
   "outputs": [],
   "source": [
    "from pathlib import Path # Library used for handling paths\n",
    "import pandas as pd # DataFrame library\n",
    "import numpy as np # Array library\n",
    "import matplotlib.pyplot as plt # Plotting library\n",
    "import os # operating system module used for storing credentials into the environment variable\n",
    "plt.style.use('default') # Ensures that my plots are made using a whitebackground."
   ]
  },
  {
   "cell_type": "markdown",
   "metadata": {},
   "source": [
    "### The data was extracted from the NOAA's Global Historical Climatology Network (GHCN) dataset. The SQL query was run in the Google BigQuery console as shown below. The resulting dataset was saved to a dataframe as shown in the next cell."
   ]
  },
  {
   "cell_type": "markdown",
   "metadata": {},
   "source": [
    "![Illinois Temperature Data (1990 - 2023).png](<attachment:Illinois Temperature Data (1990 - 2023).png>)"
   ]
  },
  {
   "cell_type": "code",
   "execution_count": 32,
   "metadata": {},
   "outputs": [],
   "source": [
    "os.environ[\"GOOGLE_APPLICATION_CREDENTIALS\"] = str(Path.cwd() / \"secrets\" / \"my_credentials.json\") # Credentials to be able to access the Google BigQuery public datasets"
   ]
  },
  {
   "cell_type": "code",
   "execution_count": 33,
   "metadata": {},
   "outputs": [
    {
     "data": {
      "application/vnd.jupyter.widget-view+json": {
       "model_id": "7ea804a461c84557a4dd0d86017daacc",
       "version_major": 2,
       "version_minor": 0
      },
      "text/plain": [
       "Downloading:   0%|          |"
      ]
     },
     "metadata": {},
     "output_type": "display_data"
    }
   ],
   "source": [
    "raw_temp_query = \"\"\"SELECT weather.id, weather.date, weather.element, weather.value, weather.qflag, \n",
    "                       stations.latitude, stations.longitude, stations.state, stations.name \n",
    "                       FROM `bigquery-public-data.ghcn_d.ghcnd_*` AS weather\n",
    "                       INNER JOIN `bigquery-public-data.ghcn_d.ghcnd_stations` AS stations\n",
    "                       ON weather.id = stations.id\n",
    "                       WHERE weather.id LIKE 'US%'\n",
    "                       AND weather.element IN ('TMAX', 'TMIN', 'TAVG', 'TOBS')\n",
    "                       AND weather.qflag IS NULL\n",
    "                       AND EXTRACT(YEAR FROM weather.date) BETWEEN 1990 AND 2023\n",
    "                       AND weather._TABLE_SUFFIX BETWEEN '1990' AND '2023'\n",
    "                       AND stations.id LIKE 'US%'\n",
    "                       AND stations.state = 'IL'; \"\"\" # This query extracts weather data from the US in Illinois from the year 1990 to 2023\n",
    "raw_temp_data = pd.read_gbq(raw_temp_query, use_bqstorage_api = True, progress_bar_type = \"tqdm_notebook\", dialect = \"standard\") # Load the data from the SQL query through Google BigQuery"
   ]
  },
  {
   "cell_type": "code",
   "execution_count": 34,
   "metadata": {},
   "outputs": [
    {
     "data": {
      "text/html": [
       "<div>\n",
       "<style scoped>\n",
       "    .dataframe tbody tr th:only-of-type {\n",
       "        vertical-align: middle;\n",
       "    }\n",
       "\n",
       "    .dataframe tbody tr th {\n",
       "        vertical-align: top;\n",
       "    }\n",
       "\n",
       "    .dataframe thead th {\n",
       "        text-align: right;\n",
       "    }\n",
       "</style>\n",
       "<table border=\"1\" class=\"dataframe\">\n",
       "  <thead>\n",
       "    <tr style=\"text-align: right;\">\n",
       "      <th></th>\n",
       "      <th>date</th>\n",
       "      <th>name</th>\n",
       "      <th>element</th>\n",
       "      <th>value</th>\n",
       "      <th>value_degF</th>\n",
       "      <th>latitude</th>\n",
       "      <th>longitude</th>\n",
       "    </tr>\n",
       "  </thead>\n",
       "  <tbody>\n",
       "    <tr>\n",
       "      <th>0</th>\n",
       "      <td>1990-01-01</td>\n",
       "      <td>CHICAGO MIDWAY AP 3SW</td>\n",
       "      <td>TMAX</td>\n",
       "      <td>-17.0</td>\n",
       "      <td>28.94</td>\n",
       "      <td>41.7372</td>\n",
       "      <td>-87.7775</td>\n",
       "    </tr>\n",
       "    <tr>\n",
       "      <th>1</th>\n",
       "      <td>1990-01-01</td>\n",
       "      <td>TISKILWA 2 SE</td>\n",
       "      <td>TMAX</td>\n",
       "      <td>6.0</td>\n",
       "      <td>33.08</td>\n",
       "      <td>41.2667</td>\n",
       "      <td>-89.4667</td>\n",
       "    </tr>\n",
       "    <tr>\n",
       "      <th>2</th>\n",
       "      <td>1990-01-01</td>\n",
       "      <td>OLNEY 2S</td>\n",
       "      <td>TOBS</td>\n",
       "      <td>-28.0</td>\n",
       "      <td>26.96</td>\n",
       "      <td>38.7006</td>\n",
       "      <td>-88.0819</td>\n",
       "    </tr>\n",
       "    <tr>\n",
       "      <th>3</th>\n",
       "      <td>1990-01-01</td>\n",
       "      <td>CHICAGO UNIV</td>\n",
       "      <td>TMIN</td>\n",
       "      <td>-22.0</td>\n",
       "      <td>28.04</td>\n",
       "      <td>41.7833</td>\n",
       "      <td>-87.6000</td>\n",
       "    </tr>\n",
       "    <tr>\n",
       "      <th>4</th>\n",
       "      <td>1990-01-01</td>\n",
       "      <td>GALESBURG</td>\n",
       "      <td>TMAX</td>\n",
       "      <td>-22.0</td>\n",
       "      <td>28.04</td>\n",
       "      <td>40.9464</td>\n",
       "      <td>-90.3856</td>\n",
       "    </tr>\n",
       "    <tr>\n",
       "      <th>...</th>\n",
       "      <td>...</td>\n",
       "      <td>...</td>\n",
       "      <td>...</td>\n",
       "      <td>...</td>\n",
       "      <td>...</td>\n",
       "      <td>...</td>\n",
       "      <td>...</td>\n",
       "    </tr>\n",
       "    <tr>\n",
       "      <th>4823851</th>\n",
       "      <td>2023-11-14</td>\n",
       "      <td>AURORA</td>\n",
       "      <td>TOBS</td>\n",
       "      <td>-11.0</td>\n",
       "      <td>30.02</td>\n",
       "      <td>41.7803</td>\n",
       "      <td>-88.3092</td>\n",
       "    </tr>\n",
       "    <tr>\n",
       "      <th>4823852</th>\n",
       "      <td>2023-11-14</td>\n",
       "      <td>MUNDELEIN 4 WSW</td>\n",
       "      <td>TOBS</td>\n",
       "      <td>-6.0</td>\n",
       "      <td>30.92</td>\n",
       "      <td>42.2553</td>\n",
       "      <td>-88.0775</td>\n",
       "    </tr>\n",
       "    <tr>\n",
       "      <th>4823853</th>\n",
       "      <td>2023-11-14</td>\n",
       "      <td>SHELBYVILLE DAM</td>\n",
       "      <td>TMAX</td>\n",
       "      <td>183.0</td>\n",
       "      <td>64.94</td>\n",
       "      <td>39.4078</td>\n",
       "      <td>-88.7739</td>\n",
       "    </tr>\n",
       "    <tr>\n",
       "      <th>4823854</th>\n",
       "      <td>2023-11-14</td>\n",
       "      <td>FAIRFIELD RADIO WFIW</td>\n",
       "      <td>TOBS</td>\n",
       "      <td>6.0</td>\n",
       "      <td>33.08</td>\n",
       "      <td>38.3806</td>\n",
       "      <td>-88.3264</td>\n",
       "    </tr>\n",
       "    <tr>\n",
       "      <th>4823855</th>\n",
       "      <td>2023-11-14</td>\n",
       "      <td>WHITE HALL 1 E</td>\n",
       "      <td>TMAX</td>\n",
       "      <td>183.0</td>\n",
       "      <td>64.94</td>\n",
       "      <td>39.4408</td>\n",
       "      <td>-90.3789</td>\n",
       "    </tr>\n",
       "  </tbody>\n",
       "</table>\n",
       "<p>4823856 rows × 7 columns</p>\n",
       "</div>"
      ],
      "text/plain": [
       "              date                   name element  value  value_degF  \\\n",
       "0       1990-01-01  CHICAGO MIDWAY AP 3SW    TMAX  -17.0       28.94   \n",
       "1       1990-01-01          TISKILWA 2 SE    TMAX    6.0       33.08   \n",
       "2       1990-01-01               OLNEY 2S    TOBS  -28.0       26.96   \n",
       "3       1990-01-01           CHICAGO UNIV    TMIN  -22.0       28.04   \n",
       "4       1990-01-01              GALESBURG    TMAX  -22.0       28.04   \n",
       "...            ...                    ...     ...    ...         ...   \n",
       "4823851 2023-11-14                 AURORA    TOBS  -11.0       30.02   \n",
       "4823852 2023-11-14        MUNDELEIN 4 WSW    TOBS   -6.0       30.92   \n",
       "4823853 2023-11-14        SHELBYVILLE DAM    TMAX  183.0       64.94   \n",
       "4823854 2023-11-14   FAIRFIELD RADIO WFIW    TOBS    6.0       33.08   \n",
       "4823855 2023-11-14         WHITE HALL 1 E    TMAX  183.0       64.94   \n",
       "\n",
       "         latitude  longitude  \n",
       "0         41.7372   -87.7775  \n",
       "1         41.2667   -89.4667  \n",
       "2         38.7006   -88.0819  \n",
       "3         41.7833   -87.6000  \n",
       "4         40.9464   -90.3856  \n",
       "...           ...        ...  \n",
       "4823851   41.7803   -88.3092  \n",
       "4823852   42.2553   -88.0775  \n",
       "4823853   39.4078   -88.7739  \n",
       "4823854   38.3806   -88.3264  \n",
       "4823855   39.4408   -90.3789  \n",
       "\n",
       "[4823856 rows x 7 columns]"
      ]
     },
     "execution_count": 34,
     "metadata": {},
     "output_type": "execute_result"
    }
   ],
   "source": [
    "raw_temp_data.drop([\"qflag\", \"state\", \"id\"], axis = 1, inplace = True) # Drop the qflag, state, and id columns\n",
    "raw_temp_data[\"date\"] = pd.to_datetime(raw_temp_data[\"date\"]) # Convert the date column from a generic object type to a datetime object\n",
    "raw_temp_data[\"value_degF\"] = 9/5 * (raw_temp_data[\"value\"] / 10) + 32 # Turn the value column which is in tenths of a degree Celsius to Fahrenheit\n",
    "raw_temp_data.sort_values(by = \"date\", ignore_index = True, inplace = True) # Sort the temperatures by date\n",
    "raw_temp_data = raw_temp_data[[\"date\", \"name\", \"element\", \"value\", \"value_degF\", \"latitude\", \"longitude\"]] # Reorder the columns\n",
    "raw_temp_data"
   ]
  },
  {
   "cell_type": "code",
   "execution_count": 36,
   "metadata": {},
   "outputs": [],
   "source": [
    "raw_temp_data_pivot = raw_temp_data.pivot(columns = \"element\", values = \"value_degF\") # Converts the categorical data in the elements column to their own respective columns"
   ]
  },
  {
   "cell_type": "code",
   "execution_count": 37,
   "metadata": {},
   "outputs": [],
   "source": [
    "transformed_temp_data = pd.concat([raw_temp_data, raw_temp_data_pivot], axis = 1) # combine the newly generated columns with the existing dataframe\n",
    "transformed_temp_data.drop([\"element\", \"value\", \"value_degF\"], axis = 1, inplace = True) # drop the element and value columns\n",
    "transformed_temp_data"
   ]
  },
  {
   "cell_type": "code",
   "execution_count": 41,
   "metadata": {},
   "outputs": [
    {
     "data": {
      "text/plain": [
       "<matplotlib.legend.Legend at 0x1881244a0>"
      ]
     },
     "execution_count": 41,
     "metadata": {},
     "output_type": "execute_result"
    },
    {
     "data": {
      "image/png": "[encoded data removed]",
      "text/plain": [
       "<Figure size 640x480 with 1 Axes>"
      ]
     },
     "metadata": {},
     "output_type": "display_data"
    }
   ],
   "source": [
    "# This code plots the minimum, maximum, average, and observed temperatures\n",
    "ax = (transformed_temp_data[[\"date\",\"TMIN\", \"TMAX\", \"TOBS\"]].resample(\"Y\", on = \"date\").mean() # Resample the temperature dataframe over one year (originally was sampled per day)\n",
    "      .plot(xlabel = \"Year\", ylabel = r\"Temperature ($\\circ F$)\", grid = True, title = \"Temperatures in Illinois Sampled Annually from 1990 to 2023\"))\n",
    "ax.legend(loc = \"best\", labels = [r\"$T_{min}$\", r\"$T_{max}$\", r\"$T_{obs}$\"]) # Format the temperature labels"
   ]
  },
  {
   "cell_type": "code",
   "execution_count": 42,
   "metadata": {},
   "outputs": [
    {
     "data": {
      "text/plain": [
       "209"
      ]
     },
     "execution_count": 42,
     "metadata": {},
     "output_type": "execute_result"
    }
   ],
   "source": [
    "transformed_temp_data[\"name\"].nunique() # number of stations in Illinois"
   ]
  },
  {
   "cell_type": "code",
   "execution_count": 43,
   "metadata": {},
   "outputs": [
    {
     "data": {
      "text/plain": [
       "array(['CHICAGO MIDWAY AP 3SW', 'TISKILWA 2 SE', 'OLNEY 2S',\n",
       "       'CHICAGO UNIV', 'GALESBURG', 'MARENGO', 'EFFINGHAM 3SW',\n",
       "       'CHICAGO BOTANIC GARDEN', 'HENNEPIN WTR TRMT PLT',\n",
       "       'MASON CITY 4SE', 'CARBONDALE SEWAGE PLT', 'WATERLOO 6SW',\n",
       "       'MORRISONVILLE', 'HAVANA', 'ROCKFORD GTR ROCKFORD AP',\n",
       "       'CHARLESTON', 'MT CARROLL', 'MOWEAQUA 2S', 'CHENOA', 'DECATUR WTP',\n",
       "       'FAIRFIELD RADIO WFIW', 'MT CARMEL', 'PAXTON 2 WSW',\n",
       "       'DIXON SPRINGS AGRIC CTR', 'FARMER CITY 3W', 'VIRDEN', 'ELGIN',\n",
       "       'MARION 4 NNE', 'FLORA 5 NW', 'WATSEKA 2NW', 'VANDALIA',\n",
       "       'KANKAKEE WWTP', 'PIPER CITY', 'SPARTA 1 W', 'BROOKPORT DAM 52',\n",
       "       'BELLEVILLE SIU RSCH', 'GIBSON CITY', 'CHICAGO OHARE INTL AP',\n",
       "       'LA HARPE', 'JACKSONVILLE 2E', 'KEWANEE 1 E', 'DANVILLE',\n",
       "       'DIXON 1W', 'JERSEYVILLE 2 SW', 'FREEPORT WASTE WTP', 'PERU',\n",
       "       'CAHOKIA', 'LAKE VILLA 2NE', 'PALESTINE', 'ROSICLARE 5NW',\n",
       "       'CHAMPAIGN 3S', 'ANNA 4 N', 'NORMAL 4NE', 'WHITE HALL 1 E', 'PANA',\n",
       "       'GENERAL WAYNE A DOWNING INTL A', 'BARRINGTON 3SW', 'MATTOON',\n",
       "       'STOCKTON 3 NNE', 'SALEM', 'RANTOUL', 'MCLEANSBORO',\n",
       "       'ROCK ISLAND L&D 15', 'CARLINVILLE', 'HILLSBORO', 'QUINCY RGNL AP',\n",
       "       'HOOPESTON', 'PRINCEVILLE', 'TUSCOLA', 'MONMOUTH', 'OLIVE BRANCH',\n",
       "       'ELIZABETH', 'PARK FOREST', 'MINONK', 'WAUKEGAN',\n",
       "       'KASKASKIA RVR NAVIGATION LOCK', 'SMITHLAND L&D', 'DU QUOIN 4 SE',\n",
       "       'NASHVILLE 1 E', 'ROCHELLE', 'AURORA', 'PRINCETON', 'ANTIOCH',\n",
       "       'BENTON 2 N', 'GALVA', 'MT VERNON 3 NE', 'GLENVIEW NAS',\n",
       "       'MORRISON', 'RUSHVILLE', 'CASEY', 'WALNUT', 'CARMI 3',\n",
       "       'SPRINGFIELD ABRAHAM LINCOLN CA', 'WINDSOR', 'PAW PAW 2S',\n",
       "       'PARIS STP', 'ALBION', 'JOLIET BRANDON ROAD LOCK/DAM',\n",
       "       'WHEATON 3 SE', 'LACON', 'GENESEO', 'ALEDO', 'FULTON L&D #13',\n",
       "       'MOLINE QUAD CITY INTL AP', 'PONTIAC', 'OTTAWA 4SW',\n",
       "       'NEWTON 6 SSE', 'GEBHARD WOODS SP', 'GOLDEN', 'QUINCY DAM 21',\n",
       "       'DE KALB', 'CAIRO 3N', 'ALTON - MELVIN PRICE L&D', 'LINCOLN',\n",
       "       'HARRISBURG', 'ELDORADO', 'RAMSEY', 'LAWRENCEVILLE 2WSW', 'DWIGHT',\n",
       "       'GLADSTONE DAM 18', 'COMPTON 1 NW', 'BROWNSTOWN 4 SW',\n",
       "       'PERRY 6 NW', 'ELWOOD 8 NW', 'MC HENRY -WG STRATTON L&D',\n",
       "       'CARLYLE RSVR', 'STREAMWOOD', 'BENTLEY', 'MONMOUTH 4NW',\n",
       "       'POLO 5NW', 'NEWTON', 'MORRIS 1NW', 'OLMSTED L&D', 'PITTSFIELD #2',\n",
       "       'CONGERVILLE 2NW', 'SHELBYVILLE DAM', 'CHICAGO PALWAUKEE AP',\n",
       "       'LAWRENCEVILLE VINCENNES INTL A', 'CHANNAHON DRESDEN ISL DAM',\n",
       "       'MARSEILLES LOCK/DAM', 'CHICAGO MIDWAY AP', 'NEW BOSTON DAM 17',\n",
       "       'CHICAGO W CHICAGO DUPAGE AP', 'CHAMPAIGN URBANA WILLARD AP',\n",
       "       'CAHOKIA ST LOUIS DWTN AP', 'UTICA STARVED ROCK DAM',\n",
       "       'ROMEOVILLE WFO', 'IUKA 12 SW', 'MATTOON CHARLESTON COLES CO AP',\n",
       "       'WINCHESTER', 'LEBANON', 'CARBONDALE STHRN ILLINOIS AP',\n",
       "       'CHICAGO AURORA MUNI AP', 'CHICAGO WAUKEGAN RGNL AP',\n",
       "       'BLOOMINGTON 5W', 'CHRISMAN', 'MUNDELEIN 4 WSW', 'ATHENS 4SW',\n",
       "       'LOAMI 3SSW', 'CISCO', 'FLORA', 'DECATUR AP', 'GRAYVILLE',\n",
       "       'SULLIVAN 3S', 'ROBINSON', 'SIDELL 4N', 'DIXON SPRINGS ILLINOIS',\n",
       "       'BEAN RIDGE ILLINOIS', 'GRAND TWR 2 N', 'CRAB ORCHARD ILLINOIS',\n",
       "       'CHAMPAIGN 9 SW', 'PRAIRIE CITY 2S', 'SHABBONA 5 NNE',\n",
       "       'SOUTH PEKIN 2E', 'ILLINOIS CITY DAM 16', 'HUTSONVILLE',\n",
       "       'SPRINGFIELD #2', 'GRIGGSVILLE', 'URBANA 2', 'DECATUR 4N',\n",
       "       'CHICAGO NORTHERLY IS', 'NEOGA 4NW', 'HIDALGO 3SW', 'ALTONA',\n",
       "       'KNOXVILLE', 'JACKSONVILLE 2', 'LISLE - MORTON ARBORETUM',\n",
       "       'SAYBROOK 2N', 'AVON', 'STREATOR 3 SE', 'REND LAKE DAM',\n",
       "       'LITTLE RED SCHOOL HSE', 'BIRDS 2E', 'GERMANTOWN HILLS',\n",
       "       'TRIMBLE 1E', 'CRYSTAL LAKE 4NW', 'OGDEN', 'FISHER', 'VARNA',\n",
       "       'LOCKPORT PWR HOUSE', 'HENNEPIN', 'GALENA', 'CAIRO RIVER',\n",
       "       'PETERSBURG 3SSW', 'PETERSBURG 1E', 'BLOOMINGTON NORMAL AP',\n",
       "       'MACKINAW 3WSW', 'TAYLORVILLE 2SE', 'MILSTADT 2SW'], dtype=object)"
      ]
     },
     "execution_count": 43,
     "metadata": {},
     "output_type": "execute_result"
    }
   ],
   "source": [
    "transformed_temp_data[\"name\"].unique() # list of all the station names"
   ]
  },
  {
   "cell_type": "code",
   "execution_count": 44,
   "metadata": {},
   "outputs": [
    {
     "data": {
      "text/html": [
       "<div>\n",
       "<style scoped>\n",
       "    .dataframe tbody tr th:only-of-type {\n",
       "        vertical-align: middle;\n",
       "    }\n",
       "\n",
       "    .dataframe tbody tr th {\n",
       "        vertical-align: top;\n",
       "    }\n",
       "\n",
       "    .dataframe thead th {\n",
       "        text-align: right;\n",
       "    }\n",
       "</style>\n",
       "<table border=\"1\" class=\"dataframe\">\n",
       "  <thead>\n",
       "    <tr style=\"text-align: right;\">\n",
       "      <th></th>\n",
       "      <th>name</th>\n",
       "      <th>TAVG</th>\n",
       "      <th>TMAX</th>\n",
       "      <th>TMIN</th>\n",
       "      <th>TOBS</th>\n",
       "    </tr>\n",
       "  </thead>\n",
       "  <tbody>\n",
       "    <tr>\n",
       "      <th>0</th>\n",
       "      <td>ALBION</td>\n",
       "      <td>0</td>\n",
       "      <td>5233</td>\n",
       "      <td>5072</td>\n",
       "      <td>5047</td>\n",
       "    </tr>\n",
       "    <tr>\n",
       "      <th>1</th>\n",
       "      <td>ALEDO</td>\n",
       "      <td>0</td>\n",
       "      <td>11915</td>\n",
       "      <td>11892</td>\n",
       "      <td>11894</td>\n",
       "    </tr>\n",
       "    <tr>\n",
       "      <th>2</th>\n",
       "      <td>ALTON - MELVIN PRICE L&amp;D</td>\n",
       "      <td>0</td>\n",
       "      <td>10633</td>\n",
       "      <td>10295</td>\n",
       "      <td>10656</td>\n",
       "    </tr>\n",
       "    <tr>\n",
       "      <th>3</th>\n",
       "      <td>ALTONA</td>\n",
       "      <td>0</td>\n",
       "      <td>6005</td>\n",
       "      <td>5991</td>\n",
       "      <td>5822</td>\n",
       "    </tr>\n",
       "    <tr>\n",
       "      <th>4</th>\n",
       "      <td>ANNA 4 N</td>\n",
       "      <td>0</td>\n",
       "      <td>8675</td>\n",
       "      <td>8720</td>\n",
       "      <td>8258</td>\n",
       "    </tr>\n",
       "    <tr>\n",
       "      <th>...</th>\n",
       "      <td>...</td>\n",
       "      <td>...</td>\n",
       "      <td>...</td>\n",
       "      <td>...</td>\n",
       "      <td>...</td>\n",
       "    </tr>\n",
       "    <tr>\n",
       "      <th>204</th>\n",
       "      <td>WAUKEGAN</td>\n",
       "      <td>0</td>\n",
       "      <td>4340</td>\n",
       "      <td>4058</td>\n",
       "      <td>3986</td>\n",
       "    </tr>\n",
       "    <tr>\n",
       "      <th>205</th>\n",
       "      <td>WHEATON 3 SE</td>\n",
       "      <td>0</td>\n",
       "      <td>7686</td>\n",
       "      <td>7736</td>\n",
       "      <td>6652</td>\n",
       "    </tr>\n",
       "    <tr>\n",
       "      <th>206</th>\n",
       "      <td>WHITE HALL 1 E</td>\n",
       "      <td>0</td>\n",
       "      <td>12197</td>\n",
       "      <td>12155</td>\n",
       "      <td>12099</td>\n",
       "    </tr>\n",
       "    <tr>\n",
       "      <th>207</th>\n",
       "      <td>WINCHESTER</td>\n",
       "      <td>0</td>\n",
       "      <td>5811</td>\n",
       "      <td>5782</td>\n",
       "      <td>5782</td>\n",
       "    </tr>\n",
       "    <tr>\n",
       "      <th>208</th>\n",
       "      <td>WINDSOR</td>\n",
       "      <td>0</td>\n",
       "      <td>11605</td>\n",
       "      <td>11596</td>\n",
       "      <td>11502</td>\n",
       "    </tr>\n",
       "  </tbody>\n",
       "</table>\n",
       "<p>209 rows × 5 columns</p>\n",
       "</div>"
      ],
      "text/plain": [
       "                         name  TAVG   TMAX   TMIN   TOBS\n",
       "0                      ALBION     0   5233   5072   5047\n",
       "1                       ALEDO     0  11915  11892  11894\n",
       "2    ALTON - MELVIN PRICE L&D     0  10633  10295  10656\n",
       "3                      ALTONA     0   6005   5991   5822\n",
       "4                    ANNA 4 N     0   8675   8720   8258\n",
       "..                        ...   ...    ...    ...    ...\n",
       "204                  WAUKEGAN     0   4340   4058   3986\n",
       "205              WHEATON 3 SE     0   7686   7736   6652\n",
       "206            WHITE HALL 1 E     0  12197  12155  12099\n",
       "207                WINCHESTER     0   5811   5782   5782\n",
       "208                   WINDSOR     0  11605  11596  11502\n",
       "\n",
       "[209 rows x 5 columns]"
      ]
     },
     "execution_count": 44,
     "metadata": {},
     "output_type": "execute_result"
    }
   ],
   "source": [
    "num_obs_per_station = transformed_temp_data.filter(regex = \"name|T+\", axis = 1).groupby(\"name\", as_index = False).count() # number of observations per station\n",
    "num_obs_per_station"
   ]
  },
  {
   "cell_type": "code",
   "execution_count": 76,
   "metadata": {},
   "outputs": [
    {
     "data": {
      "text/html": [
       "<div>\n",
       "<style scoped>\n",
       "    .dataframe tbody tr th:only-of-type {\n",
       "        vertical-align: middle;\n",
       "    }\n",
       "\n",
       "    .dataframe tbody tr th {\n",
       "        vertical-align: top;\n",
       "    }\n",
       "\n",
       "    .dataframe thead th {\n",
       "        text-align: right;\n",
       "    }\n",
       "</style>\n",
       "<table border=\"1\" class=\"dataframe\">\n",
       "  <thead>\n",
       "    <tr style=\"text-align: right;\">\n",
       "      <th></th>\n",
       "      <th>name</th>\n",
       "      <th>TAVG</th>\n",
       "      <th>TMAX</th>\n",
       "      <th>TMIN</th>\n",
       "      <th>TOBS</th>\n",
       "    </tr>\n",
       "  </thead>\n",
       "  <tbody>\n",
       "    <tr>\n",
       "      <th>35</th>\n",
       "      <td>CHICAGO AURORA MUNI AP</td>\n",
       "      <td>2455</td>\n",
       "      <td>9099</td>\n",
       "      <td>9096</td>\n",
       "      <td>0</td>\n",
       "    </tr>\n",
       "    <tr>\n",
       "      <th>36</th>\n",
       "      <td>CHICAGO BOTANIC GARDEN</td>\n",
       "      <td>0</td>\n",
       "      <td>10675</td>\n",
       "      <td>10606</td>\n",
       "      <td>10560</td>\n",
       "    </tr>\n",
       "    <tr>\n",
       "      <th>37</th>\n",
       "      <td>CHICAGO MIDWAY AP</td>\n",
       "      <td>2676</td>\n",
       "      <td>9672</td>\n",
       "      <td>9673</td>\n",
       "      <td>0</td>\n",
       "    </tr>\n",
       "    <tr>\n",
       "      <th>38</th>\n",
       "      <td>CHICAGO MIDWAY AP 3SW</td>\n",
       "      <td>0</td>\n",
       "      <td>12366</td>\n",
       "      <td>12365</td>\n",
       "      <td>12361</td>\n",
       "    </tr>\n",
       "    <tr>\n",
       "      <th>39</th>\n",
       "      <td>CHICAGO NORTHERLY IS</td>\n",
       "      <td>0</td>\n",
       "      <td>6480</td>\n",
       "      <td>6458</td>\n",
       "      <td>6471</td>\n",
       "    </tr>\n",
       "    <tr>\n",
       "      <th>40</th>\n",
       "      <td>CHICAGO OHARE INTL AP</td>\n",
       "      <td>6552</td>\n",
       "      <td>12368</td>\n",
       "      <td>12368</td>\n",
       "      <td>0</td>\n",
       "    </tr>\n",
       "    <tr>\n",
       "      <th>41</th>\n",
       "      <td>CHICAGO PALWAUKEE AP</td>\n",
       "      <td>2656</td>\n",
       "      <td>9897</td>\n",
       "      <td>9893</td>\n",
       "      <td>0</td>\n",
       "    </tr>\n",
       "    <tr>\n",
       "      <th>42</th>\n",
       "      <td>CHICAGO UNIV</td>\n",
       "      <td>0</td>\n",
       "      <td>1742</td>\n",
       "      <td>1760</td>\n",
       "      <td>1743</td>\n",
       "    </tr>\n",
       "    <tr>\n",
       "      <th>43</th>\n",
       "      <td>CHICAGO W CHICAGO DUPAGE AP</td>\n",
       "      <td>2653</td>\n",
       "      <td>9590</td>\n",
       "      <td>9592</td>\n",
       "      <td>0</td>\n",
       "    </tr>\n",
       "    <tr>\n",
       "      <th>44</th>\n",
       "      <td>CHICAGO WAUKEGAN RGNL AP</td>\n",
       "      <td>2144</td>\n",
       "      <td>8785</td>\n",
       "      <td>8771</td>\n",
       "      <td>0</td>\n",
       "    </tr>\n",
       "  </tbody>\n",
       "</table>\n",
       "</div>"
      ],
      "text/plain": [
       "                           name  TAVG   TMAX   TMIN   TOBS\n",
       "35       CHICAGO AURORA MUNI AP  2455   9099   9096      0\n",
       "36       CHICAGO BOTANIC GARDEN     0  10675  10606  10560\n",
       "37            CHICAGO MIDWAY AP  2676   9672   9673      0\n",
       "38        CHICAGO MIDWAY AP 3SW     0  12366  12365  12361\n",
       "39         CHICAGO NORTHERLY IS     0   6480   6458   6471\n",
       "40        CHICAGO OHARE INTL AP  6552  12368  12368      0\n",
       "41         CHICAGO PALWAUKEE AP  2656   9897   9893      0\n",
       "42                 CHICAGO UNIV     0   1742   1760   1743\n",
       "43  CHICAGO W CHICAGO DUPAGE AP  2653   9590   9592      0\n",
       "44     CHICAGO WAUKEGAN RGNL AP  2144   8785   8771      0"
      ]
     },
     "execution_count": 76,
     "metadata": {},
     "output_type": "execute_result"
    }
   ],
   "source": [
    "num_obs_per_station[num_obs_per_station[\"name\"].str.contains(\"CHICAGO\")] # number of observations per category where the station has the name \"CHICAGO\""
   ]
  },
  {
   "cell_type": "code",
   "execution_count": 67,
   "metadata": {},
   "outputs": [
    {
     "data": {
      "text/plain": [
       "name    ALBION\n",
       "TAVG         0\n",
       "TMAX         0\n",
       "TMIN         0\n",
       "TOBS         0\n",
       "dtype: object"
      ]
     },
     "execution_count": 67,
     "metadata": {},
     "output_type": "execute_result"
    }
   ],
   "source": [
    "num_obs_per_station.min() # Station with the least number of observations"
   ]
  },
  {
   "cell_type": "code",
   "execution_count": 66,
   "metadata": {},
   "outputs": [
    {
     "data": {
      "text/plain": [
       "name    WINDSOR\n",
       "TAVG       7498\n",
       "TMAX      12368\n",
       "TMIN      12368\n",
       "TOBS      12361\n",
       "dtype: object"
      ]
     },
     "execution_count": 66,
     "metadata": {},
     "output_type": "execute_result"
    }
   ],
   "source": [
    "num_obs_per_station.max() # Station with the most number of observations"
   ]
  },
  {
   "cell_type": "code",
   "execution_count": null,
   "metadata": {},
   "outputs": [],
   "source": []
  }
 ],
 "metadata": {
  "kernelspec": {
   "display_name": "weather",
   "language": "python",
   "name": "python3"
  },
  "language_info": {
   "codemirror_mode": {
    "name": "ipython",
    "version": 3
   },
   "file_extension": ".py",
   "mimetype": "text/x-python",
   "name": "python",
   "nbconvert_exporter": "python",
   "pygments_lexer": "ipython3",
   "version": "3.12.0"
  }
 },
 "nbformat": 4,
 "nbformat_minor": 2
}
