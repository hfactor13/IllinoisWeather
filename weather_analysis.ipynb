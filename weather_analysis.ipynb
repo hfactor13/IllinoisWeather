{
 "cells": [
  {
   "cell_type": "markdown",
   "metadata": {},
   "source": [
    "# Exploratory Data Analysis of Weather in Illinois"
   ]
  },
  {
   "cell_type": "code",
   "execution_count": 1,
   "metadata": {},
   "outputs": [],
   "source": [
    "# Machine learning library\n",
    "from sklearn.ensemble import HistGradientBoostingRegressor\n",
    "from sklearn.model_selection import train_test_split\n",
    "from sklearn.metrics import mean_squared_error\n",
    "\n",
    "# DataFrame library\n",
    "import pandas as pd\n",
    "\n",
    "# Array library\n",
    "import numpy as np\n",
    "\n",
    "# Plotting library\n",
    "import matplotlib.pyplot as plt\n"
   ]
  },
  {
   "cell_type": "code",
   "execution_count": 2,
   "metadata": {},
   "outputs": [
    {
     "name": "stdout",
     "output_type": "stream",
     "text": [
      "<class 'pandas.core.frame.DataFrame'>\n",
      "RangeIndex: 19102488 entries, 0 to 19102487\n",
      "Data columns (total 10 columns):\n",
      " #   Column     Dtype  \n",
      "---  ------     -----  \n",
      " 0   id         string \n",
      " 1   date       string \n",
      " 2   time       string \n",
      " 3   element    string \n",
      " 4   value      float64\n",
      " 5   qflag      string \n",
      " 6   latitude   float64\n",
      " 7   longitude  float64\n",
      " 8   name       string \n",
      " 9   elevation  float64\n",
      "dtypes: float64(4), string(6)\n",
      "memory usage: 1.4 GB\n"
     ]
    }
   ],
   "source": [
    "# Loads the data based on the desired data types and columns\n",
    "raw_weather_data = pd.read_parquet(\"./data/raw_weather.parquet\", engine = \"pyarrow\")\n",
    "raw_weather_data.info()"
   ]
  },
  {
   "cell_type": "code",
   "execution_count": 3,
   "metadata": {},
   "outputs": [
    {
     "data": {
      "text/plain": [
       "<StringArray>\n",
       "[<NA>, 'I', 'L', 'D', 'S', 'O', 'W', 'K', 'X', 'G', 'M', 'Z', 'N', 'T', 'R']\n",
       "Length: 15, dtype: string"
      ]
     },
     "execution_count": 3,
     "metadata": {},
     "output_type": "execute_result"
    }
   ],
   "source": [
    "# The qflag represents quality of the measurement (we want the rows that don't have quality issues which is denoted <NA>)\n",
    "raw_weather_data[\"qflag\"].unique()"
   ]
  },
  {
   "cell_type": "code",
   "execution_count": 4,
   "metadata": {},
   "outputs": [
    {
     "data": {
      "text/plain": [
       "<StringArray>\n",
       "['PRCP', 'SN32', 'SN52', 'SNOW', 'SNWD', 'SX32', 'SX52', 'TMAX', 'TMIN',\n",
       " 'TOBS', 'WT01', 'WT03', 'WT04', 'WT06', 'WESD', 'WESF', 'WT11', 'WDF5',\n",
       " 'WSFG', 'DAPR', 'TAVG', 'MDPR', 'AWND', 'WSF2', 'WSF5', 'WT05', 'WDF2',\n",
       " 'WT02', 'WT08', 'EVAP', 'WDMV', 'WT18', 'PGTM', 'WDFG', 'MNPN', 'WT14',\n",
       " 'MXPN', 'MDSF', 'MDEV', 'WT16', 'WT15', 'DAEV', 'WT07', 'WT09', 'MDWM',\n",
       " 'WT17', 'DASF', 'DAWM', 'SX53', 'SN53', 'FMTM', 'TSUN', 'WT10', 'WT13',\n",
       " 'RHAV', 'ADPT', 'ASLP', 'ASTP', 'RHMX', 'AWBT', 'RHMN', 'ACSH', 'WSF1',\n",
       " 'WDF1', 'WT19', 'WV03', 'ACMH', 'WT21', 'WT22', 'WV20', 'SN12', 'SX12',\n",
       " 'PSUN', 'SX03', 'SN02', 'SX02', 'SN03', 'WV18', 'WV01']\n",
       "Length: 79, dtype: string"
      ]
     },
     "execution_count": 4,
     "metadata": {},
     "output_type": "execute_result"
    }
   ],
   "source": [
    "# Unique elements to gather data from\n",
    "# See the following website for more details https://docs.opendata.aws/noaa-ghcn-pds/readme.html#:~:text=SNWD%20%3D%20Snow%20depth%20(mm),temperature%20(tenths%20of%20degrees%20C)\n",
    "raw_weather_data[\"element\"].unique()"
   ]
  },
  {
   "cell_type": "code",
   "execution_count": 5,
   "metadata": {},
   "outputs": [
    {
     "data": {
      "application/vnd.microsoft.datawrangler.viewer.v0+json": {
       "columns": [
        {
         "name": "element",
         "rawType": "string",
         "type": "string"
        },
        {
         "name": "element",
         "rawType": "int64",
         "type": "integer"
        }
       ],
       "ref": "9acf36ef-eb10-4dd9-b5f7-a85122bf0206",
       "rows": [
        [
         "WV01",
         "1"
        ],
        [
         "WV18",
         "1"
        ],
        [
         "PSUN",
         "2"
        ],
        [
         "WT10",
         "13"
        ],
        [
         "WV20",
         "19"
        ],
        [
         "SX12",
         "30"
        ],
        [
         "SN12",
         "30"
        ],
        [
         "DASF",
         "42"
        ],
        [
         "MDSF",
         "127"
        ],
        [
         "WT21",
         "377"
        ],
        [
         "WT15",
         "433"
        ],
        [
         "WT19",
         "555"
        ],
        [
         "SN53",
         "567"
        ],
        [
         "SX53",
         "567"
        ],
        [
         "WV03",
         "580"
        ],
        [
         "WT17",
         "621"
        ],
        [
         "MDWM",
         "643"
        ],
        [
         "DAWM",
         "643"
        ],
        [
         "WT22",
         "710"
        ],
        [
         "MDEV",
         "723"
        ],
        [
         "DAEV",
         "723"
        ],
        [
         "WT09",
         "783"
        ],
        [
         "WT07",
         "831"
        ],
        [
         "WT14",
         "3094"
        ],
        [
         "SN03",
         "4276"
        ],
        [
         "SX03",
         "4287"
        ],
        [
         "SN02",
         "4473"
        ],
        [
         "SX02",
         "4476"
        ],
        [
         "WT11",
         "6424"
        ],
        [
         "WT18",
         "6762"
        ],
        [
         "WT05",
         "7177"
        ],
        [
         "WT02",
         "8471"
        ],
        [
         "WT04",
         "8576"
        ],
        [
         "WT06",
         "8707"
        ],
        [
         "ACMH",
         "10488"
        ],
        [
         "ACSH",
         "10493"
        ],
        [
         "WDF1",
         "10493"
        ],
        [
         "WSF1",
         "10494"
        ],
        [
         "WT13",
         "16402"
        ],
        [
         "MXPN",
         "16662"
        ],
        [
         "MNPN",
         "16779"
        ],
        [
         "WDFG",
         "16996"
        ],
        [
         "ASLP",
         "17234"
        ],
        [
         "ASTP",
         "17234"
        ],
        [
         "ADPT",
         "17254"
        ],
        [
         "AWBT",
         "17254"
        ],
        [
         "RHMX",
         "17322"
        ],
        [
         "RHAV",
         "17322"
        ],
        [
         "RHMN",
         "17322"
        ],
        [
         "WT16",
         "20313"
        ]
       ],
       "shape": {
        "columns": 1,
        "rows": 79
       }
      },
      "text/plain": [
       "element\n",
       "WV01          1\n",
       "WV18          1\n",
       "PSUN          2\n",
       "WT10         13\n",
       "WV20         19\n",
       "         ...   \n",
       "TMIN    1678986\n",
       "TMAX    1679778\n",
       "SNWD    2695417\n",
       "SNOW    3969024\n",
       "PRCP    5189380\n",
       "Name: element, Length: 79, dtype: int64"
      ]
     },
     "execution_count": 5,
     "metadata": {},
     "output_type": "execute_result"
    }
   ],
   "source": [
    "# Counts the total number of occurrences of an element for each element\n",
    "element_count = raw_weather_data.groupby(\"element\")[\"element\"].count().sort_values()\n",
    "element_count"
   ]
  },
  {
   "cell_type": "code",
   "execution_count": 6,
   "metadata": {},
   "outputs": [
    {
     "data": {
      "text/plain": [
       "2005"
      ]
     },
     "execution_count": 6,
     "metadata": {},
     "output_type": "execute_result"
    }
   ],
   "source": [
    "# Number of stations in Illinois\n",
    "num_of_stations = raw_weather_data[\"name\"].nunique()\n",
    "num_of_stations"
   ]
  },
  {
   "cell_type": "code",
   "execution_count": 7,
   "metadata": {},
   "outputs": [
    {
     "data": {
      "text/plain": [
       "(19102488, 10)"
      ]
     },
     "execution_count": 7,
     "metadata": {},
     "output_type": "execute_result"
    }
   ],
   "source": [
    "raw_weather_data.shape"
   ]
  },
  {
   "cell_type": "code",
   "execution_count": 8,
   "metadata": {},
   "outputs": [],
   "source": [
    "# Replaces all nan values with \"0000\"\n",
    "raw_weather_data[\"time\"] = raw_weather_data[\"time\"].fillna(\"0000\")"
   ]
  },
  {
   "cell_type": "code",
   "execution_count": 9,
   "metadata": {},
   "outputs": [
    {
     "data": {
      "text/plain": [
       "array([4])"
      ]
     },
     "execution_count": 9,
     "metadata": {},
     "output_type": "execute_result"
    }
   ],
   "source": [
    "# Verifies how many unique length characters there was in the \"time\" column\n",
    "# There should only be one of length 4 characters to be able to parse into datetime format\n",
    "np.sort(raw_weather_data[\"time\"].apply(len).unique())"
   ]
  },
  {
   "cell_type": "code",
   "execution_count": 10,
   "metadata": {},
   "outputs": [],
   "source": [
    "# Adds a seconds placeholder for parsing\n",
    "raw_weather_data[\"time\"] = raw_weather_data[\"time\"].apply(lambda x: f\"{x[:-2]}:{x[-2:]}:00\")\n",
    "\n",
    "# Converts string format to datetime format for the time column\n",
    "raw_weather_data[\"time\"] = pd.to_timedelta(raw_weather_data[\"time\"])"
   ]
  },
  {
   "cell_type": "code",
   "execution_count": 11,
   "metadata": {},
   "outputs": [
    {
     "data": {
      "application/vnd.microsoft.datawrangler.viewer.v0+json": {
       "columns": [
        {
         "name": "index",
         "rawType": "int64",
         "type": "integer"
        },
        {
         "name": "id",
         "rawType": "string",
         "type": "string"
        },
        {
         "name": "date",
         "rawType": "datetime64[ns]",
         "type": "datetime"
        },
        {
         "name": "element",
         "rawType": "string",
         "type": "string"
        },
        {
         "name": "value",
         "rawType": "float64",
         "type": "float"
        },
        {
         "name": "latitude",
         "rawType": "float64",
         "type": "float"
        },
        {
         "name": "longitude",
         "rawType": "float64",
         "type": "float"
        },
        {
         "name": "name",
         "rawType": "string",
         "type": "string"
        },
        {
         "name": "elevation",
         "rawType": "float64",
         "type": "float"
        }
       ],
       "ref": "7a1491b9-72b9-4ad2-b00c-3094ad1d82bd",
       "rows": [
        [
         "0",
         "USC00112344",
         "2007-05-13 07:00:00",
         "PRCP",
         "0.0",
         "38.4628",
         "-88.9433",
         "DIX",
         "60.20635000000001"
        ],
        [
         "1",
         "USC00118932",
         "2007-12-07 14:00:00",
         "PRCP",
         "23.0",
         "38.2133",
         "-89.085",
         "WALTONVILLE",
         "51.11798000000001"
        ],
        [
         "2",
         "USC00116753",
         "2007-05-10 07:00:00",
         "PRCP",
         "0.0",
         "41.3497",
         "-89.1075",
         "PERU",
         "63.388920000000006"
        ],
        [
         "3",
         "USC00110993",
         "2007-04-06 06:00:00",
         "PRCP",
         "0.0",
         "37.1275",
         "-88.6531",
         "BROOKPORT DAM 52",
         "33.006859999999996"
        ],
        [
         "4",
         "USC00118990",
         "2007-06-15 07:00:00",
         "PRCP",
         "0.0",
         "40.6994",
         "-89.4478",
         "WASHINGTON 2 W",
         "75.49580999999999"
        ],
        [
         "5",
         "USC00110231",
         "2007-11-20 07:00:00",
         "PRCP",
         "0.0",
         "39.69",
         "-88.2925",
         "ARCOLA",
         "67.9167"
        ],
        [
         "6",
         "USC00117859",
         "2007-12-15 07:00:00",
         "PRCP",
         "234.0",
         "37.6978",
         "-88.1336",
         "SHAWNEETOWN OLD TOWN",
         "35.00827"
        ],
        [
         "7",
         "USC00114816",
         "2007-06-20 06:00:00",
         "PRCP",
         "0.0",
         "41.7953",
         "-87.8708",
         "LA GRANGE",
         "65.91529"
        ],
        [
         "8",
         "USC00119002",
         "2007-05-11 07:00:00",
         "PRCP",
         "51.0",
         "38.27",
         "-90.2331",
         "WATERLOO 6SW",
         "73.00225"
        ],
        [
         "9",
         "USC00116897",
         "2007-04-28 21:00:00",
         "PRCP",
         "0.0",
         "42.0344",
         "-89.6072",
         "POLO 5NW",
         "85.60128999999999"
        ],
        [
         "10",
         "USC00116610",
         "2007-05-18 07:00:00",
         "PRCP",
         "0.0",
         "39.6186",
         "-87.6672",
         "PARIS STP",
         "64.89818000000001"
        ],
        [
         "11",
         "USC00115292",
         "2007-05-14 07:00:00",
         "PRCP",
         "0.0",
         "40.1858",
         "-88.3981",
         "MAHOMET",
         "70.50869000000002"
        ],
        [
         "12",
         "USC00110211",
         "2007-10-28 08:00:00",
         "PRCP",
         "0.0",
         "42.4483",
         "-90.0517",
         "APPLE RVR CANYON ST PK",
         "81.99219000000001"
        ],
        [
         "13",
         "USC00110500",
         "2007-09-10 08:00:00",
         "PRCP",
         "0.0",
         "39.1811",
         "-88.7828",
         "BEECHER CITY",
         "60.79693"
        ],
        [
         "14",
         "USC00110761",
         "2007-10-11 08:00:00",
         "PRCP",
         "0.0",
         "40.4961",
         "-88.9994",
         "BLOOMINGTON WTR WKS",
         "76.61135"
        ],
        [
         "15",
         "USC00114078",
         "2007-10-30 18:00:00",
         "PRCP",
         "0.0",
         "39.1397",
         "-88.1906",
         "HIDALGO 3SW",
         "50.00244"
        ],
        [
         "16",
         "USC00113879",
         "2007-08-11 07:00:00",
         "PRCP",
         "0.0",
         "37.7408",
         "-88.5244",
         "HARRISBURG",
         "36.51753"
        ],
        [
         "17",
         "USC00112854",
         "2007-11-20 07:00:00",
         "PRCP",
         "0.0",
         "40.7122",
         "-89.2611",
         "EUREKA",
         "79.99078000000002"
        ],
        [
         "18",
         "USC00114805",
         "2007-07-04 17:00:00",
         "PRCP",
         "23.0",
         "41.0186",
         "-89.4153",
         "LACON",
         "45.80276"
        ],
        [
         "19",
         "USC00114833",
         "2007-05-03 08:00:00",
         "PRCP",
         "46.0",
         "39.7578",
         "-89.6044",
         "LAKE SPRINGFIELD",
         "58.10651000000001"
        ],
        [
         "20",
         "USC00110993",
         "2007-06-08 06:00:00",
         "PRCP",
         "0.0",
         "37.1275",
         "-88.6531",
         "BROOKPORT DAM 52",
         "33.006859999999996"
        ],
        [
         "21",
         "USC00110306",
         "2007-09-12 06:00:00",
         "PRCP",
         "0.0",
         "39.9275",
         "-89.7964",
         "ATHENS 4SW",
         "59.418910000000004"
        ],
        [
         "22",
         "USC00116849",
         "2007-07-26 07:00:00",
         "PRCP",
         "0.0",
         "41.6386",
         "-88.1881",
         "PLAINFIELD 3 NE",
         "61.518750000000004"
        ],
        [
         "23",
         "USC00110072",
         "2007-06-14 06:00:00",
         "PRCP",
         "0.0",
         "41.2069",
         "-90.7419",
         "ALEDO",
         "73.39596999999999"
        ],
        [
         "24",
         "USC00113106",
         "2007-02-07 07:00:00",
         "PRCP",
         "0.0",
         "38.6781",
         "-88.4797",
         "FLORA",
         "48.09946"
        ],
        [
         "25",
         "USC00110803",
         "2007-04-05 07:00:00",
         "PRCP",
         "0.0",
         "41.1758",
         "-87.9353",
         "BOURBONNAIS 3NW",
         "65.81686"
        ],
        [
         "26",
         "USC00117487",
         "2007-06-01 07:00:00",
         "PRCP",
         "0.0",
         "37.4469",
         "-88.3061",
         "ELIZABETHTOWN",
         "36.18943"
        ],
        [
         "27",
         "USC00115493",
         "2007-01-05 08:00:00",
         "PRCP",
         "3.0",
         "42.3097",
         "-88.2533",
         "MCHENRY STRATTON LOCK/DAM",
         "73.59283"
        ],
        [
         "28",
         "USC00119469",
         "2007-05-31 06:00:00",
         "PRCP",
         "10.0",
         "41.1831",
         "-90.3167",
         "WOODHULL",
         "81.50004"
        ],
        [
         "29",
         "USC00112048",
         "2007-03-21 07:00:00",
         "PRCP",
         "155.0",
         "42.2611",
         "-88.3953",
         "CRYSTAL LAKE 4NW",
         "93.11478000000001"
        ],
        [
         "30",
         "USC00118491",
         "2007-06-29 07:00:00",
         "PRCP",
         "155.0",
         "39.5225",
         "-89.2636",
         "TAYLORVILLE 2SE",
         "61.71561"
        ],
        [
         "31",
         "USC00117354",
         "2007-02-08 06:00:00",
         "PRCP",
         "0.0",
         "41.9117",
         "-89.0708",
         "ROCHELLE",
         "77.49722"
        ],
        [
         "32",
         "USC00117187",
         "2007-12-06 08:00:00",
         "PRCP",
         "0.0",
         "38.0406",
         "-88.9883",
         "REND LAKE DAM",
         "45.50747"
        ],
        [
         "33",
         "USC00116080",
         "2007-05-13 08:00:00",
         "PRCP",
         "0.0",
         "41.1925",
         "-91.0575",
         "NEW BOSTON DAM 17",
         "54.694269999999996"
        ],
        [
         "34",
         "USW00093809",
         "2007-05-21 07:00:00",
         "PRCP",
         "0.0",
         "37.0422",
         "-89.1856",
         "CAIRO 3N",
         "31.300740000000005"
        ],
        [
         "35",
         "USC00119002",
         "2007-05-17 07:00:00",
         "PRCP",
         "0.0",
         "38.27",
         "-90.2331",
         "WATERLOO 6SW",
         "73.00225"
        ],
        [
         "36",
         "USC00117487",
         "2007-12-02 07:00:00",
         "PRCP",
         "20.0",
         "37.4469",
         "-88.3061",
         "ELIZABETHTOWN",
         "36.18943"
        ],
        [
         "37",
         "USC00111420",
         "2007-09-21 06:00:00",
         "PRCP",
         "0.0",
         "41.3978",
         "-88.2819",
         "CHANNAHON DRESDEN ISL DAM",
         "50.49459"
        ],
        [
         "38",
         "USC00116897",
         "2007-01-17 21:00:00",
         "PRCP",
         "0.0",
         "42.0344",
         "-89.6072",
         "POLO 5NW",
         "85.60128999999999"
        ],
        [
         "39",
         "USC00115372",
         "2007-04-13 06:00:00",
         "PRCP",
         "8.0",
         "41.3283",
         "-88.7533",
         "MARSEILLES LOCK/DAM",
         "48.69004"
        ],
        [
         "40",
         "USC00114078",
         "2007-11-11 18:00:00",
         "PRCP",
         "10.0",
         "39.1397",
         "-88.1906",
         "HIDALGO 3SW",
         "50.00244"
        ],
        [
         "41",
         "USC00119816",
         "2007-11-13 08:00:00",
         "PRCP",
         "97.0",
         "40.7781",
         "-90.0072",
         "YATES CITY",
         "66.89959"
        ],
        [
         "42",
         "USC00113455",
         "2007-03-10 07:00:00",
         "PRCP",
         "51.0",
         "40.8822",
         "-91.0233",
         "GLADSTONE L/D 18",
         "53.8084"
        ],
        [
         "43",
         "USC00111212",
         "2007-05-12 07:00:00",
         "PRCP",
         "74.0",
         "38.5989",
         "-87.9739",
         "CALHOUN 5 SE",
         "43.99821"
        ],
        [
         "44",
         "USC00116025",
         "2007-08-23 07:00:00",
         "PRCP",
         "0.0",
         "39.3536",
         "-88.5",
         "NEOGA 4NW",
         "64.30760000000001"
        ],
        [
         "45",
         "USC00115825",
         "2007-11-29 08:00:00",
         "PRCP",
         "0.0",
         "41.3714",
         "-88.4333",
         "MORRIS 1NW",
         "52.39757"
        ],
        [
         "46",
         "USC00116025",
         "2007-01-09 07:00:00",
         "PRCP",
         "0.0",
         "39.3536",
         "-88.5",
         "NEOGA 4NW",
         "64.30760000000001"
        ],
        [
         "47",
         "USC00110211",
         "2007-01-14 08:00:00",
         "PRCP",
         "0.0",
         "42.4483",
         "-90.0517",
         "APPLE RVR CANYON ST PK",
         "81.99219000000001"
        ],
        [
         "48",
         "USC00116973",
         "2007-12-22 08:00:00",
         "PRCP",
         "0.0",
         "38.0886",
         "-90.1619",
         "PRAIRIE DU ROCHER 3 WNW",
         "40.389109999999995"
        ],
        [
         "49",
         "USC00119480",
         "2007-03-18 07:00:00",
         "PRCP",
         "0.0",
         "42.3628",
         "-88.5314",
         "WOODSTOCK 5NW",
         "94.68966000000002"
        ]
       ],
       "shape": {
        "columns": 8,
        "rows": 19042758
       }
      },
      "text/html": [
       "<div>\n",
       "<style scoped>\n",
       "    .dataframe tbody tr th:only-of-type {\n",
       "        vertical-align: middle;\n",
       "    }\n",
       "\n",
       "    .dataframe tbody tr th {\n",
       "        vertical-align: top;\n",
       "    }\n",
       "\n",
       "    .dataframe thead th {\n",
       "        text-align: right;\n",
       "    }\n",
       "</style>\n",
       "<table border=\"1\" class=\"dataframe\">\n",
       "  <thead>\n",
       "    <tr style=\"text-align: right;\">\n",
       "      <th></th>\n",
       "      <th>id</th>\n",
       "      <th>date</th>\n",
       "      <th>element</th>\n",
       "      <th>value</th>\n",
       "      <th>latitude</th>\n",
       "      <th>longitude</th>\n",
       "      <th>name</th>\n",
       "      <th>elevation</th>\n",
       "    </tr>\n",
       "  </thead>\n",
       "  <tbody>\n",
       "    <tr>\n",
       "      <th>0</th>\n",
       "      <td>USC00112344</td>\n",
       "      <td>2007-05-13 07:00:00</td>\n",
       "      <td>PRCP</td>\n",
       "      <td>0.0</td>\n",
       "      <td>38.4628</td>\n",
       "      <td>-88.9433</td>\n",
       "      <td>DIX</td>\n",
       "      <td>60.20635</td>\n",
       "    </tr>\n",
       "    <tr>\n",
       "      <th>1</th>\n",
       "      <td>USC00118932</td>\n",
       "      <td>2007-12-07 14:00:00</td>\n",
       "      <td>PRCP</td>\n",
       "      <td>23.0</td>\n",
       "      <td>38.2133</td>\n",
       "      <td>-89.0850</td>\n",
       "      <td>WALTONVILLE</td>\n",
       "      <td>51.11798</td>\n",
       "    </tr>\n",
       "    <tr>\n",
       "      <th>2</th>\n",
       "      <td>USC00116753</td>\n",
       "      <td>2007-05-10 07:00:00</td>\n",
       "      <td>PRCP</td>\n",
       "      <td>0.0</td>\n",
       "      <td>41.3497</td>\n",
       "      <td>-89.1075</td>\n",
       "      <td>PERU</td>\n",
       "      <td>63.38892</td>\n",
       "    </tr>\n",
       "    <tr>\n",
       "      <th>3</th>\n",
       "      <td>USC00110993</td>\n",
       "      <td>2007-04-06 06:00:00</td>\n",
       "      <td>PRCP</td>\n",
       "      <td>0.0</td>\n",
       "      <td>37.1275</td>\n",
       "      <td>-88.6531</td>\n",
       "      <td>BROOKPORT DAM 52</td>\n",
       "      <td>33.00686</td>\n",
       "    </tr>\n",
       "    <tr>\n",
       "      <th>4</th>\n",
       "      <td>USC00118990</td>\n",
       "      <td>2007-06-15 07:00:00</td>\n",
       "      <td>PRCP</td>\n",
       "      <td>0.0</td>\n",
       "      <td>40.6994</td>\n",
       "      <td>-89.4478</td>\n",
       "      <td>WASHINGTON 2 W</td>\n",
       "      <td>75.49581</td>\n",
       "    </tr>\n",
       "    <tr>\n",
       "      <th>...</th>\n",
       "      <td>...</td>\n",
       "      <td>...</td>\n",
       "      <td>...</td>\n",
       "      <td>...</td>\n",
       "      <td>...</td>\n",
       "      <td>...</td>\n",
       "      <td>...</td>\n",
       "      <td>...</td>\n",
       "    </tr>\n",
       "    <tr>\n",
       "      <th>19102483</th>\n",
       "      <td>USC00112223</td>\n",
       "      <td>2016-11-26 07:00:00</td>\n",
       "      <td>PRCP</td>\n",
       "      <td>0.0</td>\n",
       "      <td>41.9342</td>\n",
       "      <td>-88.7756</td>\n",
       "      <td>DE KALB</td>\n",
       "      <td>87.79956</td>\n",
       "    </tr>\n",
       "    <tr>\n",
       "      <th>19102484</th>\n",
       "      <td>USC00112223</td>\n",
       "      <td>2016-01-28 00:00:00</td>\n",
       "      <td>SNWD</td>\n",
       "      <td>25.0</td>\n",
       "      <td>41.9342</td>\n",
       "      <td>-88.7756</td>\n",
       "      <td>DE KALB</td>\n",
       "      <td>87.79956</td>\n",
       "    </tr>\n",
       "    <tr>\n",
       "      <th>19102485</th>\n",
       "      <td>USC00112223</td>\n",
       "      <td>2016-06-14 00:00:00</td>\n",
       "      <td>WDMV</td>\n",
       "      <td>45.0</td>\n",
       "      <td>41.9342</td>\n",
       "      <td>-88.7756</td>\n",
       "      <td>DE KALB</td>\n",
       "      <td>87.79956</td>\n",
       "    </tr>\n",
       "    <tr>\n",
       "      <th>19102486</th>\n",
       "      <td>USC00112223</td>\n",
       "      <td>2016-06-25 07:00:00</td>\n",
       "      <td>EVAP</td>\n",
       "      <td>66.0</td>\n",
       "      <td>41.9342</td>\n",
       "      <td>-88.7756</td>\n",
       "      <td>DE KALB</td>\n",
       "      <td>87.79956</td>\n",
       "    </tr>\n",
       "    <tr>\n",
       "      <th>19102487</th>\n",
       "      <td>USC00112223</td>\n",
       "      <td>2016-06-24 00:00:00</td>\n",
       "      <td>MXPN</td>\n",
       "      <td>322.0</td>\n",
       "      <td>41.9342</td>\n",
       "      <td>-88.7756</td>\n",
       "      <td>DE KALB</td>\n",
       "      <td>87.79956</td>\n",
       "    </tr>\n",
       "  </tbody>\n",
       "</table>\n",
       "<p>19042758 rows × 8 columns</p>\n",
       "</div>"
      ],
      "text/plain": [
       "                   id                date element  value  latitude  longitude  \\\n",
       "0         USC00112344 2007-05-13 07:00:00    PRCP    0.0   38.4628   -88.9433   \n",
       "1         USC00118932 2007-12-07 14:00:00    PRCP   23.0   38.2133   -89.0850   \n",
       "2         USC00116753 2007-05-10 07:00:00    PRCP    0.0   41.3497   -89.1075   \n",
       "3         USC00110993 2007-04-06 06:00:00    PRCP    0.0   37.1275   -88.6531   \n",
       "4         USC00118990 2007-06-15 07:00:00    PRCP    0.0   40.6994   -89.4478   \n",
       "...               ...                 ...     ...    ...       ...        ...   \n",
       "19102483  USC00112223 2016-11-26 07:00:00    PRCP    0.0   41.9342   -88.7756   \n",
       "19102484  USC00112223 2016-01-28 00:00:00    SNWD   25.0   41.9342   -88.7756   \n",
       "19102485  USC00112223 2016-06-14 00:00:00    WDMV   45.0   41.9342   -88.7756   \n",
       "19102486  USC00112223 2016-06-25 07:00:00    EVAP   66.0   41.9342   -88.7756   \n",
       "19102487  USC00112223 2016-06-24 00:00:00    MXPN  322.0   41.9342   -88.7756   \n",
       "\n",
       "                      name  elevation  \n",
       "0                      DIX   60.20635  \n",
       "1              WALTONVILLE   51.11798  \n",
       "2                     PERU   63.38892  \n",
       "3         BROOKPORT DAM 52   33.00686  \n",
       "4           WASHINGTON 2 W   75.49581  \n",
       "...                    ...        ...  \n",
       "19102483           DE KALB   87.79956  \n",
       "19102484           DE KALB   87.79956  \n",
       "19102485           DE KALB   87.79956  \n",
       "19102486           DE KALB   87.79956  \n",
       "19102487           DE KALB   87.79956  \n",
       "\n",
       "[19042758 rows x 8 columns]"
      ]
     },
     "execution_count": 11,
     "metadata": {},
     "output_type": "execute_result"
    }
   ],
   "source": [
    "# Converts the string format to a datetime format for the date column\n",
    "raw_weather_data[\"date\"] = pd.to_datetime(raw_weather_data[\"date\"])\n",
    "\n",
    "# Combines date and time into the same column which can be accessed via object attributes\n",
    "raw_weather_data[\"date\"] = raw_weather_data[\"date\"] + raw_weather_data[\"time\"]\n",
    "\n",
    "# Drops the redundant time column\n",
    "raw_weather_data.drop(columns = [\"time\"], inplace = True)\n",
    "\n",
    "# Drops the rows that have quality issues\n",
    "raw_weather_data = raw_weather_data[raw_weather_data[\"qflag\"].isna()].drop(columns = [\"qflag\"])\n",
    "\n",
    "# Converts elevation in tenths of meters to feet\n",
    "raw_weather_data[\"elevation\"] = raw_weather_data[\"elevation\"] / 10 * 3.281\n",
    "raw_weather_data = raw_weather_data[raw_weather_data[\"date\"].dt.year < 2024]\n",
    "raw_weather_data"
   ]
  },
  {
   "cell_type": "code",
   "execution_count": 12,
   "metadata": {},
   "outputs": [],
   "source": [
    "# Elements of interest\n",
    "''' Minimum Temperature (units: tenths of Celsisus) (TMIN), Maximum Temperature (units: tenths of Celsisus) (TMAX), \n",
    "    Observed Temperature (units: tenths of Celsisus) (TOBS),\n",
    "    Total Precipitation (PRCP), Total Snowfall (SNOW), Snow Depth (SNWD),\n",
    "    and Total Sunshine (units: minutes) (TSUN)\n",
    "'''\n",
    "desired_elements = [\"TMIN\", \"TMAX\", \"TOBS\", \"TSUN\", \"PRCP\", \"SNOW\", \"SNWD\"]\n",
    "desired_data = raw_weather_data[raw_weather_data[\"element\"].isin(desired_elements)]"
   ]
  },
  {
   "cell_type": "code",
   "execution_count": 13,
   "metadata": {},
   "outputs": [
    {
     "data": {
      "application/vnd.microsoft.datawrangler.viewer.v0+json": {
       "columns": [
        {
         "name": "index",
         "rawType": "int64",
         "type": "integer"
        },
        {
         "name": "date",
         "rawType": "datetime64[ns]",
         "type": "datetime"
        },
        {
         "name": "id",
         "rawType": "string",
         "type": "string"
        },
        {
         "name": "name",
         "rawType": "string",
         "type": "string"
        },
        {
         "name": "latitude",
         "rawType": "float64",
         "type": "float"
        },
        {
         "name": "longitude",
         "rawType": "float64",
         "type": "float"
        },
        {
         "name": "elevation",
         "rawType": "float64",
         "type": "float"
        },
        {
         "name": "PRCP",
         "rawType": "float64",
         "type": "float"
        },
        {
         "name": "SNOW",
         "rawType": "float64",
         "type": "float"
        },
        {
         "name": "SNWD",
         "rawType": "float64",
         "type": "float"
        },
        {
         "name": "TMAX",
         "rawType": "float64",
         "type": "float"
        },
        {
         "name": "TMIN",
         "rawType": "float64",
         "type": "float"
        },
        {
         "name": "TOBS",
         "rawType": "float64",
         "type": "float"
        },
        {
         "name": "TSUN",
         "rawType": "float64",
         "type": "float"
        }
       ],
       "ref": "f1c5c63c-54f2-4578-97d7-6ce83934120d",
       "rows": [
        [
         "0",
         "1990-01-01 00:00:00",
         "USC00110055",
         "ALBION",
         "38.3778",
         "-88.0569",
         "52.98815",
         null,
         "0.0",
         "0.0",
         null,
         null,
         null,
         null
        ],
        [
         "1",
         "1990-01-01 00:00:00",
         "USC00110072",
         "ALEDO",
         "41.2069",
         "-90.7419",
         "73.39596999999999",
         null,
         "0.0",
         "0.0",
         null,
         null,
         null,
         null
        ],
        [
         "2",
         "1990-01-01 00:00:00",
         "USC00110187",
         "ANNA 4 N",
         "37.5222",
         "-89.2486",
         "59.287670000000006",
         null,
         "28.0",
         "0.0",
         null,
         null,
         null,
         null
        ],
        [
         "3",
         "1990-01-01 00:00:00",
         "USC00110203",
         "ANTIOCH",
         "42.4811",
         "-88.0994",
         "75.00366",
         null,
         "0.0",
         "0.0",
         null,
         null,
         null,
         null
        ],
        [
         "4",
         "1990-01-01 00:00:00",
         "USC00110338",
         "AURORA WATER",
         "41.7803",
         "-88.3092",
         "67.49017",
         null,
         "0.0",
         "51.0",
         null,
         null,
         null,
         null
        ],
        [
         "5",
         "1990-01-01 00:00:00",
         "USC00110356",
         "AVON",
         "40.6633",
         "-90.4447",
         "64.01231",
         null,
         "0.0",
         "0.0",
         null,
         null,
         null,
         null
        ],
        [
         "6",
         "1990-01-01 00:00:00",
         "USC00110442",
         "BARRINGTON 3SW",
         "42.1153",
         "-88.1639",
         "88.29171000000001",
         null,
         "0.0",
         "51.0",
         null,
         null,
         null,
         null
        ],
        [
         "7",
         "1990-01-01 00:00:00",
         "USC00110492",
         "BEARDSTOWN",
         "40.0164",
         "-90.4278",
         "44.687219999999996",
         null,
         "0.0",
         "0.0",
         null,
         null,
         null,
         null
        ],
        [
         "8",
         "1990-01-01 00:00:00",
         "USC00110598",
         "BENTLEY",
         "40.3444",
         "-91.1125",
         "64.99661",
         null,
         "0.0",
         "0.0",
         null,
         null,
         null,
         null
        ],
        [
         "9",
         "1990-01-01 00:00:00",
         "USC00110608",
         "BENTON 2 N",
         "38.0336",
         "-88.9203",
         "44.490359999999995",
         null,
         "0.0",
         "0.0",
         null,
         null,
         null,
         null
        ],
        [
         "10",
         "1990-01-01 00:00:00",
         "USC00110761",
         "BLOOMINGTON WTR WKS",
         "40.4961",
         "-88.9994",
         "76.61135",
         null,
         "0.0",
         "0.0",
         null,
         null,
         null,
         null
        ],
        [
         "11",
         "1990-01-01 00:00:00",
         "USC00110868",
         "BRADFORD 3SSE",
         "41.1461",
         "-89.6289",
         "77.98937000000001",
         null,
         "0.0",
         "0.0",
         null,
         null,
         null,
         null
        ],
        [
         "12",
         "1990-01-01 00:00:00",
         "USC00110993",
         "BROOKPORT DAM 52",
         "37.1275",
         "-88.6531",
         "33.006859999999996",
         null,
         "0.0",
         "0.0",
         null,
         null,
         null,
         null
        ],
        [
         "13",
         "1990-01-01 00:00:00",
         "USC00111160",
         "CAHOKIA",
         "38.5669",
         "-90.1942",
         "39.99539000000001",
         null,
         "0.0",
         "0.0",
         null,
         null,
         null,
         null
        ],
        [
         "14",
         "1990-01-01 00:00:00",
         "USC00111250",
         "CANTON",
         "40.5378",
         "-90.0422",
         "64.01231",
         null,
         "0.0",
         "0.0",
         null,
         null,
         null,
         null
        ],
        [
         "15",
         "1990-01-01 00:00:00",
         "USC00111265",
         "CARBONDALE SEWAGE PLT",
         "37.7308",
         "-89.1658",
         "39.01109",
         null,
         null,
         "25.0",
         null,
         null,
         null,
         null
        ],
        [
         "16",
         "1990-01-01 00:00:00",
         "USC00111280",
         "CARLINVILLE",
         "39.2881",
         "-89.8697",
         "61.09222",
         null,
         "0.0",
         "0.0",
         null,
         null,
         null,
         null
        ],
        [
         "17",
         "1990-01-01 00:00:00",
         "USC00111296",
         "CARMI 6 NW",
         "38.1497",
         "-88.2244",
         "39.01109",
         null,
         "0.0",
         "0.0",
         null,
         null,
         null,
         null
        ],
        [
         "18",
         "1990-01-01 00:00:00",
         "USC00111302",
         "CARMI 4 NE",
         "38.0825",
         "-88.1733",
         "38.61737",
         null,
         "0.0",
         "0.0",
         null,
         null,
         null,
         null
        ],
        [
         "19",
         "1990-01-01 00:00:00",
         "USC00111329",
         "CASEY",
         "39.2975",
         "-87.9747",
         "62.0109",
         null,
         "0.0",
         "0.0",
         null,
         null,
         null,
         null
        ],
        [
         "20",
         "1990-01-01 00:00:00",
         "USC00111386",
         "CENTRALIA",
         "38.5556",
         "-89.1297",
         "48.49318",
         null,
         "0.0",
         "0.0",
         null,
         null,
         null,
         null
        ],
        [
         "21",
         "1990-01-01 00:00:00",
         "USC00111420",
         "CHANNAHON DRESDEN ISL DAM",
         "41.3978",
         "-88.2819",
         "50.49459",
         null,
         "0.0",
         "0.0",
         null,
         null,
         null,
         null
        ],
        [
         "22",
         "1990-01-01 00:00:00",
         "USC00111436",
         "CHARLESTON",
         "39.4761",
         "-88.1653",
         "70.01654",
         null,
         "0.0",
         "0.0",
         null,
         null,
         null,
         null
        ],
        [
         "23",
         "1990-01-01 00:00:00",
         "USC00111475",
         "CHENOA",
         "40.7408",
         "-88.7181",
         "71.91951999999999",
         null,
         "0.0",
         "76.0",
         null,
         null,
         null,
         null
        ],
        [
         "24",
         "1990-01-01 00:00:00",
         "USC00111491",
         "CHESTER",
         "37.9019",
         "-89.8308",
         "39.01109",
         null,
         "0.0",
         "0.0",
         null,
         null,
         null,
         null
        ],
        [
         "25",
         "1990-01-01 00:00:00",
         "USC00111497",
         "CHICAGO BOTANIC GARDEN",
         "42.14",
         "-87.7853",
         "62.9952",
         null,
         "18.0",
         "76.0",
         null,
         null,
         null,
         null
        ],
        [
         "26",
         "1990-01-01 00:00:00",
         "USC00111577",
         "CHICAGO MIDWAY AP 3SW",
         "41.7372",
         "-87.7772",
         "62.0109",
         null,
         "0.0",
         "25.0",
         null,
         null,
         null,
         null
        ],
        [
         "27",
         "1990-01-01 00:00:00",
         "USC00111627",
         "CHILLICOTHE",
         "40.9153",
         "-89.5031",
         "53.51311",
         null,
         "0.0",
         "0.0",
         null,
         null,
         null,
         null
        ],
        [
         "28",
         "1990-01-01 00:00:00",
         "USC00111700",
         "CLAY CITY 6SSE",
         "38.6058",
         "-88.3117",
         "45.99962",
         null,
         "0.0",
         "0.0",
         null,
         null,
         null,
         null
        ],
        [
         "29",
         "1990-01-01 00:00:00",
         "USC00111743",
         "CLINTON 1SSW",
         "40.1375",
         "-88.9672",
         "69.49158",
         null,
         "0.0",
         "0.0",
         null,
         null,
         null,
         null
        ],
        [
         "30",
         "1990-01-01 00:00:00",
         "USC00112140",
         "DANVILLE",
         "40.1392",
         "-87.6478",
         "55.51452",
         null,
         "5.0",
         "25.0",
         null,
         null,
         null,
         null
        ],
        [
         "31",
         "1990-01-01 00:00:00",
         "USC00112145",
         "DANVILLE SEWAGE PLT",
         "40.1019",
         "-87.5961",
         "53.611540000000005",
         null,
         "0.0",
         "0.0",
         null,
         null,
         null,
         null
        ],
        [
         "32",
         "1990-01-01 00:00:00",
         "USC00112193",
         "DECATUR WTP",
         "39.8289",
         "-88.9506",
         "63.913880000000006",
         "0.0",
         "0.0",
         "0.0",
         "0.0",
         "-50.0",
         null,
         null
        ],
        [
         "33",
         "1990-01-01 00:00:00",
         "USC00112332",
         "DIONA 3 SW",
         "39.35",
         "-88.1667",
         "60.993790000000004",
         null,
         "0.0",
         "0.0",
         null,
         null,
         null,
         null
        ],
        [
         "34",
         "1990-01-01 00:00:00",
         "USC00112348",
         "DIXON WWTP",
         "41.835",
         "-89.5136",
         "64.99661",
         "0.0",
         "3.0",
         "51.0",
         "-17.0",
         "-39.0",
         "-33.0",
         null
        ],
        [
         "35",
         "1990-01-01 00:00:00",
         "USC00112353",
         "DIXON SPRINGS AGRIC CTR",
         "37.4389",
         "-88.6678",
         "52.692859999999996",
         null,
         "0.0",
         "0.0",
         null,
         null,
         null,
         null
        ],
        [
         "36",
         "1990-01-01 00:00:00",
         "USC00112483",
         "DU QUOIN 4 SE",
         "37.9878",
         "-89.1931",
         "41.99680000000001",
         null,
         "0.0",
         "0.0",
         null,
         null,
         null,
         null
        ],
        [
         "37",
         "1990-01-01 00:00:00",
         "USC00112687",
         "EFFINGHAM 3SW",
         "39.1181",
         "-88.6244",
         "62.50305",
         "0.0",
         "0.0",
         "0.0",
         null,
         null,
         null,
         null
        ],
        [
         "38",
         "1990-01-01 00:00:00",
         "USC00112736",
         "ELGIN WATER",
         "42.0628",
         "-88.2861",
         "74.51151",
         null,
         "0.0",
         "102.0",
         null,
         null,
         null,
         null
        ],
        [
         "39",
         "1990-01-01 00:00:00",
         "USC00112745",
         "ELIZABETH",
         "42.3161",
         "-90.2269",
         "67.49017",
         null,
         "0.0",
         "0.0",
         null,
         null,
         null,
         null
        ],
        [
         "40",
         "1990-01-01 00:00:00",
         "USC00112923",
         "FAIRBURY WWTP",
         "40.7517",
         "-88.4989",
         "66.99802",
         null,
         "0.0",
         "0.0",
         null,
         null,
         null,
         null
        ],
        [
         "41",
         "1990-01-01 00:00:00",
         "USC00112931",
         "1 ENE FAIRFIELD",
         "38.3906",
         "-88.3503",
         "46.19648000000001",
         null,
         "0.0",
         "0.0",
         null,
         null,
         null,
         null
        ],
        [
         "42",
         "1990-01-01 00:00:00",
         "USC00112993",
         "FARMER CITY 3W",
         "40.2539",
         "-88.7075",
         "74.51151",
         null,
         "0.0",
         "0.0",
         null,
         null,
         null,
         null
        ],
        [
         "43",
         "1990-01-01 00:00:00",
         "USC00113109",
         "FLORA 5 NW",
         "38.7103",
         "-88.5758",
         "50.00244",
         null,
         "0.0",
         "0.0",
         null,
         null,
         null,
         null
        ],
        [
         "44",
         "1990-01-01 00:00:00",
         "USC00113262",
         "FREEPORT WWTP",
         "42.2972",
         "-89.6039",
         "75.00366",
         null,
         "0.0",
         "0.0",
         null,
         null,
         null,
         null
        ],
        [
         "45",
         "1990-01-01 00:00:00",
         "USC00113290",
         "FULTON L&D #13",
         "41.8978",
         "-90.1544",
         "59.18924",
         null,
         "0.0",
         "0.0",
         null,
         null,
         null,
         null
        ],
        [
         "46",
         "1990-01-01 00:00:00",
         "USC00113312",
         "GALENA",
         "42.3989",
         "-90.44",
         "64.01231",
         null,
         "0.0",
         "76.0",
         null,
         null,
         null,
         null
        ],
        [
         "47",
         "1990-01-01 00:00:00",
         "USC00113320",
         "GALESBURG",
         "40.9464",
         "-90.3856",
         "76.1192",
         null,
         "0.0",
         "51.0",
         null,
         null,
         null,
         null
        ],
        [
         "48",
         "1990-01-01 00:00:00",
         "USC00113335",
         "GALVA",
         "41.1739",
         "-90.035",
         "81.00789",
         null,
         "0.0",
         "51.0",
         null,
         null,
         null,
         null
        ],
        [
         "49",
         "1990-01-01 00:00:00",
         "USC00113369",
         "GEBHARD WOODS SP",
         "41.35",
         "-88.4333",
         "50.49459",
         null,
         "0.0",
         null,
         null,
         null,
         null,
         null
        ]
       ],
       "shape": {
        "columns": 13,
        "rows": 7568529
       }
      },
      "text/html": [
       "<div>\n",
       "<style scoped>\n",
       "    .dataframe tbody tr th:only-of-type {\n",
       "        vertical-align: middle;\n",
       "    }\n",
       "\n",
       "    .dataframe tbody tr th {\n",
       "        vertical-align: top;\n",
       "    }\n",
       "\n",
       "    .dataframe thead th {\n",
       "        text-align: right;\n",
       "    }\n",
       "</style>\n",
       "<table border=\"1\" class=\"dataframe\">\n",
       "  <thead>\n",
       "    <tr style=\"text-align: right;\">\n",
       "      <th>element</th>\n",
       "      <th>date</th>\n",
       "      <th>id</th>\n",
       "      <th>name</th>\n",
       "      <th>latitude</th>\n",
       "      <th>longitude</th>\n",
       "      <th>elevation</th>\n",
       "      <th>PRCP</th>\n",
       "      <th>SNOW</th>\n",
       "      <th>SNWD</th>\n",
       "      <th>TMAX</th>\n",
       "      <th>TMIN</th>\n",
       "      <th>TOBS</th>\n",
       "      <th>TSUN</th>\n",
       "    </tr>\n",
       "  </thead>\n",
       "  <tbody>\n",
       "    <tr>\n",
       "      <th>0</th>\n",
       "      <td>1990-01-01 00:00:00</td>\n",
       "      <td>USC00110055</td>\n",
       "      <td>ALBION</td>\n",
       "      <td>38.3778</td>\n",
       "      <td>-88.0569</td>\n",
       "      <td>52.98815</td>\n",
       "      <td>NaN</td>\n",
       "      <td>0.0</td>\n",
       "      <td>0.0</td>\n",
       "      <td>NaN</td>\n",
       "      <td>NaN</td>\n",
       "      <td>NaN</td>\n",
       "      <td>NaN</td>\n",
       "    </tr>\n",
       "    <tr>\n",
       "      <th>1</th>\n",
       "      <td>1990-01-01 00:00:00</td>\n",
       "      <td>USC00110072</td>\n",
       "      <td>ALEDO</td>\n",
       "      <td>41.2069</td>\n",
       "      <td>-90.7419</td>\n",
       "      <td>73.39597</td>\n",
       "      <td>NaN</td>\n",
       "      <td>0.0</td>\n",
       "      <td>0.0</td>\n",
       "      <td>NaN</td>\n",
       "      <td>NaN</td>\n",
       "      <td>NaN</td>\n",
       "      <td>NaN</td>\n",
       "    </tr>\n",
       "    <tr>\n",
       "      <th>2</th>\n",
       "      <td>1990-01-01 00:00:00</td>\n",
       "      <td>USC00110187</td>\n",
       "      <td>ANNA 4 N</td>\n",
       "      <td>37.5222</td>\n",
       "      <td>-89.2486</td>\n",
       "      <td>59.28767</td>\n",
       "      <td>NaN</td>\n",
       "      <td>28.0</td>\n",
       "      <td>0.0</td>\n",
       "      <td>NaN</td>\n",
       "      <td>NaN</td>\n",
       "      <td>NaN</td>\n",
       "      <td>NaN</td>\n",
       "    </tr>\n",
       "    <tr>\n",
       "      <th>3</th>\n",
       "      <td>1990-01-01 00:00:00</td>\n",
       "      <td>USC00110203</td>\n",
       "      <td>ANTIOCH</td>\n",
       "      <td>42.4811</td>\n",
       "      <td>-88.0994</td>\n",
       "      <td>75.00366</td>\n",
       "      <td>NaN</td>\n",
       "      <td>0.0</td>\n",
       "      <td>0.0</td>\n",
       "      <td>NaN</td>\n",
       "      <td>NaN</td>\n",
       "      <td>NaN</td>\n",
       "      <td>NaN</td>\n",
       "    </tr>\n",
       "    <tr>\n",
       "      <th>4</th>\n",
       "      <td>1990-01-01 00:00:00</td>\n",
       "      <td>USC00110338</td>\n",
       "      <td>AURORA WATER</td>\n",
       "      <td>41.7803</td>\n",
       "      <td>-88.3092</td>\n",
       "      <td>67.49017</td>\n",
       "      <td>NaN</td>\n",
       "      <td>0.0</td>\n",
       "      <td>51.0</td>\n",
       "      <td>NaN</td>\n",
       "      <td>NaN</td>\n",
       "      <td>NaN</td>\n",
       "      <td>NaN</td>\n",
       "    </tr>\n",
       "    <tr>\n",
       "      <th>...</th>\n",
       "      <td>...</td>\n",
       "      <td>...</td>\n",
       "      <td>...</td>\n",
       "      <td>...</td>\n",
       "      <td>...</td>\n",
       "      <td>...</td>\n",
       "      <td>...</td>\n",
       "      <td>...</td>\n",
       "      <td>...</td>\n",
       "      <td>...</td>\n",
       "      <td>...</td>\n",
       "      <td>...</td>\n",
       "      <td>...</td>\n",
       "    </tr>\n",
       "    <tr>\n",
       "      <th>7568524</th>\n",
       "      <td>2023-12-31 17:00:00</td>\n",
       "      <td>USC00114012</td>\n",
       "      <td>HENNEPIN</td>\n",
       "      <td>41.2542</td>\n",
       "      <td>-89.3378</td>\n",
       "      <td>51.51170</td>\n",
       "      <td>8.0</td>\n",
       "      <td>NaN</td>\n",
       "      <td>0.0</td>\n",
       "      <td>44.0</td>\n",
       "      <td>-22.0</td>\n",
       "      <td>6.0</td>\n",
       "      <td>NaN</td>\n",
       "    </tr>\n",
       "    <tr>\n",
       "      <th>7568525</th>\n",
       "      <td>2023-12-31 18:00:00</td>\n",
       "      <td>USC00111250</td>\n",
       "      <td>CANTON</td>\n",
       "      <td>40.5378</td>\n",
       "      <td>-90.0422</td>\n",
       "      <td>64.01231</td>\n",
       "      <td>0.0</td>\n",
       "      <td>NaN</td>\n",
       "      <td>0.0</td>\n",
       "      <td>NaN</td>\n",
       "      <td>NaN</td>\n",
       "      <td>NaN</td>\n",
       "      <td>NaN</td>\n",
       "    </tr>\n",
       "    <tr>\n",
       "      <th>7568526</th>\n",
       "      <td>2023-12-31 18:00:00</td>\n",
       "      <td>USC00111436</td>\n",
       "      <td>CHARLESTON</td>\n",
       "      <td>39.4761</td>\n",
       "      <td>-88.1653</td>\n",
       "      <td>70.01654</td>\n",
       "      <td>0.0</td>\n",
       "      <td>NaN</td>\n",
       "      <td>0.0</td>\n",
       "      <td>44.0</td>\n",
       "      <td>-11.0</td>\n",
       "      <td>-6.0</td>\n",
       "      <td>NaN</td>\n",
       "    </tr>\n",
       "    <tr>\n",
       "      <th>7568527</th>\n",
       "      <td>2023-12-31 18:00:00</td>\n",
       "      <td>USC00114198</td>\n",
       "      <td>HOOPESTON</td>\n",
       "      <td>40.4664</td>\n",
       "      <td>-87.6850</td>\n",
       "      <td>71.00084</td>\n",
       "      <td>0.0</td>\n",
       "      <td>NaN</td>\n",
       "      <td>0.0</td>\n",
       "      <td>17.0</td>\n",
       "      <td>-22.0</td>\n",
       "      <td>-6.0</td>\n",
       "      <td>NaN</td>\n",
       "    </tr>\n",
       "    <tr>\n",
       "      <th>7568528</th>\n",
       "      <td>2023-12-31 22:00:00</td>\n",
       "      <td>USC00112483</td>\n",
       "      <td>DU QUOIN 4 SE</td>\n",
       "      <td>37.9878</td>\n",
       "      <td>-89.1931</td>\n",
       "      <td>41.99680</td>\n",
       "      <td>0.0</td>\n",
       "      <td>NaN</td>\n",
       "      <td>NaN</td>\n",
       "      <td>72.0</td>\n",
       "      <td>33.0</td>\n",
       "      <td>33.0</td>\n",
       "      <td>NaN</td>\n",
       "    </tr>\n",
       "  </tbody>\n",
       "</table>\n",
       "<p>7568529 rows × 13 columns</p>\n",
       "</div>"
      ],
      "text/plain": [
       "element                date           id           name  latitude  longitude  \\\n",
       "0       1990-01-01 00:00:00  USC00110055         ALBION   38.3778   -88.0569   \n",
       "1       1990-01-01 00:00:00  USC00110072          ALEDO   41.2069   -90.7419   \n",
       "2       1990-01-01 00:00:00  USC00110187       ANNA 4 N   37.5222   -89.2486   \n",
       "3       1990-01-01 00:00:00  USC00110203        ANTIOCH   42.4811   -88.0994   \n",
       "4       1990-01-01 00:00:00  USC00110338   AURORA WATER   41.7803   -88.3092   \n",
       "...                     ...          ...            ...       ...        ...   \n",
       "7568524 2023-12-31 17:00:00  USC00114012       HENNEPIN   41.2542   -89.3378   \n",
       "7568525 2023-12-31 18:00:00  USC00111250         CANTON   40.5378   -90.0422   \n",
       "7568526 2023-12-31 18:00:00  USC00111436     CHARLESTON   39.4761   -88.1653   \n",
       "7568527 2023-12-31 18:00:00  USC00114198      HOOPESTON   40.4664   -87.6850   \n",
       "7568528 2023-12-31 22:00:00  USC00112483  DU QUOIN 4 SE   37.9878   -89.1931   \n",
       "\n",
       "element  elevation  PRCP  SNOW  SNWD  TMAX  TMIN  TOBS  TSUN  \n",
       "0         52.98815   NaN   0.0   0.0   NaN   NaN   NaN   NaN  \n",
       "1         73.39597   NaN   0.0   0.0   NaN   NaN   NaN   NaN  \n",
       "2         59.28767   NaN  28.0   0.0   NaN   NaN   NaN   NaN  \n",
       "3         75.00366   NaN   0.0   0.0   NaN   NaN   NaN   NaN  \n",
       "4         67.49017   NaN   0.0  51.0   NaN   NaN   NaN   NaN  \n",
       "...            ...   ...   ...   ...   ...   ...   ...   ...  \n",
       "7568524   51.51170   8.0   NaN   0.0  44.0 -22.0   6.0   NaN  \n",
       "7568525   64.01231   0.0   NaN   0.0   NaN   NaN   NaN   NaN  \n",
       "7568526   70.01654   0.0   NaN   0.0  44.0 -11.0  -6.0   NaN  \n",
       "7568527   71.00084   0.0   NaN   0.0  17.0 -22.0  -6.0   NaN  \n",
       "7568528   41.99680   0.0   NaN   NaN  72.0  33.0  33.0   NaN  \n",
       "\n",
       "[7568529 rows x 13 columns]"
      ]
     },
     "execution_count": 13,
     "metadata": {},
     "output_type": "execute_result"
    }
   ],
   "source": [
    "# Pivots the element values into columns which are more useful in column format\n",
    "desired_weather_pivot = desired_data.pivot_table(\n",
    "    index=[\"date\", \"id\", \"name\", \"latitude\", \"longitude\", \"elevation\"], \n",
    "    columns=\"element\", \n",
    "    values=\"value\"\n",
    ").reset_index()\n",
    "desired_weather_pivot"
   ]
  },
  {
   "cell_type": "code",
   "execution_count": 14,
   "metadata": {},
   "outputs": [],
   "source": [
    "# Define a mapping of element columns to their conversion formulas\n",
    "conversion_map = {\n",
    "    \"TMIN\": lambda x: 9/5 * (x / 10) + 32,   # tenths of Celsius to Fahrenheit\n",
    "    \"TMAX\": lambda x: 9/5 * (x / 10) + 32,\n",
    "    \"TOBS\": lambda x: 9/5 * (x / 10) + 32,\n",
    "    \"PRCP\": lambda x: (x / 10) * (1 / 25.4), # tenths of mm to inches\n",
    "    \"SNOW\": lambda x: x * (1 / 25.4),\n",
    "    \"SNWD\": lambda x: x * (1 / 25.4),\n",
    "}\n",
    "\n",
    "for col, func in conversion_map.items():\n",
    "    if col in desired_weather_pivot.columns:\n",
    "        desired_weather_pivot[col] = func(desired_weather_pivot[col])"
   ]
  },
  {
   "cell_type": "markdown",
   "metadata": {},
   "source": [
    "### This cell below plots the minimum, maximum, and observed temperatures."
   ]
  },
  {
   "cell_type": "markdown",
   "metadata": {},
   "source": [
    "#### Note: ``pandas.DataFrame.plot`` attribute can be used to shorten the time to make a plot. The tradeoff is less customization of the plot."
   ]
  },
  {
   "cell_type": "code",
   "execution_count": 15,
   "metadata": {},
   "outputs": [
    {
     "data": {
      "image/png": "[encoded data removed]",
      "text/plain": [
       "<Figure size 640x480 with 1 Axes>"
      ]
     },
     "metadata": {},
     "output_type": "display_data"
    }
   ],
   "source": [
    "# Resamples the temperature data annually and calculate the mean\n",
    "temp_data = desired_weather_pivot[[\"date\", \"TMIN\", \"TMAX\", \"TOBS\"]]\n",
    "temp_data.set_index(\"date\", inplace = True)\n",
    "resampled_temp_data = temp_data.resample(\"YE\").mean()\n",
    "resampled_temp_data.index = pd.to_datetime(resampled_temp_data.index)\n",
    "tmin_label = r\"$T_{min}$\"\n",
    "tmax_label = r\"$T_{max}$\"\n",
    "tobs_label = r\"$T_{obs}$\"\n",
    "\n",
    "# Plots TMIN, TMAX, and TOBS\n",
    "plt.plot(resampled_temp_data.index.year, resampled_temp_data[\"TMIN\"], label = tmin_label)\n",
    "plt.plot(resampled_temp_data.index.year, resampled_temp_data[\"TMAX\"], label = tmax_label)\n",
    "plt.plot(resampled_temp_data.index.year, resampled_temp_data[\"TOBS\"], label = tobs_label)\n",
    "\n",
    "# Sets labels and title\n",
    "plt.xlabel(\"Year\")\n",
    "plt.ylabel(r\"Temperature ($\\circ F$)\")\n",
    "plt.title(\"Temperatures in Illinois Sampled Annually from 1990 to 2023\")\n",
    "\n",
    "# Displays the legend\n",
    "plt.legend(loc=\"best\")\n",
    "\n",
    "# Fixes the x-range so that it's between 1990 and 2023\n",
    "plt.xlim(resampled_temp_data.index.year.min(), resampled_temp_data.index.year.max())\n",
    "\n",
    "# Displays the grid\n",
    "plt.grid()\n",
    "\n",
    "# Displays minor ticks\n",
    "plt.minorticks_on()\n",
    "\n",
    "# Shows the plot\n",
    "plt.show()"
   ]
  },
  {
   "cell_type": "code",
   "execution_count": 16,
   "metadata": {},
   "outputs": [],
   "source": [
    "def moving_avg_plot(df, window_interval):\n",
    "    \"\"\"Creates a moving average plot specified at a certain interval.\n",
    "\n",
    "    Args:\n",
    "        df (pandas.DataFrame): dataframe used to preform the rolling average plot\n",
    "        window_interval (int): the amount of years we want to do the rolling average over (i.e. 1 year, 3 years, etc.)\n",
    "    \"\"\"\n",
    "    \n",
    "\n",
    "    moving_average_temp_data = df.rolling(window = window_interval, min_periods = 1).mean()\n",
    "\n",
    "\n",
    "    # Plots TMIN, TMAX, and TOBS with moving averages\n",
    "    plt.plot(moving_average_temp_data.index.year, moving_average_temp_data[\"TMIN\"], label = tmin_label)\n",
    "    plt.plot(moving_average_temp_data.index.year, moving_average_temp_data[\"TMAX\"], label = tmax_label)\n",
    "    plt.plot(moving_average_temp_data.index.year, moving_average_temp_data[\"TOBS\"], label = tobs_label)\n",
    "\n",
    "\n",
    "    # Sets labels and title\n",
    "    plt.xlabel(\"Year\")\n",
    "    plt.ylabel(r\"Temperature ($\\circ$F)\")\n",
    "    plt.title(f\"{window_interval}-Year Moving Average of Temperatures in Illinois\")\n",
    "\n",
    "    # Displays the legend\n",
    "    plt.legend(loc=\"best\")\n",
    "\n",
    "    # Adjusts the x-range to accommodate the moving average calculation\n",
    "    plt.xlim(moving_average_temp_data.index.year.min(), moving_average_temp_data.index.year.max())\n",
    "\n",
    "    # Displays the grid\n",
    "    plt.grid()\n",
    "\n",
    "    # Displays minor ticks\n",
    "    plt.minorticks_on()\n",
    "\n",
    "    # Shows the plot\n",
    "    plt.show()"
   ]
  },
  {
   "cell_type": "code",
   "execution_count": 17,
   "metadata": {},
   "outputs": [
    {
     "data": {
      "image/png": "[encoded data removed]",
      "text/plain": [
       "<Figure size 640x480 with 1 Axes>"
      ]
     },
     "metadata": {},
     "output_type": "display_data"
    }
   ],
   "source": [
    "moving_avg_plot(resampled_temp_data, 3)"
   ]
  },
  {
   "cell_type": "code",
   "execution_count": 18,
   "metadata": {},
   "outputs": [
    {
     "data": {
      "image/png": "[encoded data removed]",
      "text/plain": [
       "<Figure size 640x480 with 1 Axes>"
      ]
     },
     "metadata": {},
     "output_type": "display_data"
    }
   ],
   "source": [
    "moving_avg_plot(resampled_temp_data, 5)"
   ]
  },
  {
   "cell_type": "markdown",
   "metadata": {},
   "source": [
    "### The cell below plots the temeprature difference for the minimum, maximum, and observed temperatures."
   ]
  },
  {
   "cell_type": "code",
   "execution_count": 19,
   "metadata": {},
   "outputs": [
    {
     "data": {
      "image/png": "[encoded data removed]",
      "text/plain": [
       "<Figure size 1000x600 with 1 Axes>"
      ]
     },
     "metadata": {},
     "output_type": "display_data"
    }
   ],
   "source": [
    "# Plots the temperature gradient (difference) for TMIN, TMAX, TOBS using grouped bars\n",
    "fig, ax = plt.subplots(figsize=(10, 6))\n",
    "width = 0.25\n",
    "years = resampled_temp_data.index.year\n",
    "ax.bar(years - width, resampled_temp_data[\"TMIN\"].diff(), width=width, label=tmin_label)\n",
    "ax.bar(years, resampled_temp_data[\"TMAX\"].diff(), width=width, label=tmax_label)\n",
    "ax.bar(years + width, resampled_temp_data[\"TOBS\"].diff(), width=width, label=tobs_label)\n",
    "ax.set_xlabel(\"Year\")\n",
    "ax.set_ylabel(r\"Temperature Difference ($\\circ F$)\")\n",
    "ax.legend(loc=\"lower left\")\n",
    "ax.set_xlim(years.min(), years.max() + 0.25)\n",
    "ax.set_title(\"Temperature Difference Sampled Annually from 1990 to 2023\")\n",
    "ax.grid()\n",
    "ax.minorticks_on()\n",
    "plt.show()"
   ]
  },
  {
   "cell_type": "code",
   "execution_count": 20,
   "metadata": {},
   "outputs": [
    {
     "data": {
      "text/html": [
       "<style type=\"text/css\">\n",
       "#T_1213d_row0_col0, #T_1213d_row1_col1, #T_1213d_row2_col2, #T_1213d_row3_col3, #T_1213d_row4_col4, #T_1213d_row5_col5, #T_1213d_row6_col6, #T_1213d_row7_col7, #T_1213d_row8_col8, #T_1213d_row9_col9 {\n",
       "  background-color: #b40426;\n",
       "  color: #f1f1f1;\n",
       "}\n",
       "#T_1213d_row0_col1, #T_1213d_row1_col0 {\n",
       "  background-color: #bcd2f7;\n",
       "  color: #000000;\n",
       "}\n",
       "#T_1213d_row0_col2, #T_1213d_row2_col0 {\n",
       "  background-color: #ee8468;\n",
       "  color: #f1f1f1;\n",
       "}\n",
       "#T_1213d_row0_col3, #T_1213d_row2_col3, #T_1213d_row3_col0, #T_1213d_row3_col2 {\n",
       "  background-color: #96b7ff;\n",
       "  color: #000000;\n",
       "}\n",
       "#T_1213d_row0_col4, #T_1213d_row1_col5, #T_1213d_row4_col0, #T_1213d_row5_col1 {\n",
       "  background-color: #a6c4fe;\n",
       "  color: #000000;\n",
       "}\n",
       "#T_1213d_row0_col5, #T_1213d_row5_col0 {\n",
       "  background-color: #c0d4f5;\n",
       "  color: #000000;\n",
       "}\n",
       "#T_1213d_row0_col6, #T_1213d_row6_col0 {\n",
       "  background-color: #7699f6;\n",
       "  color: #f1f1f1;\n",
       "}\n",
       "#T_1213d_row0_col7, #T_1213d_row7_col0 {\n",
       "  background-color: #799cf8;\n",
       "  color: #f1f1f1;\n",
       "}\n",
       "#T_1213d_row0_col8, #T_1213d_row8_col0 {\n",
       "  background-color: #7396f5;\n",
       "  color: #f1f1f1;\n",
       "}\n",
       "#T_1213d_row0_col9, #T_1213d_row9_col0 {\n",
       "  background-color: #b2ccfb;\n",
       "  color: #000000;\n",
       "}\n",
       "#T_1213d_row1_col2, #T_1213d_row2_col1 {\n",
       "  background-color: #afcafc;\n",
       "  color: #000000;\n",
       "}\n",
       "#T_1213d_row1_col3, #T_1213d_row3_col1 {\n",
       "  background-color: #9bbcff;\n",
       "  color: #000000;\n",
       "}\n",
       "#T_1213d_row1_col4, #T_1213d_row1_col7, #T_1213d_row4_col1, #T_1213d_row7_col1 {\n",
       "  background-color: #9dbdff;\n",
       "  color: #000000;\n",
       "}\n",
       "#T_1213d_row1_col6, #T_1213d_row3_col5, #T_1213d_row5_col3, #T_1213d_row6_col1 {\n",
       "  background-color: #98b9ff;\n",
       "  color: #000000;\n",
       "}\n",
       "#T_1213d_row1_col8, #T_1213d_row8_col1 {\n",
       "  background-color: #a1c0ff;\n",
       "  color: #000000;\n",
       "}\n",
       "#T_1213d_row1_col9, #T_1213d_row9_col1 {\n",
       "  background-color: #6687ed;\n",
       "  color: #f1f1f1;\n",
       "}\n",
       "#T_1213d_row2_col4, #T_1213d_row4_col2 {\n",
       "  background-color: #a2c1ff;\n",
       "  color: #000000;\n",
       "}\n",
       "#T_1213d_row2_col5, #T_1213d_row5_col2 {\n",
       "  background-color: #b9d0f9;\n",
       "  color: #000000;\n",
       "}\n",
       "#T_1213d_row2_col6, #T_1213d_row2_col7, #T_1213d_row6_col2, #T_1213d_row7_col2 {\n",
       "  background-color: #7ea1fa;\n",
       "  color: #f1f1f1;\n",
       "}\n",
       "#T_1213d_row2_col8, #T_1213d_row8_col2 {\n",
       "  background-color: #7b9ff9;\n",
       "  color: #f1f1f1;\n",
       "}\n",
       "#T_1213d_row2_col9, #T_1213d_row9_col2 {\n",
       "  background-color: #90b2fe;\n",
       "  color: #000000;\n",
       "}\n",
       "#T_1213d_row3_col4, #T_1213d_row4_col3 {\n",
       "  background-color: #c5d6f2;\n",
       "  color: #000000;\n",
       "}\n",
       "#T_1213d_row3_col6, #T_1213d_row6_col3 {\n",
       "  background-color: #abc8fd;\n",
       "  color: #000000;\n",
       "}\n",
       "#T_1213d_row3_col7, #T_1213d_row7_col3 {\n",
       "  background-color: #bad0f8;\n",
       "  color: #000000;\n",
       "}\n",
       "#T_1213d_row3_col8, #T_1213d_row8_col3 {\n",
       "  background-color: #b1cbfc;\n",
       "  color: #000000;\n",
       "}\n",
       "#T_1213d_row3_col9, #T_1213d_row9_col3 {\n",
       "  background-color: #92b4fe;\n",
       "  color: #000000;\n",
       "}\n",
       "#T_1213d_row4_col5, #T_1213d_row5_col4 {\n",
       "  background-color: #f2cbb7;\n",
       "  color: #000000;\n",
       "}\n",
       "#T_1213d_row4_col6, #T_1213d_row6_col4 {\n",
       "  background-color: #6788ee;\n",
       "  color: #f1f1f1;\n",
       "}\n",
       "#T_1213d_row4_col7, #T_1213d_row4_col8, #T_1213d_row7_col4, #T_1213d_row8_col4 {\n",
       "  background-color: #6b8df0;\n",
       "  color: #f1f1f1;\n",
       "}\n",
       "#T_1213d_row4_col9, #T_1213d_row9_col4 {\n",
       "  background-color: #81a4fb;\n",
       "  color: #f1f1f1;\n",
       "}\n",
       "#T_1213d_row5_col6, #T_1213d_row5_col7, #T_1213d_row6_col5, #T_1213d_row7_col5 {\n",
       "  background-color: #3b4cc0;\n",
       "  color: #f1f1f1;\n",
       "}\n",
       "#T_1213d_row5_col8, #T_1213d_row8_col5 {\n",
       "  background-color: #3e51c5;\n",
       "  color: #f1f1f1;\n",
       "}\n",
       "#T_1213d_row5_col9, #T_1213d_row9_col5 {\n",
       "  background-color: #89acfd;\n",
       "  color: #000000;\n",
       "}\n",
       "#T_1213d_row6_col7, #T_1213d_row7_col6 {\n",
       "  background-color: #c53334;\n",
       "  color: #f1f1f1;\n",
       "}\n",
       "#T_1213d_row6_col8, #T_1213d_row8_col6 {\n",
       "  background-color: #c83836;\n",
       "  color: #f1f1f1;\n",
       "}\n",
       "#T_1213d_row6_col9, #T_1213d_row9_col6 {\n",
       "  background-color: #b6cefa;\n",
       "  color: #000000;\n",
       "}\n",
       "#T_1213d_row7_col8, #T_1213d_row8_col7 {\n",
       "  background-color: #c43032;\n",
       "  color: #f1f1f1;\n",
       "}\n",
       "#T_1213d_row7_col9, #T_1213d_row9_col7 {\n",
       "  background-color: #aec9fc;\n",
       "  color: #000000;\n",
       "}\n",
       "#T_1213d_row8_col9, #T_1213d_row9_col8 {\n",
       "  background-color: #000000;\n",
       "  color: #f1f1f1;\n",
       "}\n",
       "</style>\n",
       "<table id=\"T_1213d\">\n",
       "  <thead>\n",
       "    <tr>\n",
       "      <th class=\"index_name level0\" >element</th>\n",
       "      <th id=\"T_1213d_level0_col0\" class=\"col_heading level0 col0\" >latitude</th>\n",
       "      <th id=\"T_1213d_level0_col1\" class=\"col_heading level0 col1\" >longitude</th>\n",
       "      <th id=\"T_1213d_level0_col2\" class=\"col_heading level0 col2\" >elevation</th>\n",
       "      <th id=\"T_1213d_level0_col3\" class=\"col_heading level0 col3\" >PRCP</th>\n",
       "      <th id=\"T_1213d_level0_col4\" class=\"col_heading level0 col4\" >SNOW</th>\n",
       "      <th id=\"T_1213d_level0_col5\" class=\"col_heading level0 col5\" >SNWD</th>\n",
       "      <th id=\"T_1213d_level0_col6\" class=\"col_heading level0 col6\" >TMAX</th>\n",
       "      <th id=\"T_1213d_level0_col7\" class=\"col_heading level0 col7\" >TMIN</th>\n",
       "      <th id=\"T_1213d_level0_col8\" class=\"col_heading level0 col8\" >TOBS</th>\n",
       "      <th id=\"T_1213d_level0_col9\" class=\"col_heading level0 col9\" >TSUN</th>\n",
       "    </tr>\n",
       "    <tr>\n",
       "      <th class=\"index_name level0\" >element</th>\n",
       "      <th class=\"blank col0\" >&nbsp;</th>\n",
       "      <th class=\"blank col1\" >&nbsp;</th>\n",
       "      <th class=\"blank col2\" >&nbsp;</th>\n",
       "      <th class=\"blank col3\" >&nbsp;</th>\n",
       "      <th class=\"blank col4\" >&nbsp;</th>\n",
       "      <th class=\"blank col5\" >&nbsp;</th>\n",
       "      <th class=\"blank col6\" >&nbsp;</th>\n",
       "      <th class=\"blank col7\" >&nbsp;</th>\n",
       "      <th class=\"blank col8\" >&nbsp;</th>\n",
       "      <th class=\"blank col9\" >&nbsp;</th>\n",
       "    </tr>\n",
       "  </thead>\n",
       "  <tbody>\n",
       "    <tr>\n",
       "      <th id=\"T_1213d_level0_row0\" class=\"row_heading level0 row0\" >latitude</th>\n",
       "      <td id=\"T_1213d_row0_col0\" class=\"data row0 col0\" >1.000000</td>\n",
       "      <td id=\"T_1213d_row0_col1\" class=\"data row0 col1\" >0.144943</td>\n",
       "      <td id=\"T_1213d_row0_col2\" class=\"data row0 col2\" >0.719979</td>\n",
       "      <td id=\"T_1213d_row0_col3\" class=\"data row0 col3\" >-0.014549</td>\n",
       "      <td id=\"T_1213d_row0_col4\" class=\"data row0 col4\" >0.050923</td>\n",
       "      <td id=\"T_1213d_row0_col5\" class=\"data row0 col5\" >0.162038</td>\n",
       "      <td id=\"T_1213d_row0_col6\" class=\"data row0 col6\" >-0.136832</td>\n",
       "      <td id=\"T_1213d_row0_col7\" class=\"data row0 col7\" >-0.125903</td>\n",
       "      <td id=\"T_1213d_row0_col8\" class=\"data row0 col8\" >-0.147935</td>\n",
       "      <td id=\"T_1213d_row0_col9\" class=\"data row0 col9\" >0.104612</td>\n",
       "    </tr>\n",
       "    <tr>\n",
       "      <th id=\"T_1213d_level0_row1\" class=\"row_heading level0 row1\" >longitude</th>\n",
       "      <td id=\"T_1213d_row1_col0\" class=\"data row1 col0\" >0.144943</td>\n",
       "      <td id=\"T_1213d_row1_col1\" class=\"data row1 col1\" >1.000000</td>\n",
       "      <td id=\"T_1213d_row1_col2\" class=\"data row1 col2\" >0.089502</td>\n",
       "      <td id=\"T_1213d_row1_col3\" class=\"data row1 col3\" >0.007380</td>\n",
       "      <td id=\"T_1213d_row1_col4\" class=\"data row1 col4\" >0.013718</td>\n",
       "      <td id=\"T_1213d_row1_col5\" class=\"data row1 col5\" >0.055738</td>\n",
       "      <td id=\"T_1213d_row1_col6\" class=\"data row1 col6\" >0.000609</td>\n",
       "      <td id=\"T_1213d_row1_col7\" class=\"data row1 col7\" >0.012903</td>\n",
       "      <td id=\"T_1213d_row1_col8\" class=\"data row1 col8\" >0.031496</td>\n",
       "      <td id=\"T_1213d_row1_col9\" class=\"data row1 col9\" >-0.201537</td>\n",
       "    </tr>\n",
       "    <tr>\n",
       "      <th id=\"T_1213d_level0_row2\" class=\"row_heading level0 row2\" >elevation</th>\n",
       "      <td id=\"T_1213d_row2_col0\" class=\"data row2 col0\" >0.719979</td>\n",
       "      <td id=\"T_1213d_row2_col1\" class=\"data row2 col1\" >0.089502</td>\n",
       "      <td id=\"T_1213d_row2_col2\" class=\"data row2 col2\" >1.000000</td>\n",
       "      <td id=\"T_1213d_row2_col3\" class=\"data row2 col3\" >-0.010638</td>\n",
       "      <td id=\"T_1213d_row2_col4\" class=\"data row2 col4\" >0.038846</td>\n",
       "      <td id=\"T_1213d_row2_col5\" class=\"data row2 col5\" >0.128173</td>\n",
       "      <td id=\"T_1213d_row2_col6\" class=\"data row2 col6\" >-0.104953</td>\n",
       "      <td id=\"T_1213d_row2_col7\" class=\"data row2 col7\" >-0.102651</td>\n",
       "      <td id=\"T_1213d_row2_col8\" class=\"data row2 col8\" >-0.118238</td>\n",
       "      <td id=\"T_1213d_row2_col9\" class=\"data row2 col9\" >-0.036156</td>\n",
       "    </tr>\n",
       "    <tr>\n",
       "      <th id=\"T_1213d_level0_row3\" class=\"row_heading level0 row3\" >PRCP</th>\n",
       "      <td id=\"T_1213d_row3_col0\" class=\"data row3 col0\" >-0.014549</td>\n",
       "      <td id=\"T_1213d_row3_col1\" class=\"data row3 col1\" >0.007380</td>\n",
       "      <td id=\"T_1213d_row3_col2\" class=\"data row3 col2\" >-0.010638</td>\n",
       "      <td id=\"T_1213d_row3_col3\" class=\"data row3 col3\" >1.000000</td>\n",
       "      <td id=\"T_1213d_row3_col4\" class=\"data row3 col4\" >0.182697</td>\n",
       "      <td id=\"T_1213d_row3_col5\" class=\"data row3 col5\" >-0.003349</td>\n",
       "      <td id=\"T_1213d_row3_col6\" class=\"data row3 col6\" >0.076110</td>\n",
       "      <td id=\"T_1213d_row3_col7\" class=\"data row3 col7\" >0.136577</td>\n",
       "      <td id=\"T_1213d_row3_col8\" class=\"data row3 col8\" >0.098300</td>\n",
       "      <td id=\"T_1213d_row3_col9\" class=\"data row3 col9\" >-0.031371</td>\n",
       "    </tr>\n",
       "    <tr>\n",
       "      <th id=\"T_1213d_level0_row4\" class=\"row_heading level0 row4\" >SNOW</th>\n",
       "      <td id=\"T_1213d_row4_col0\" class=\"data row4 col0\" >0.050923</td>\n",
       "      <td id=\"T_1213d_row4_col1\" class=\"data row4 col1\" >0.013718</td>\n",
       "      <td id=\"T_1213d_row4_col2\" class=\"data row4 col2\" >0.038846</td>\n",
       "      <td id=\"T_1213d_row4_col3\" class=\"data row4 col3\" >0.182697</td>\n",
       "      <td id=\"T_1213d_row4_col4\" class=\"data row4 col4\" >1.000000</td>\n",
       "      <td id=\"T_1213d_row4_col5\" class=\"data row4 col5\" >0.442490</td>\n",
       "      <td id=\"T_1213d_row4_col6\" class=\"data row4 col6\" >-0.197148</td>\n",
       "      <td id=\"T_1213d_row4_col7\" class=\"data row4 col7\" >-0.182236</td>\n",
       "      <td id=\"T_1213d_row4_col8\" class=\"data row4 col8\" >-0.179823</td>\n",
       "      <td id=\"T_1213d_row4_col9\" class=\"data row4 col9\" >-0.096278</td>\n",
       "    </tr>\n",
       "    <tr>\n",
       "      <th id=\"T_1213d_level0_row5\" class=\"row_heading level0 row5\" >SNWD</th>\n",
       "      <td id=\"T_1213d_row5_col0\" class=\"data row5 col0\" >0.162038</td>\n",
       "      <td id=\"T_1213d_row5_col1\" class=\"data row5 col1\" >0.055738</td>\n",
       "      <td id=\"T_1213d_row5_col2\" class=\"data row5 col2\" >0.128173</td>\n",
       "      <td id=\"T_1213d_row5_col3\" class=\"data row5 col3\" >-0.003349</td>\n",
       "      <td id=\"T_1213d_row5_col4\" class=\"data row5 col4\" >0.442490</td>\n",
       "      <td id=\"T_1213d_row5_col5\" class=\"data row5 col5\" >1.000000</td>\n",
       "      <td id=\"T_1213d_row5_col6\" class=\"data row5 col6\" >-0.392554</td>\n",
       "      <td id=\"T_1213d_row5_col7\" class=\"data row5 col7\" >-0.397116</td>\n",
       "      <td id=\"T_1213d_row5_col8\" class=\"data row5 col8\" >-0.376976</td>\n",
       "      <td id=\"T_1213d_row5_col9\" class=\"data row5 col9\" >-0.061934</td>\n",
       "    </tr>\n",
       "    <tr>\n",
       "      <th id=\"T_1213d_level0_row6\" class=\"row_heading level0 row6\" >TMAX</th>\n",
       "      <td id=\"T_1213d_row6_col0\" class=\"data row6 col0\" >-0.136832</td>\n",
       "      <td id=\"T_1213d_row6_col1\" class=\"data row6 col1\" >0.000609</td>\n",
       "      <td id=\"T_1213d_row6_col2\" class=\"data row6 col2\" >-0.104953</td>\n",
       "      <td id=\"T_1213d_row6_col3\" class=\"data row6 col3\" >0.076110</td>\n",
       "      <td id=\"T_1213d_row6_col4\" class=\"data row6 col4\" >-0.197148</td>\n",
       "      <td id=\"T_1213d_row6_col5\" class=\"data row6 col5\" >-0.392554</td>\n",
       "      <td id=\"T_1213d_row6_col6\" class=\"data row6 col6\" >1.000000</td>\n",
       "      <td id=\"T_1213d_row6_col7\" class=\"data row6 col7\" >0.932444</td>\n",
       "      <td id=\"T_1213d_row6_col8\" class=\"data row6 col8\" >0.920741</td>\n",
       "      <td id=\"T_1213d_row6_col9\" class=\"data row6 col9\" >0.118476</td>\n",
       "    </tr>\n",
       "    <tr>\n",
       "      <th id=\"T_1213d_level0_row7\" class=\"row_heading level0 row7\" >TMIN</th>\n",
       "      <td id=\"T_1213d_row7_col0\" class=\"data row7 col0\" >-0.125903</td>\n",
       "      <td id=\"T_1213d_row7_col1\" class=\"data row7 col1\" >0.012903</td>\n",
       "      <td id=\"T_1213d_row7_col2\" class=\"data row7 col2\" >-0.102651</td>\n",
       "      <td id=\"T_1213d_row7_col3\" class=\"data row7 col3\" >0.136577</td>\n",
       "      <td id=\"T_1213d_row7_col4\" class=\"data row7 col4\" >-0.182236</td>\n",
       "      <td id=\"T_1213d_row7_col5\" class=\"data row7 col5\" >-0.397116</td>\n",
       "      <td id=\"T_1213d_row7_col6\" class=\"data row7 col6\" >0.932444</td>\n",
       "      <td id=\"T_1213d_row7_col7\" class=\"data row7 col7\" >1.000000</td>\n",
       "      <td id=\"T_1213d_row7_col8\" class=\"data row7 col8\" >0.939128</td>\n",
       "      <td id=\"T_1213d_row7_col9\" class=\"data row7 col9\" >0.087115</td>\n",
       "    </tr>\n",
       "    <tr>\n",
       "      <th id=\"T_1213d_level0_row8\" class=\"row_heading level0 row8\" >TOBS</th>\n",
       "      <td id=\"T_1213d_row8_col0\" class=\"data row8 col0\" >-0.147935</td>\n",
       "      <td id=\"T_1213d_row8_col1\" class=\"data row8 col1\" >0.031496</td>\n",
       "      <td id=\"T_1213d_row8_col2\" class=\"data row8 col2\" >-0.118238</td>\n",
       "      <td id=\"T_1213d_row8_col3\" class=\"data row8 col3\" >0.098300</td>\n",
       "      <td id=\"T_1213d_row8_col4\" class=\"data row8 col4\" >-0.179823</td>\n",
       "      <td id=\"T_1213d_row8_col5\" class=\"data row8 col5\" >-0.376976</td>\n",
       "      <td id=\"T_1213d_row8_col6\" class=\"data row8 col6\" >0.920741</td>\n",
       "      <td id=\"T_1213d_row8_col7\" class=\"data row8 col7\" >0.939128</td>\n",
       "      <td id=\"T_1213d_row8_col8\" class=\"data row8 col8\" >1.000000</td>\n",
       "      <td id=\"T_1213d_row8_col9\" class=\"data row8 col9\" >nan</td>\n",
       "    </tr>\n",
       "    <tr>\n",
       "      <th id=\"T_1213d_level0_row9\" class=\"row_heading level0 row9\" >TSUN</th>\n",
       "      <td id=\"T_1213d_row9_col0\" class=\"data row9 col0\" >0.104612</td>\n",
       "      <td id=\"T_1213d_row9_col1\" class=\"data row9 col1\" >-0.201537</td>\n",
       "      <td id=\"T_1213d_row9_col2\" class=\"data row9 col2\" >-0.036156</td>\n",
       "      <td id=\"T_1213d_row9_col3\" class=\"data row9 col3\" >-0.031371</td>\n",
       "      <td id=\"T_1213d_row9_col4\" class=\"data row9 col4\" >-0.096278</td>\n",
       "      <td id=\"T_1213d_row9_col5\" class=\"data row9 col5\" >-0.061934</td>\n",
       "      <td id=\"T_1213d_row9_col6\" class=\"data row9 col6\" >0.118476</td>\n",
       "      <td id=\"T_1213d_row9_col7\" class=\"data row9 col7\" >0.087115</td>\n",
       "      <td id=\"T_1213d_row9_col8\" class=\"data row9 col8\" >nan</td>\n",
       "      <td id=\"T_1213d_row9_col9\" class=\"data row9 col9\" >1.000000</td>\n",
       "    </tr>\n",
       "  </tbody>\n",
       "</table>\n"
      ],
      "text/plain": [
       "<pandas.io.formats.style.Styler at 0x39e484ad0>"
      ]
     },
     "execution_count": 20,
     "metadata": {},
     "output_type": "execute_result"
    }
   ],
   "source": [
    "# Correlation matrix for the desired weather pivot table\n",
    "desired_weather_pivot.corr(numeric_only = True).style.background_gradient(cmap = \"coolwarm\", axis = None)"
   ]
  },
  {
   "cell_type": "code",
   "execution_count": 21,
   "metadata": {},
   "outputs": [],
   "source": [
    "forecast = desired_weather_pivot.drop(columns = [\"id\", \"name\"]).copy()"
   ]
  },
  {
   "cell_type": "code",
   "execution_count": 22,
   "metadata": {},
   "outputs": [],
   "source": [
    "forecast['date'] = forecast['date'].astype('int64')"
   ]
  },
  {
   "cell_type": "code",
   "execution_count": 23,
   "metadata": {},
   "outputs": [],
   "source": [
    "models = {\n",
    "    'lower': HistGradientBoostingRegressor(loss='quantile', quantile = 0.05),\n",
    "    'median': HistGradientBoostingRegressor(loss='quantile', quantile = 0.5),\n",
    "    'upper': HistGradientBoostingRegressor(loss='quantile', quantile = 0.95),\n",
    "}"
   ]
  },
  {
   "cell_type": "code",
   "execution_count": 24,
   "metadata": {},
   "outputs": [],
   "source": [
    "# Remove rows where TOBS is NaN\n",
    "forecast = forecast.dropna(subset=['TOBS'])\n",
    "\n",
    "# Split the data into training and testing sets\n",
    "X = forecast.drop(columns=['TOBS']).values\n",
    "y = forecast['TOBS'].values\n",
    "X_train, X_test, y_train, y_test = train_test_split(X, y, test_size = 0.3, random_state = 0)\n",
    "for key in models:\n",
    "    models[key].fit(X_train, y_train)"
   ]
  },
  {
   "cell_type": "code",
   "execution_count": 25,
   "metadata": {},
   "outputs": [],
   "source": [
    "# Make predictions using the models\n",
    "y_lower = models['lower'].predict(X_test)\n",
    "y_pred = models['median'].predict(X_test)\n",
    "y_upper = models['upper'].predict(X_test)"
   ]
  },
  {
   "cell_type": "code",
   "execution_count": 29,
   "metadata": {},
   "outputs": [
    {
     "data": {
      "image/png": "[encoded data removed]",
      "text/plain": [
       "<Figure size 1200x600 with 1 Axes>"
      ]
     },
     "metadata": {},
     "output_type": "display_data"
    }
   ],
   "source": [
    "forecast[\"date\"] = forecast[\"date\"].astype('datetime64[ns]')\n",
    "\n",
    "# Get the indices of the test set after dropping NaNs in TOBS\n",
    "forecast_no_nan = forecast.dropna(subset=['TOBS'])\n",
    "test_indices = (forecast_no_nan.index[-X_test.shape[0]:] \n",
    "                if len(forecast_no_nan) == X_test.shape[0] + X_train.shape[0] \n",
    "                else forecast_no_nan.index[-len(y_test):])\n",
    "test_dates = forecast_no_nan.loc[test_indices, 'date']\n",
    "\n",
    "results = pd.DataFrame({\n",
    "    'y_true': y_test,\n",
    "    'y_pred': y_pred,\n",
    "    'y_lower': y_lower,\n",
    "    'y_upper': y_upper\n",
    "}, index=test_dates)\n",
    "\n",
    "# Plot\n",
    "plt.figure(figsize=(12, 6))\n",
    "plt.plot(forecast[\"date\"], forecast[\"TOBS\"], label='Observed Temperature', alpha=0.5)\n",
    "plt.plot(results.index, results['y_pred'], label='Predicted', color='red', alpha=0.7)\n",
    "plt.fill_between(results.index, results['y_lower'], results['y_upper'],\n",
    "                 color='orange', alpha=0.3, label='90% Prediction Interval')\n",
    "\n",
    "plt.legend()\n",
    "plt.title('Observed Temperature Forecast with Prediction Intervals')\n",
    "plt.xlabel('Date')\n",
    "plt.ylabel(r'Temperature ($^\\circ$F)')\n",
    "plt.show()"
   ]
  },
  {
   "cell_type": "code",
   "execution_count": 36,
   "metadata": {},
   "outputs": [
    {
     "name": "stdout",
     "output_type": "stream",
     "text": [
      "y_pred RMS error:  5.34\n",
      "y_upper RMS error:  11.49\n",
      "y_lower RMS error:  10.59\n"
     ]
    }
   ],
   "source": [
    "print(f\"y_pred RMS error: {np.sqrt(mean_squared_error(y_test, y_pred)): .2f}\")\n",
    "print(f\"y_upper RMS error: {np.sqrt(mean_squared_error(y_test, y_upper)): .2f}\")\n",
    "print(f\"y_lower RMS error: {np.sqrt(mean_squared_error(y_test, y_lower)): .2f}\")"
   ]
  }
 ],
 "metadata": {
  "kernelspec": {
   "display_name": "weather",
   "language": "python",
   "name": "python3"
  },
  "language_info": {
   "codemirror_mode": {
    "name": "ipython",
    "version": 3
   },
   "file_extension": ".py",
   "mimetype": "text/x-python",
   "name": "python",
   "nbconvert_exporter": "python",
   "pygments_lexer": "ipython3",
   "version": "3.13.3"
  }
 },
 "nbformat": 4,
 "nbformat_minor": 2
}
