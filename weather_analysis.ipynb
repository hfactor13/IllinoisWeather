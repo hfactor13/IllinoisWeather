{
 "cells": [
  {
   "cell_type": "markdown",
   "metadata": {},
   "source": [
    "# Exploratory Data Analysis of Weather in Illinois"
   ]
  },
  {
   "cell_type": "code",
   "execution_count": 1,
   "metadata": {},
   "outputs": [],
   "source": [
    "from pathlib import Path # Library used for handling paths\n",
    "import pandas as pd # DataFrame library\n",
    "import numpy as np # Array library\n",
    "import matplotlib.pyplot as plt # Plotting library\n",
    "import os # operating system module used for storing credentials into the environment variable\n",
    "plt.style.use('default') # Ensures that my plots are made using a whitebackground."
   ]
  },
  {
   "cell_type": "markdown",
   "metadata": {},
   "source": [
    "### The data was extracted from the NOAA's Global Historical Climatology Network (GHCN) dataset. The SQL query was run in the Google BigQuery console as shown below. The resulting dataset was saved to a dataframe as shown in the next cell."
   ]
  },
  {
   "cell_type": "markdown",
   "metadata": {},
   "source": [
    "![Illinois Temperature Data (1990 - 2023).png](<attachment:Illinois Temperature Data (1990 - 2023).png>)"
   ]
  },
  {
   "cell_type": "code",
   "execution_count": 2,
   "metadata": {},
   "outputs": [],
   "source": [
    "os.environ[\"GOOGLE_APPLICATION_CREDENTIALS\"] = str(Path.cwd() / \"secrets\" / \"my_credentials.json\") # Credentials to be able to access the Google BigQuery public datasets"
   ]
  },
  {
   "cell_type": "code",
   "execution_count": 3,
   "metadata": {},
   "outputs": [
    {
     "data": {
      "application/vnd.jupyter.widget-view+json": {
       "model_id": "0c56c84a935845cb958ca1be543582d5",
       "version_major": 2,
       "version_minor": 0
      },
      "text/plain": [
       "Downloading:   0%|          |"
      ]
     },
     "metadata": {},
     "output_type": "display_data"
    }
   ],
   "source": [
    "raw_temp_query = \"\"\"SELECT weather.id, weather.date, weather.element, weather.value, weather.qflag, \n",
    "                       stations.latitude, stations.longitude, stations.state, stations.name \n",
    "                       FROM `bigquery-public-data.ghcn_d.ghcnd_*` AS weather\n",
    "                       INNER JOIN `bigquery-public-data.ghcn_d.ghcnd_stations` AS stations\n",
    "                       ON weather.id = stations.id\n",
    "                       WHERE weather.id LIKE 'US%'\n",
    "                       AND weather.element IN ('TMAX', 'TMIN', 'TAVG', 'TOBS')\n",
    "                       AND weather.qflag IS NULL\n",
    "                       AND EXTRACT(YEAR FROM weather.date) BETWEEN 1990 AND 2023\n",
    "                       AND weather._TABLE_SUFFIX BETWEEN '1990' AND '2023'\n",
    "                       AND stations.id LIKE 'US%'\n",
    "                       AND stations.state = 'IL'; \"\"\" # This query extracts weather data from the US in Illinois from the year 1990 to 2023\n",
    "raw_temp_data = pd.read_gbq(raw_temp_query, use_bqstorage_api = True, progress_bar_type = \"tqdm_notebook\", dialect = \"standard\") # Load the data from the SQL query through Google BigQuery"
   ]
  },
  {
   "cell_type": "code",
   "execution_count": 4,
   "metadata": {},
   "outputs": [
    {
     "data": {
      "text/html": [
       "<div>\n",
       "<style scoped>\n",
       "    .dataframe tbody tr th:only-of-type {\n",
       "        vertical-align: middle;\n",
       "    }\n",
       "\n",
       "    .dataframe tbody tr th {\n",
       "        vertical-align: top;\n",
       "    }\n",
       "\n",
       "    .dataframe thead th {\n",
       "        text-align: right;\n",
       "    }\n",
       "</style>\n",
       "<table border=\"1\" class=\"dataframe\">\n",
       "  <thead>\n",
       "    <tr style=\"text-align: right;\">\n",
       "      <th></th>\n",
       "      <th>date</th>\n",
       "      <th>name</th>\n",
       "      <th>element</th>\n",
       "      <th>value</th>\n",
       "      <th>value_degF</th>\n",
       "      <th>latitude</th>\n",
       "      <th>longitude</th>\n",
       "    </tr>\n",
       "  </thead>\n",
       "  <tbody>\n",
       "    <tr>\n",
       "      <th>0</th>\n",
       "      <td>1990-01-01</td>\n",
       "      <td>RANTOUL</td>\n",
       "      <td>TOBS</td>\n",
       "      <td>-39.0</td>\n",
       "      <td>24.98</td>\n",
       "      <td>40.3131</td>\n",
       "      <td>-88.1594</td>\n",
       "    </tr>\n",
       "    <tr>\n",
       "      <th>1</th>\n",
       "      <td>1990-01-01</td>\n",
       "      <td>BARRINGTON 3SW</td>\n",
       "      <td>TOBS</td>\n",
       "      <td>-56.0</td>\n",
       "      <td>21.92</td>\n",
       "      <td>42.1153</td>\n",
       "      <td>-88.1639</td>\n",
       "    </tr>\n",
       "    <tr>\n",
       "      <th>2</th>\n",
       "      <td>1990-01-01</td>\n",
       "      <td>DECATUR WTP</td>\n",
       "      <td>TMAX</td>\n",
       "      <td>0.0</td>\n",
       "      <td>32.00</td>\n",
       "      <td>39.8289</td>\n",
       "      <td>-88.9506</td>\n",
       "    </tr>\n",
       "    <tr>\n",
       "      <th>3</th>\n",
       "      <td>1990-01-01</td>\n",
       "      <td>PIPER CITY</td>\n",
       "      <td>TMIN</td>\n",
       "      <td>-56.0</td>\n",
       "      <td>21.92</td>\n",
       "      <td>40.7569</td>\n",
       "      <td>-88.1828</td>\n",
       "    </tr>\n",
       "    <tr>\n",
       "      <th>4</th>\n",
       "      <td>1990-01-01</td>\n",
       "      <td>BENTON 2 N</td>\n",
       "      <td>TMIN</td>\n",
       "      <td>-6.0</td>\n",
       "      <td>30.92</td>\n",
       "      <td>38.0336</td>\n",
       "      <td>-88.9203</td>\n",
       "    </tr>\n",
       "    <tr>\n",
       "      <th>...</th>\n",
       "      <td>...</td>\n",
       "      <td>...</td>\n",
       "      <td>...</td>\n",
       "      <td>...</td>\n",
       "      <td>...</td>\n",
       "      <td>...</td>\n",
       "      <td>...</td>\n",
       "    </tr>\n",
       "    <tr>\n",
       "      <th>4823851</th>\n",
       "      <td>2023-11-14</td>\n",
       "      <td>PITTSFIELD #2</td>\n",
       "      <td>TMAX</td>\n",
       "      <td>183.0</td>\n",
       "      <td>64.94</td>\n",
       "      <td>39.6197</td>\n",
       "      <td>-90.8033</td>\n",
       "    </tr>\n",
       "    <tr>\n",
       "      <th>4823852</th>\n",
       "      <td>2023-11-14</td>\n",
       "      <td>REND LAKE DAM</td>\n",
       "      <td>TMAX</td>\n",
       "      <td>194.0</td>\n",
       "      <td>66.92</td>\n",
       "      <td>38.0406</td>\n",
       "      <td>-88.9883</td>\n",
       "    </tr>\n",
       "    <tr>\n",
       "      <th>4823853</th>\n",
       "      <td>2023-11-14</td>\n",
       "      <td>MORRIS 1NW</td>\n",
       "      <td>TOBS</td>\n",
       "      <td>33.0</td>\n",
       "      <td>37.94</td>\n",
       "      <td>41.3714</td>\n",
       "      <td>-88.4333</td>\n",
       "    </tr>\n",
       "    <tr>\n",
       "      <th>4823854</th>\n",
       "      <td>2023-11-14</td>\n",
       "      <td>QUINCY DAM 21</td>\n",
       "      <td>TMAX</td>\n",
       "      <td>183.0</td>\n",
       "      <td>64.94</td>\n",
       "      <td>39.9036</td>\n",
       "      <td>-91.4283</td>\n",
       "    </tr>\n",
       "    <tr>\n",
       "      <th>4823855</th>\n",
       "      <td>2023-11-14</td>\n",
       "      <td>BARRINGTON 3SW</td>\n",
       "      <td>TOBS</td>\n",
       "      <td>22.0</td>\n",
       "      <td>35.96</td>\n",
       "      <td>42.1153</td>\n",
       "      <td>-88.1639</td>\n",
       "    </tr>\n",
       "  </tbody>\n",
       "</table>\n",
       "<p>4823856 rows × 7 columns</p>\n",
       "</div>"
      ],
      "text/plain": [
       "              date            name element  value  value_degF  latitude  \\\n",
       "0       1990-01-01         RANTOUL    TOBS  -39.0       24.98   40.3131   \n",
       "1       1990-01-01  BARRINGTON 3SW    TOBS  -56.0       21.92   42.1153   \n",
       "2       1990-01-01     DECATUR WTP    TMAX    0.0       32.00   39.8289   \n",
       "3       1990-01-01      PIPER CITY    TMIN  -56.0       21.92   40.7569   \n",
       "4       1990-01-01      BENTON 2 N    TMIN   -6.0       30.92   38.0336   \n",
       "...            ...             ...     ...    ...         ...       ...   \n",
       "4823851 2023-11-14   PITTSFIELD #2    TMAX  183.0       64.94   39.6197   \n",
       "4823852 2023-11-14   REND LAKE DAM    TMAX  194.0       66.92   38.0406   \n",
       "4823853 2023-11-14      MORRIS 1NW    TOBS   33.0       37.94   41.3714   \n",
       "4823854 2023-11-14   QUINCY DAM 21    TMAX  183.0       64.94   39.9036   \n",
       "4823855 2023-11-14  BARRINGTON 3SW    TOBS   22.0       35.96   42.1153   \n",
       "\n",
       "         longitude  \n",
       "0         -88.1594  \n",
       "1         -88.1639  \n",
       "2         -88.9506  \n",
       "3         -88.1828  \n",
       "4         -88.9203  \n",
       "...            ...  \n",
       "4823851   -90.8033  \n",
       "4823852   -88.9883  \n",
       "4823853   -88.4333  \n",
       "4823854   -91.4283  \n",
       "4823855   -88.1639  \n",
       "\n",
       "[4823856 rows x 7 columns]"
      ]
     },
     "execution_count": 4,
     "metadata": {},
     "output_type": "execute_result"
    }
   ],
   "source": [
    "raw_temp_data.drop([\"qflag\", \"state\", \"id\"], axis = 1, inplace = True) # Drop the qflag, state, and id columns\n",
    "raw_temp_data[\"date\"] = pd.to_datetime(raw_temp_data[\"date\"]) # Convert the date column from a generic object type to a datetime object\n",
    "raw_temp_data[\"value_degF\"] = 9/5 * (raw_temp_data[\"value\"] / 10) + 32 # Turn the value column which is in tenths of a degree Celsius to Fahrenheit\n",
    "raw_temp_data.sort_values(by = \"date\", ignore_index = True, inplace = True) # Sort the temperatures by date\n",
    "raw_temp_data = raw_temp_data[[\"date\", \"name\", \"element\", \"value\", \"value_degF\", \"latitude\", \"longitude\"]] # Reorder the columns\n",
    "raw_temp_data"
   ]
  },
  {
   "cell_type": "code",
   "execution_count": 5,
   "metadata": {},
   "outputs": [],
   "source": [
    "raw_temp_data_pivot = raw_temp_data.pivot(columns = \"element\", values = \"value_degF\") # Converts the categorical data in the elements column to their own respective columns"
   ]
  },
  {
   "cell_type": "code",
   "execution_count": 6,
   "metadata": {},
   "outputs": [],
   "source": [
    "transformed_temp_data = pd.concat([raw_temp_data, raw_temp_data_pivot], axis = 1) # combine the newly generated columns with the existing dataframe\n",
    "transformed_temp_data.drop([\"element\", \"value\", \"value_degF\"], axis = 1, inplace = True) # drop the element and value columns\n",
    "temp_only_df = transformed_temp_data[[\"date\", \"TMIN\", \"TMAX\", \"TAVG\", \"TOBS\"]] # Keep just the temperature and date columns"
   ]
  },
  {
   "cell_type": "code",
   "execution_count": 7,
   "metadata": {},
   "outputs": [
    {
     "data": {
      "text/plain": [
       "<matplotlib.legend.Legend at 0x18d99af60>"
      ]
     },
     "execution_count": 7,
     "metadata": {},
     "output_type": "execute_result"
    },
    {
     "data": {
      "image/png": "[encoded data removed]",
      "text/plain": [
       "<Figure size 640x480 with 1 Axes>"
      ]
     },
     "metadata": {},
     "output_type": "display_data"
    }
   ],
   "source": [
    "# This code plots the minimum, maximum, average, and observed temperatures\n",
    "ax = (temp_only_df.resample(\"Y\", on = \"date\").mean() # Resample the temperature dataframe over one year (originally was sampled per day)\n",
    "      .plot(xlabel = \"Year\", ylabel = r\"Temperature ($\\circ F$)\", \n",
    "            grid = True, title = \"Temperatures in Illinois from 1990 to 2023\"))\n",
    "ax.legend(loc = \"best\", labels = [r\"$T_{min}$\", r\"$T_{max}$\", r\"$T_{avg}$\", r\"$T_{obs}$\"]) # Format the temperature labels"
   ]
  },
  {
   "cell_type": "code",
   "execution_count": 8,
   "metadata": {},
   "outputs": [
    {
     "data": {
      "text/plain": [
       "element\n",
       "TAVG       88,621\n",
       "TMAX    1,665,961\n",
       "TMIN    1,657,371\n",
       "TOBS    1,411,903\n",
       "Name: value, dtype: object"
      ]
     },
     "execution_count": 8,
     "metadata": {},
     "output_type": "execute_result"
    }
   ],
   "source": [
    "raw_temp_data.groupby(\"element\")[\"value\"].count().apply(lambda x: f\"{x:,}\") # number of observations that were taken per category"
   ]
  },
  {
   "cell_type": "code",
   "execution_count": 9,
   "metadata": {},
   "outputs": [
    {
     "data": {
      "text/plain": [
       "element\n",
       "TAVG     1.84\n",
       "TMAX    34.54\n",
       "TMIN    34.36\n",
       "TOBS    29.27\n",
       "Name: value, dtype: object"
      ]
     },
     "execution_count": 9,
     "metadata": {},
     "output_type": "execute_result"
    }
   ],
   "source": [
    "raw_temp_data.groupby(\"element\")[\"value\"].count().apply(lambda x: f\"{x / len(raw_temp_data) * 100:,.2f}\") # percentage of observations per category"
   ]
  },
  {
   "cell_type": "code",
   "execution_count": 10,
   "metadata": {},
   "outputs": [
    {
     "data": {
      "text/plain": [
       "209"
      ]
     },
     "execution_count": 10,
     "metadata": {},
     "output_type": "execute_result"
    }
   ],
   "source": [
    "transformed_temp_data[\"name\"].nunique() # number of stations in Illinois"
   ]
  },
  {
   "cell_type": "code",
   "execution_count": 11,
   "metadata": {},
   "outputs": [
    {
     "data": {
      "text/plain": [
       "array(['RANTOUL', 'BARRINGTON 3SW', 'DECATUR WTP', 'PIPER CITY',\n",
       "       'BENTON 2 N', 'WHITE HALL 1 E', 'JOLIET BRANDON ROAD LOCK/DAM',\n",
       "       'SALEM', 'SPARTA 1 W', 'PERU', 'PAXTON 2 WSW', 'WATERLOO 6SW',\n",
       "       'ROSICLARE 5NW', 'CHARLESTON', 'CHICAGO OHARE INTL AP',\n",
       "       'HOOPESTON', 'GALVA', 'VIRDEN', 'PARIS STP', 'NASHVILLE 1 E',\n",
       "       'ROCK ISLAND L&D 15', 'MATTOON', 'MARENGO', 'MARION 4 NNE',\n",
       "       'FAIRFIELD RADIO WFIW', 'QUINCY RGNL AP', 'NORMAL 4NE',\n",
       "       'WHEATON 3 SE', 'OLIVE BRANCH', 'PAW PAW 2S', 'MCLEANSBORO',\n",
       "       'CARLINVILLE', 'LAKE VILLA 2NE', 'HAVANA', 'WALNUT',\n",
       "       'CARBONDALE SEWAGE PLT', 'FULTON L&D #13', 'LACON', 'ROCHELLE',\n",
       "       'VANDALIA', 'CHAMPAIGN 3S', 'WAUKEGAN', 'TISKILWA 2 SE',\n",
       "       'MT CARMEL', 'BROOKPORT DAM 52', 'GALESBURG', 'CHENOA', 'ANNA 4 N',\n",
       "       'NEWTON 6 SSE', 'MT VERNON 3 NE', 'CHICAGO MIDWAY AP 3SW',\n",
       "       'MORRISONVILLE', 'RUSHVILLE', 'FARMER CITY 3W',\n",
       "       'CHICAGO BOTANIC GARDEN', 'PONTIAC', 'DIXON SPRINGS AGRIC CTR',\n",
       "       'HILLSBORO', 'CARMI 3', 'DANVILLE', 'PARK FOREST', 'MOWEAQUA 2S',\n",
       "       'ROCKFORD GTR ROCKFORD AP', 'CHICAGO UNIV', 'AURORA', 'FLORA 5 NW',\n",
       "       'JACKSONVILLE 2E', 'SMITHLAND L&D',\n",
       "       'GENERAL WAYNE A DOWNING INTL A', 'CAHOKIA', 'DIXON 1W',\n",
       "       'LA HARPE', 'PALESTINE', 'OLNEY 2S', 'ALEDO', 'EFFINGHAM 3SW',\n",
       "       'GIBSON CITY', 'ELGIN', 'WATSEKA 2NW', 'KANKAKEE WWTP',\n",
       "       'SPRINGFIELD ABRAHAM LINCOLN CA', 'MONMOUTH', 'WINDSOR',\n",
       "       'BELLEVILLE SIU RSCH', 'TUSCOLA', 'CASEY', 'FREEPORT WASTE WTP',\n",
       "       'MASON CITY 4SE', 'MT CARROLL', 'GENESEO', 'HENNEPIN WTR TRMT PLT',\n",
       "       'GLENVIEW NAS', 'ANTIOCH', 'MINONK', 'ELIZABETH',\n",
       "       'KASKASKIA RVR NAVIGATION LOCK', 'PANA', 'PRINCETON',\n",
       "       'PRINCEVILLE', 'DU QUOIN 4 SE', 'OTTAWA 4SW', 'KEWANEE 1 E',\n",
       "       'MORRISON', 'JERSEYVILLE 2 SW', 'MOLINE QUAD CITY INTL AP',\n",
       "       'ALBION', 'STOCKTON 3 NNE', 'GOLDEN', 'GEBHARD WOODS SP',\n",
       "       'CAIRO 3N', 'DE KALB', 'QUINCY DAM 21', 'ALTON - MELVIN PRICE L&D',\n",
       "       'LINCOLN', 'HARRISBURG', 'ELDORADO', 'RAMSEY',\n",
       "       'LAWRENCEVILLE 2WSW', 'DWIGHT', 'GLADSTONE DAM 18', 'COMPTON 1 NW',\n",
       "       'BROWNSTOWN 4 SW', 'ELWOOD 8 NW', 'PERRY 6 NW',\n",
       "       'MC HENRY -WG STRATTON L&D', 'CARLYLE RSVR', 'STREAMWOOD',\n",
       "       'BENTLEY', 'MONMOUTH 4NW', 'POLO 5NW', 'NEWTON', 'OLMSTED L&D',\n",
       "       'MORRIS 1NW', 'PITTSFIELD #2', 'CONGERVILLE 2NW',\n",
       "       'SHELBYVILLE DAM', 'CHICAGO PALWAUKEE AP',\n",
       "       'LAWRENCEVILLE VINCENNES INTL A', 'CHANNAHON DRESDEN ISL DAM',\n",
       "       'MARSEILLES LOCK/DAM', 'CHICAGO MIDWAY AP', 'NEW BOSTON DAM 17',\n",
       "       'CHAMPAIGN URBANA WILLARD AP', 'CHICAGO W CHICAGO DUPAGE AP',\n",
       "       'CAHOKIA ST LOUIS DWTN AP', 'ROMEOVILLE WFO',\n",
       "       'UTICA STARVED ROCK DAM', 'IUKA 12 SW',\n",
       "       'MATTOON CHARLESTON COLES CO AP', 'WINCHESTER', 'LEBANON',\n",
       "       'CARBONDALE STHRN ILLINOIS AP', 'CHICAGO AURORA MUNI AP',\n",
       "       'CHICAGO WAUKEGAN RGNL AP', 'BLOOMINGTON 5W', 'CHRISMAN',\n",
       "       'MUNDELEIN 4 WSW', 'ATHENS 4SW', 'LOAMI 3SSW', 'FLORA', 'CISCO',\n",
       "       'DECATUR AP', 'GRAYVILLE', 'SULLIVAN 3S', 'ROBINSON', 'SIDELL 4N',\n",
       "       'DIXON SPRINGS ILLINOIS', 'BEAN RIDGE ILLINOIS', 'GRAND TWR 2 N',\n",
       "       'CRAB ORCHARD ILLINOIS', 'CHAMPAIGN 9 SW', 'PRAIRIE CITY 2S',\n",
       "       'SHABBONA 5 NNE', 'SOUTH PEKIN 2E', 'ILLINOIS CITY DAM 16',\n",
       "       'HUTSONVILLE', 'SPRINGFIELD #2', 'GRIGGSVILLE', 'URBANA 2',\n",
       "       'DECATUR 4N', 'CHICAGO NORTHERLY IS', 'HIDALGO 3SW', 'NEOGA 4NW',\n",
       "       'ALTONA', 'KNOXVILLE', 'JACKSONVILLE 2',\n",
       "       'LISLE - MORTON ARBORETUM', 'SAYBROOK 2N', 'AVON', 'STREATOR 3 SE',\n",
       "       'REND LAKE DAM', 'FISHER', 'LITTLE RED SCHOOL HSE',\n",
       "       'GERMANTOWN HILLS', 'CRYSTAL LAKE 4NW', 'TRIMBLE 1E', 'BIRDS 2E',\n",
       "       'OGDEN', 'VARNA', 'LOCKPORT PWR HOUSE', 'HENNEPIN', 'GALENA',\n",
       "       'CAIRO RIVER', 'PETERSBURG 3SSW', 'PETERSBURG 1E',\n",
       "       'BLOOMINGTON NORMAL AP', 'MACKINAW 3WSW', 'TAYLORVILLE 2SE',\n",
       "       'MILSTADT 2SW'], dtype=object)"
      ]
     },
     "execution_count": 11,
     "metadata": {},
     "output_type": "execute_result"
    }
   ],
   "source": [
    "transformed_temp_data[\"name\"].unique() # list of all the station names"
   ]
  },
  {
   "cell_type": "code",
   "execution_count": 21,
   "metadata": {},
   "outputs": [
    {
     "data": {
      "text/html": [
       "<div>\n",
       "<style scoped>\n",
       "    .dataframe tbody tr th:only-of-type {\n",
       "        vertical-align: middle;\n",
       "    }\n",
       "\n",
       "    .dataframe tbody tr th {\n",
       "        vertical-align: top;\n",
       "    }\n",
       "\n",
       "    .dataframe thead th {\n",
       "        text-align: right;\n",
       "    }\n",
       "</style>\n",
       "<table border=\"1\" class=\"dataframe\">\n",
       "  <thead>\n",
       "    <tr style=\"text-align: right;\">\n",
       "      <th></th>\n",
       "      <th>name</th>\n",
       "      <th>TAVG</th>\n",
       "      <th>TMAX</th>\n",
       "      <th>TMIN</th>\n",
       "      <th>TOBS</th>\n",
       "    </tr>\n",
       "  </thead>\n",
       "  <tbody>\n",
       "    <tr>\n",
       "      <th>0</th>\n",
       "      <td>ALBION</td>\n",
       "      <td>0</td>\n",
       "      <td>5233</td>\n",
       "      <td>5072</td>\n",
       "      <td>5047</td>\n",
       "    </tr>\n",
       "    <tr>\n",
       "      <th>1</th>\n",
       "      <td>ALEDO</td>\n",
       "      <td>0</td>\n",
       "      <td>11915</td>\n",
       "      <td>11892</td>\n",
       "      <td>11894</td>\n",
       "    </tr>\n",
       "    <tr>\n",
       "      <th>2</th>\n",
       "      <td>ALTON - MELVIN PRICE L&amp;D</td>\n",
       "      <td>0</td>\n",
       "      <td>10633</td>\n",
       "      <td>10295</td>\n",
       "      <td>10656</td>\n",
       "    </tr>\n",
       "    <tr>\n",
       "      <th>3</th>\n",
       "      <td>ALTONA</td>\n",
       "      <td>0</td>\n",
       "      <td>6005</td>\n",
       "      <td>5991</td>\n",
       "      <td>5822</td>\n",
       "    </tr>\n",
       "    <tr>\n",
       "      <th>4</th>\n",
       "      <td>ANNA 4 N</td>\n",
       "      <td>0</td>\n",
       "      <td>8675</td>\n",
       "      <td>8720</td>\n",
       "      <td>8258</td>\n",
       "    </tr>\n",
       "    <tr>\n",
       "      <th>...</th>\n",
       "      <td>...</td>\n",
       "      <td>...</td>\n",
       "      <td>...</td>\n",
       "      <td>...</td>\n",
       "      <td>...</td>\n",
       "    </tr>\n",
       "    <tr>\n",
       "      <th>204</th>\n",
       "      <td>WAUKEGAN</td>\n",
       "      <td>0</td>\n",
       "      <td>4340</td>\n",
       "      <td>4058</td>\n",
       "      <td>3986</td>\n",
       "    </tr>\n",
       "    <tr>\n",
       "      <th>205</th>\n",
       "      <td>WHEATON 3 SE</td>\n",
       "      <td>0</td>\n",
       "      <td>7686</td>\n",
       "      <td>7736</td>\n",
       "      <td>6652</td>\n",
       "    </tr>\n",
       "    <tr>\n",
       "      <th>206</th>\n",
       "      <td>WHITE HALL 1 E</td>\n",
       "      <td>0</td>\n",
       "      <td>12197</td>\n",
       "      <td>12155</td>\n",
       "      <td>12099</td>\n",
       "    </tr>\n",
       "    <tr>\n",
       "      <th>207</th>\n",
       "      <td>WINCHESTER</td>\n",
       "      <td>0</td>\n",
       "      <td>5811</td>\n",
       "      <td>5782</td>\n",
       "      <td>5782</td>\n",
       "    </tr>\n",
       "    <tr>\n",
       "      <th>208</th>\n",
       "      <td>WINDSOR</td>\n",
       "      <td>0</td>\n",
       "      <td>11605</td>\n",
       "      <td>11596</td>\n",
       "      <td>11502</td>\n",
       "    </tr>\n",
       "  </tbody>\n",
       "</table>\n",
       "<p>209 rows × 5 columns</p>\n",
       "</div>"
      ],
      "text/plain": [
       "                         name  TAVG   TMAX   TMIN   TOBS\n",
       "0                      ALBION     0   5233   5072   5047\n",
       "1                       ALEDO     0  11915  11892  11894\n",
       "2    ALTON - MELVIN PRICE L&D     0  10633  10295  10656\n",
       "3                      ALTONA     0   6005   5991   5822\n",
       "4                    ANNA 4 N     0   8675   8720   8258\n",
       "..                        ...   ...    ...    ...    ...\n",
       "204                  WAUKEGAN     0   4340   4058   3986\n",
       "205              WHEATON 3 SE     0   7686   7736   6652\n",
       "206            WHITE HALL 1 E     0  12197  12155  12099\n",
       "207                WINCHESTER     0   5811   5782   5782\n",
       "208                   WINDSOR     0  11605  11596  11502\n",
       "\n",
       "[209 rows x 5 columns]"
      ]
     },
     "execution_count": 21,
     "metadata": {},
     "output_type": "execute_result"
    }
   ],
   "source": [
    "num_obs_per_station = transformed_temp_data.filter(regex = \"name|T+\", axis = 1).groupby(\"name\", as_index = False).count()\n",
    "num_obs_per_station"
   ]
  },
  {
   "cell_type": "code",
   "execution_count": null,
   "metadata": {},
   "outputs": [],
   "source": []
  }
 ],
 "metadata": {
  "kernelspec": {
   "display_name": "weather",
   "language": "python",
   "name": "python3"
  },
  "language_info": {
   "codemirror_mode": {
    "name": "ipython",
    "version": 3
   },
   "file_extension": ".py",
   "mimetype": "text/x-python",
   "name": "python",
   "nbconvert_exporter": "python",
   "pygments_lexer": "ipython3",
   "version": "3.12.0"
  }
 },
 "nbformat": 4,
 "nbformat_minor": 2
}
