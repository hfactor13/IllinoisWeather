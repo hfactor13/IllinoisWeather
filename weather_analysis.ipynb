{
 "cells": [
  {
   "cell_type": "markdown",
   "metadata": {},
   "source": [
    "# Exploratory Data Analysis of Weather in Illinois"
   ]
  },
  {
   "cell_type": "code",
   "execution_count": 27,
   "metadata": {},
   "outputs": [],
   "source": [
    "from pathlib import Path # Library used for handling paths\n",
    "import pandas as pd # DataFrame library\n",
    "import numpy as np # Array library\n",
    "import matplotlib.pyplot as plt # Plotting library\n",
    "import os # operating system module used for storing credentials into the environment variable\n",
    "plt.style.use('default') # Ensures that my plots are made using a whitebackground."
   ]
  },
  {
   "cell_type": "markdown",
   "metadata": {},
   "source": [
    "### The data was extracted from the NOAA's Global Historical Climatology Network (GHCN) dataset. The SQL query was run in the Google BigQuery console as shown below. The resulting dataset was saved to a dataframe as shown in the next cell."
   ]
  },
  {
   "cell_type": "markdown",
   "metadata": {},
   "source": [
    "![Illinois Temperature Data (1990 - 2023).png](<attachment:Illinois Temperature Data (1990 - 2023).png>)"
   ]
  },
  {
   "cell_type": "code",
   "execution_count": 28,
   "metadata": {},
   "outputs": [],
   "source": [
    "os.environ[\"GOOGLE_APPLICATION_CREDENTIALS\"] = str(Path.cwd() / \"secrets\" / \"my_credentials.json\") # Credentials to be able to access the Google BigQuery public datasets"
   ]
  },
  {
   "cell_type": "code",
   "execution_count": 29,
   "metadata": {},
   "outputs": [
    {
     "data": {
      "application/vnd.jupyter.widget-view+json": {
       "model_id": "39041c80ec004bf3a471a29f0bdc214a",
       "version_major": 2,
       "version_minor": 0
      },
      "text/plain": [
       "Downloading:   0%|          |"
      ]
     },
     "metadata": {},
     "output_type": "display_data"
    }
   ],
   "source": [
    "raw_temp_query = \"\"\"SELECT weather.id, weather.date, weather.element, weather.value, weather.qflag, \n",
    "                       stations.latitude, stations.longitude, stations.state, stations.name \n",
    "                       FROM `bigquery-public-data.ghcn_d.ghcnd_*` AS weather\n",
    "                       INNER JOIN `bigquery-public-data.ghcn_d.ghcnd_stations` AS stations\n",
    "                       ON weather.id = stations.id\n",
    "                       WHERE weather.id LIKE 'US%'\n",
    "                       AND weather.element IN ('TMAX', 'TMIN', 'TAVG', 'TOBS')\n",
    "                       AND weather.qflag IS NULL\n",
    "                       AND EXTRACT(YEAR FROM weather.date) BETWEEN 1990 AND 2023\n",
    "                       AND weather._TABLE_SUFFIX BETWEEN '1990' AND '2023'\n",
    "                       AND stations.id LIKE 'US%'\n",
    "                       AND stations.state = 'IL'; \"\"\" # This query extracts weather data from the US in Illinois from the year 1990 to 2023\n",
    "raw_temp_data = pd.read_gbq(raw_temp_query, use_bqstorage_api = True, progress_bar_type = \"tqdm_notebook\", dialect = \"standard\") # Load the data from the SQL query through Google BigQuery"
   ]
  },
  {
   "cell_type": "code",
   "execution_count": 30,
   "metadata": {},
   "outputs": [
    {
     "data": {
      "text/html": [
       "<div>\n",
       "<style scoped>\n",
       "    .dataframe tbody tr th:only-of-type {\n",
       "        vertical-align: middle;\n",
       "    }\n",
       "\n",
       "    .dataframe tbody tr th {\n",
       "        vertical-align: top;\n",
       "    }\n",
       "\n",
       "    .dataframe thead th {\n",
       "        text-align: right;\n",
       "    }\n",
       "</style>\n",
       "<table border=\"1\" class=\"dataframe\">\n",
       "  <thead>\n",
       "    <tr style=\"text-align: right;\">\n",
       "      <th></th>\n",
       "      <th>date</th>\n",
       "      <th>name</th>\n",
       "      <th>element</th>\n",
       "      <th>value</th>\n",
       "      <th>value_degF</th>\n",
       "      <th>latitude</th>\n",
       "      <th>longitude</th>\n",
       "    </tr>\n",
       "  </thead>\n",
       "  <tbody>\n",
       "    <tr>\n",
       "      <th>0</th>\n",
       "      <td>1990-01-01</td>\n",
       "      <td>HOOPESTON</td>\n",
       "      <td>TMAX</td>\n",
       "      <td>-11.0</td>\n",
       "      <td>30.02</td>\n",
       "      <td>40.4664</td>\n",
       "      <td>-87.6850</td>\n",
       "    </tr>\n",
       "    <tr>\n",
       "      <th>1</th>\n",
       "      <td>1990-01-01</td>\n",
       "      <td>CHICAGO UNIV</td>\n",
       "      <td>TMIN</td>\n",
       "      <td>-22.0</td>\n",
       "      <td>28.04</td>\n",
       "      <td>41.7833</td>\n",
       "      <td>-87.6000</td>\n",
       "    </tr>\n",
       "    <tr>\n",
       "      <th>2</th>\n",
       "      <td>1990-01-01</td>\n",
       "      <td>CHICAGO OHARE INTL AP</td>\n",
       "      <td>TMAX</td>\n",
       "      <td>-11.0</td>\n",
       "      <td>30.02</td>\n",
       "      <td>41.9603</td>\n",
       "      <td>-87.9317</td>\n",
       "    </tr>\n",
       "    <tr>\n",
       "      <th>3</th>\n",
       "      <td>1990-01-01</td>\n",
       "      <td>SALEM</td>\n",
       "      <td>TMIN</td>\n",
       "      <td>-22.0</td>\n",
       "      <td>28.04</td>\n",
       "      <td>38.6403</td>\n",
       "      <td>-88.9458</td>\n",
       "    </tr>\n",
       "    <tr>\n",
       "      <th>4</th>\n",
       "      <td>1990-01-01</td>\n",
       "      <td>MARION 4 NNE</td>\n",
       "      <td>TMIN</td>\n",
       "      <td>-33.0</td>\n",
       "      <td>26.06</td>\n",
       "      <td>37.7747</td>\n",
       "      <td>-88.8981</td>\n",
       "    </tr>\n",
       "    <tr>\n",
       "      <th>...</th>\n",
       "      <td>...</td>\n",
       "      <td>...</td>\n",
       "      <td>...</td>\n",
       "      <td>...</td>\n",
       "      <td>...</td>\n",
       "      <td>...</td>\n",
       "      <td>...</td>\n",
       "    </tr>\n",
       "    <tr>\n",
       "      <th>4823851</th>\n",
       "      <td>2023-11-14</td>\n",
       "      <td>PARIS STP</td>\n",
       "      <td>TMAX</td>\n",
       "      <td>183.0</td>\n",
       "      <td>64.94</td>\n",
       "      <td>39.6186</td>\n",
       "      <td>-87.6672</td>\n",
       "    </tr>\n",
       "    <tr>\n",
       "      <th>4823852</th>\n",
       "      <td>2023-11-14</td>\n",
       "      <td>NORMAL 4NE</td>\n",
       "      <td>TOBS</td>\n",
       "      <td>-28.0</td>\n",
       "      <td>26.96</td>\n",
       "      <td>40.5492</td>\n",
       "      <td>-88.9497</td>\n",
       "    </tr>\n",
       "    <tr>\n",
       "      <th>4823853</th>\n",
       "      <td>2023-11-14</td>\n",
       "      <td>KEWANEE 1 E</td>\n",
       "      <td>TOBS</td>\n",
       "      <td>-33.0</td>\n",
       "      <td>26.06</td>\n",
       "      <td>41.2428</td>\n",
       "      <td>-89.8997</td>\n",
       "    </tr>\n",
       "    <tr>\n",
       "      <th>4823854</th>\n",
       "      <td>2023-11-14</td>\n",
       "      <td>OGDEN</td>\n",
       "      <td>TMIN</td>\n",
       "      <td>-28.0</td>\n",
       "      <td>26.96</td>\n",
       "      <td>40.1100</td>\n",
       "      <td>-87.9567</td>\n",
       "    </tr>\n",
       "    <tr>\n",
       "      <th>4823855</th>\n",
       "      <td>2023-11-14</td>\n",
       "      <td>KEWANEE 1 E</td>\n",
       "      <td>TMAX</td>\n",
       "      <td>167.0</td>\n",
       "      <td>62.06</td>\n",
       "      <td>41.2428</td>\n",
       "      <td>-89.8997</td>\n",
       "    </tr>\n",
       "  </tbody>\n",
       "</table>\n",
       "<p>4823856 rows × 7 columns</p>\n",
       "</div>"
      ],
      "text/plain": [
       "              date                   name element  value  value_degF  \\\n",
       "0       1990-01-01              HOOPESTON    TMAX  -11.0       30.02   \n",
       "1       1990-01-01           CHICAGO UNIV    TMIN  -22.0       28.04   \n",
       "2       1990-01-01  CHICAGO OHARE INTL AP    TMAX  -11.0       30.02   \n",
       "3       1990-01-01                  SALEM    TMIN  -22.0       28.04   \n",
       "4       1990-01-01           MARION 4 NNE    TMIN  -33.0       26.06   \n",
       "...            ...                    ...     ...    ...         ...   \n",
       "4823851 2023-11-14              PARIS STP    TMAX  183.0       64.94   \n",
       "4823852 2023-11-14             NORMAL 4NE    TOBS  -28.0       26.96   \n",
       "4823853 2023-11-14            KEWANEE 1 E    TOBS  -33.0       26.06   \n",
       "4823854 2023-11-14                  OGDEN    TMIN  -28.0       26.96   \n",
       "4823855 2023-11-14            KEWANEE 1 E    TMAX  167.0       62.06   \n",
       "\n",
       "         latitude  longitude  \n",
       "0         40.4664   -87.6850  \n",
       "1         41.7833   -87.6000  \n",
       "2         41.9603   -87.9317  \n",
       "3         38.6403   -88.9458  \n",
       "4         37.7747   -88.8981  \n",
       "...           ...        ...  \n",
       "4823851   39.6186   -87.6672  \n",
       "4823852   40.5492   -88.9497  \n",
       "4823853   41.2428   -89.8997  \n",
       "4823854   40.1100   -87.9567  \n",
       "4823855   41.2428   -89.8997  \n",
       "\n",
       "[4823856 rows x 7 columns]"
      ]
     },
     "execution_count": 30,
     "metadata": {},
     "output_type": "execute_result"
    }
   ],
   "source": [
    "raw_temp_data.drop([\"qflag\", \"state\", \"id\"], axis = 1, inplace = True) # Drop the qflag, state, and id columns\n",
    "raw_temp_data[\"date\"] = pd.to_datetime(raw_temp_data[\"date\"]) # Convert the date column from a generic object type to a datetime object\n",
    "raw_temp_data[\"value_degF\"] = 9/5 * (raw_temp_data[\"value\"] / 10) + 32 # Turn the value column which is in tenths of a degree Celsius to Fahrenheit\n",
    "raw_temp_data.sort_values(by = \"date\", ignore_index = True, inplace = True) # Sort the temperatures by date\n",
    "raw_temp_data = raw_temp_data[[\"date\", \"name\", \"element\", \"value\", \"value_degF\", \"latitude\", \"longitude\"]] # Reorder the columns\n",
    "raw_temp_data"
   ]
  },
  {
   "cell_type": "code",
   "execution_count": 31,
   "metadata": {},
   "outputs": [],
   "source": [
    "raw_temp_data_pivot = raw_temp_data.pivot(columns = \"element\", values = \"value_degF\") # Converts the categorical data in the elements column to their own respective columns"
   ]
  },
  {
   "cell_type": "code",
   "execution_count": 32,
   "metadata": {},
   "outputs": [],
   "source": [
    "transformed_temp_data = pd.concat([raw_temp_data, raw_temp_data_pivot], axis = 1) # combine the newly generated columns with the existing dataframe\n",
    "transformed_temp_data.drop([\"element\", \"value\", \"value_degF\"], axis = 1, inplace = True) # drop the element and value columns\n",
    "temp_only_df = transformed_temp_data[[\"date\", \"TMIN\", \"TMAX\", \"TAVG\", \"TOBS\"]] # Keep just the temperature and date columns"
   ]
  },
  {
   "cell_type": "code",
   "execution_count": 39,
   "metadata": {},
   "outputs": [
    {
     "data": {
      "text/plain": [
       "<matplotlib.legend.Legend at 0x188ef4590>"
      ]
     },
     "execution_count": 39,
     "metadata": {},
     "output_type": "execute_result"
    },
    {
     "data": {
      "image/png": "[encoded data removed]",
      "text/plain": [
       "<Figure size 640x480 with 1 Axes>"
      ]
     },
     "metadata": {},
     "output_type": "display_data"
    }
   ],
   "source": [
    "# This code plots the minimum, maximum, average, and observed temperatures\n",
    "ax = (temp_only_df.resample(\"Y\", on = \"date\").mean() # Resample the temperature dataframe over one year (originally was sampled per day)\n",
    "      .plot(xlabel = \"Year\", ylabel = r\"Temperature ($\\circ F$)\", \n",
    "            grid = True, title = \"Temperatures in Illinois Sampled Annually from 1990 to 2023\"))\n",
    "ax.legend(loc = \"best\", labels = [r\"$T_{min}$\", r\"$T_{max}$\", r\"$T_{avg}$\", r\"$T_{obs}$\"]) # Format the temperature labels"
   ]
  },
  {
   "cell_type": "code",
   "execution_count": 34,
   "metadata": {},
   "outputs": [
    {
     "data": {
      "text/plain": [
       "element\n",
       "TAVG       88,621\n",
       "TMAX    1,665,961\n",
       "TMIN    1,657,371\n",
       "TOBS    1,411,903\n",
       "Name: value, dtype: object"
      ]
     },
     "execution_count": 34,
     "metadata": {},
     "output_type": "execute_result"
    }
   ],
   "source": [
    "raw_temp_data.groupby(\"element\")[\"value\"].count().apply(lambda x: f\"{x:,}\") # number of observations that were taken per category"
   ]
  },
  {
   "cell_type": "code",
   "execution_count": 35,
   "metadata": {},
   "outputs": [
    {
     "data": {
      "text/plain": [
       "element\n",
       "TAVG     1.84\n",
       "TMAX    34.54\n",
       "TMIN    34.36\n",
       "TOBS    29.27\n",
       "Name: value, dtype: object"
      ]
     },
     "execution_count": 35,
     "metadata": {},
     "output_type": "execute_result"
    }
   ],
   "source": [
    "raw_temp_data.groupby(\"element\")[\"value\"].count().apply(lambda x: f\"{x / len(raw_temp_data) * 100:,.2f}\") # percentage of observations per category"
   ]
  },
  {
   "cell_type": "code",
   "execution_count": 36,
   "metadata": {},
   "outputs": [
    {
     "data": {
      "text/plain": [
       "209"
      ]
     },
     "execution_count": 36,
     "metadata": {},
     "output_type": "execute_result"
    }
   ],
   "source": [
    "transformed_temp_data[\"name\"].nunique() # number of stations in Illinois"
   ]
  },
  {
   "cell_type": "code",
   "execution_count": 37,
   "metadata": {},
   "outputs": [
    {
     "data": {
      "text/plain": [
       "array(['HOOPESTON', 'CHICAGO UNIV', 'CHICAGO OHARE INTL AP', 'SALEM',\n",
       "       'MARION 4 NNE', 'PRINCETON', 'MORRISONVILLE', 'NEWTON 6 SSE',\n",
       "       'PANA', 'MONMOUTH', 'SPARTA 1 W', 'PIPER CITY', 'KANKAKEE WWTP',\n",
       "       'ROSICLARE 5NW', 'GALESBURG', 'CAHOKIA', 'OLNEY 2S',\n",
       "       'CHICAGO BOTANIC GARDEN', 'PALESTINE', 'CASEY', 'WHEATON 3 SE',\n",
       "       'HAVANA', 'HILLSBORO', 'MATTOON', 'WATERLOO 6SW', 'PERU',\n",
       "       'MARENGO', 'ELGIN', 'MCLEANSBORO', 'PARK FOREST', 'KEWANEE 1 E',\n",
       "       'JERSEYVILLE 2 SW', 'WALNUT', 'CHAMPAIGN 3S', 'EFFINGHAM 3SW',\n",
       "       'TUSCOLA', 'DECATUR WTP', 'FULTON L&D #13', 'LAKE VILLA 2NE',\n",
       "       'GIBSON CITY', 'GLENVIEW NAS', 'JOLIET BRANDON ROAD LOCK/DAM',\n",
       "       'MOWEAQUA 2S', 'DIXON 1W', 'ALEDO', 'FREEPORT WASTE WTP',\n",
       "       'PARIS STP', 'DIXON SPRINGS AGRIC CTR', 'HENNEPIN WTR TRMT PLT',\n",
       "       'NORMAL 4NE', 'DU QUOIN 4 SE', 'BELLEVILLE SIU RSCH',\n",
       "       'ROCKFORD GTR ROCKFORD AP', 'ROCHELLE', 'ALBION', 'BENTON 2 N',\n",
       "       'MT CARMEL', 'RANTOUL', 'LA HARPE', 'WINDSOR',\n",
       "       'CHICAGO MIDWAY AP 3SW', 'PONTIAC', 'CHENOA', 'FLORA 5 NW',\n",
       "       'ANTIOCH', 'MASON CITY 4SE', 'QUINCY RGNL AP', 'AURORA',\n",
       "       'BROOKPORT DAM 52', 'MORRISON', 'GENESEO',\n",
       "       'SPRINGFIELD ABRAHAM LINCOLN CA', 'OTTAWA 4SW',\n",
       "       'MOLINE QUAD CITY INTL AP', 'FARMER CITY 3W', 'ANNA 4 N',\n",
       "       'VANDALIA', 'CHARLESTON', 'GENERAL WAYNE A DOWNING INTL A',\n",
       "       'OLIVE BRANCH', 'JACKSONVILLE 2E', 'MT VERNON 3 NE', 'WATSEKA 2NW',\n",
       "       'SMITHLAND L&D', 'CARMI 3', 'CARLINVILLE', 'LACON',\n",
       "       'NASHVILLE 1 E', 'ROCK ISLAND L&D 15', 'MINONK',\n",
       "       'CARBONDALE SEWAGE PLT', 'RUSHVILLE', 'BARRINGTON 3SW',\n",
       "       'KASKASKIA RVR NAVIGATION LOCK', 'ELIZABETH', 'VIRDEN',\n",
       "       'TISKILWA 2 SE', 'MT CARROLL', 'STOCKTON 3 NNE', 'PRINCEVILLE',\n",
       "       'WAUKEGAN', 'GALVA', 'FAIRFIELD RADIO WFIW', 'DANVILLE',\n",
       "       'PAW PAW 2S', 'WHITE HALL 1 E', 'PAXTON 2 WSW', 'GOLDEN',\n",
       "       'GEBHARD WOODS SP', 'DE KALB', 'CAIRO 3N', 'QUINCY DAM 21',\n",
       "       'ALTON - MELVIN PRICE L&D', 'LINCOLN', 'HARRISBURG', 'ELDORADO',\n",
       "       'LAWRENCEVILLE 2WSW', 'RAMSEY', 'GLADSTONE DAM 18', 'DWIGHT',\n",
       "       'COMPTON 1 NW', 'BROWNSTOWN 4 SW', 'ELWOOD 8 NW', 'PERRY 6 NW',\n",
       "       'MC HENRY -WG STRATTON L&D', 'CARLYLE RSVR', 'STREAMWOOD',\n",
       "       'BENTLEY', 'MONMOUTH 4NW', 'POLO 5NW', 'NEWTON', 'OLMSTED L&D',\n",
       "       'MORRIS 1NW', 'PITTSFIELD #2', 'CONGERVILLE 2NW',\n",
       "       'CHICAGO PALWAUKEE AP', 'SHELBYVILLE DAM',\n",
       "       'LAWRENCEVILLE VINCENNES INTL A', 'CHANNAHON DRESDEN ISL DAM',\n",
       "       'MARSEILLES LOCK/DAM', 'CHICAGO MIDWAY AP', 'NEW BOSTON DAM 17',\n",
       "       'CHAMPAIGN URBANA WILLARD AP', 'CHICAGO W CHICAGO DUPAGE AP',\n",
       "       'CAHOKIA ST LOUIS DWTN AP', 'ROMEOVILLE WFO',\n",
       "       'UTICA STARVED ROCK DAM', 'IUKA 12 SW',\n",
       "       'MATTOON CHARLESTON COLES CO AP', 'WINCHESTER', 'LEBANON',\n",
       "       'CARBONDALE STHRN ILLINOIS AP', 'CHICAGO AURORA MUNI AP',\n",
       "       'BLOOMINGTON 5W', 'CHICAGO WAUKEGAN RGNL AP', 'CHRISMAN',\n",
       "       'MUNDELEIN 4 WSW', 'ATHENS 4SW', 'FLORA', 'CISCO', 'LOAMI 3SSW',\n",
       "       'DECATUR AP', 'GRAYVILLE', 'SULLIVAN 3S', 'ROBINSON', 'SIDELL 4N',\n",
       "       'DIXON SPRINGS ILLINOIS', 'BEAN RIDGE ILLINOIS', 'GRAND TWR 2 N',\n",
       "       'CRAB ORCHARD ILLINOIS', 'CHAMPAIGN 9 SW', 'PRAIRIE CITY 2S',\n",
       "       'SHABBONA 5 NNE', 'SOUTH PEKIN 2E', 'ILLINOIS CITY DAM 16',\n",
       "       'HUTSONVILLE', 'SPRINGFIELD #2', 'GRIGGSVILLE', 'URBANA 2',\n",
       "       'DECATUR 4N', 'CHICAGO NORTHERLY IS', 'NEOGA 4NW', 'HIDALGO 3SW',\n",
       "       'KNOXVILLE', 'ALTONA', 'JACKSONVILLE 2',\n",
       "       'LISLE - MORTON ARBORETUM', 'SAYBROOK 2N', 'AVON', 'STREATOR 3 SE',\n",
       "       'REND LAKE DAM', 'BIRDS 2E', 'CRYSTAL LAKE 4NW', 'TRIMBLE 1E',\n",
       "       'FISHER', 'LITTLE RED SCHOOL HSE', 'OGDEN', 'GERMANTOWN HILLS',\n",
       "       'VARNA', 'LOCKPORT PWR HOUSE', 'HENNEPIN', 'GALENA', 'CAIRO RIVER',\n",
       "       'PETERSBURG 3SSW', 'PETERSBURG 1E', 'BLOOMINGTON NORMAL AP',\n",
       "       'MACKINAW 3WSW', 'TAYLORVILLE 2SE', 'MILSTADT 2SW'], dtype=object)"
      ]
     },
     "execution_count": 37,
     "metadata": {},
     "output_type": "execute_result"
    }
   ],
   "source": [
    "transformed_temp_data[\"name\"].unique() # list of all the station names"
   ]
  },
  {
   "cell_type": "code",
   "execution_count": 46,
   "metadata": {},
   "outputs": [
    {
     "data": {
      "text/html": [
       "<div>\n",
       "<style scoped>\n",
       "    .dataframe tbody tr th:only-of-type {\n",
       "        vertical-align: middle;\n",
       "    }\n",
       "\n",
       "    .dataframe tbody tr th {\n",
       "        vertical-align: top;\n",
       "    }\n",
       "\n",
       "    .dataframe thead th {\n",
       "        text-align: right;\n",
       "    }\n",
       "</style>\n",
       "<table border=\"1\" class=\"dataframe\">\n",
       "  <thead>\n",
       "    <tr style=\"text-align: right;\">\n",
       "      <th></th>\n",
       "      <th>name</th>\n",
       "      <th>TAVG</th>\n",
       "      <th>TMAX</th>\n",
       "      <th>TMIN</th>\n",
       "      <th>TOBS</th>\n",
       "    </tr>\n",
       "  </thead>\n",
       "  <tbody>\n",
       "    <tr>\n",
       "      <th>0</th>\n",
       "      <td>ALBION</td>\n",
       "      <td>0</td>\n",
       "      <td>5233</td>\n",
       "      <td>5072</td>\n",
       "      <td>5047</td>\n",
       "    </tr>\n",
       "    <tr>\n",
       "      <th>1</th>\n",
       "      <td>ALEDO</td>\n",
       "      <td>0</td>\n",
       "      <td>11915</td>\n",
       "      <td>11892</td>\n",
       "      <td>11894</td>\n",
       "    </tr>\n",
       "    <tr>\n",
       "      <th>2</th>\n",
       "      <td>ALTON - MELVIN PRICE L&amp;D</td>\n",
       "      <td>0</td>\n",
       "      <td>10633</td>\n",
       "      <td>10295</td>\n",
       "      <td>10656</td>\n",
       "    </tr>\n",
       "    <tr>\n",
       "      <th>3</th>\n",
       "      <td>ALTONA</td>\n",
       "      <td>0</td>\n",
       "      <td>6005</td>\n",
       "      <td>5991</td>\n",
       "      <td>5822</td>\n",
       "    </tr>\n",
       "    <tr>\n",
       "      <th>4</th>\n",
       "      <td>ANNA 4 N</td>\n",
       "      <td>0</td>\n",
       "      <td>8675</td>\n",
       "      <td>8720</td>\n",
       "      <td>8258</td>\n",
       "    </tr>\n",
       "    <tr>\n",
       "      <th>...</th>\n",
       "      <td>...</td>\n",
       "      <td>...</td>\n",
       "      <td>...</td>\n",
       "      <td>...</td>\n",
       "      <td>...</td>\n",
       "    </tr>\n",
       "    <tr>\n",
       "      <th>204</th>\n",
       "      <td>WAUKEGAN</td>\n",
       "      <td>0</td>\n",
       "      <td>4340</td>\n",
       "      <td>4058</td>\n",
       "      <td>3986</td>\n",
       "    </tr>\n",
       "    <tr>\n",
       "      <th>205</th>\n",
       "      <td>WHEATON 3 SE</td>\n",
       "      <td>0</td>\n",
       "      <td>7686</td>\n",
       "      <td>7736</td>\n",
       "      <td>6652</td>\n",
       "    </tr>\n",
       "    <tr>\n",
       "      <th>206</th>\n",
       "      <td>WHITE HALL 1 E</td>\n",
       "      <td>0</td>\n",
       "      <td>12197</td>\n",
       "      <td>12155</td>\n",
       "      <td>12099</td>\n",
       "    </tr>\n",
       "    <tr>\n",
       "      <th>207</th>\n",
       "      <td>WINCHESTER</td>\n",
       "      <td>0</td>\n",
       "      <td>5811</td>\n",
       "      <td>5782</td>\n",
       "      <td>5782</td>\n",
       "    </tr>\n",
       "    <tr>\n",
       "      <th>208</th>\n",
       "      <td>WINDSOR</td>\n",
       "      <td>0</td>\n",
       "      <td>11605</td>\n",
       "      <td>11596</td>\n",
       "      <td>11502</td>\n",
       "    </tr>\n",
       "  </tbody>\n",
       "</table>\n",
       "<p>209 rows × 5 columns</p>\n",
       "</div>"
      ],
      "text/plain": [
       "                         name  TAVG   TMAX   TMIN   TOBS\n",
       "0                      ALBION     0   5233   5072   5047\n",
       "1                       ALEDO     0  11915  11892  11894\n",
       "2    ALTON - MELVIN PRICE L&D     0  10633  10295  10656\n",
       "3                      ALTONA     0   6005   5991   5822\n",
       "4                    ANNA 4 N     0   8675   8720   8258\n",
       "..                        ...   ...    ...    ...    ...\n",
       "204                  WAUKEGAN     0   4340   4058   3986\n",
       "205              WHEATON 3 SE     0   7686   7736   6652\n",
       "206            WHITE HALL 1 E     0  12197  12155  12099\n",
       "207                WINCHESTER     0   5811   5782   5782\n",
       "208                   WINDSOR     0  11605  11596  11502\n",
       "\n",
       "[209 rows x 5 columns]"
      ]
     },
     "execution_count": 46,
     "metadata": {},
     "output_type": "execute_result"
    }
   ],
   "source": [
    "num_obs_per_station = transformed_temp_data.filter(regex = \"name|T+\", axis = 1).groupby(\"name\", as_index = False).count() # number of observations per station\n",
    "num_obs_per_station"
   ]
  },
  {
   "cell_type": "code",
   "execution_count": null,
   "metadata": {},
   "outputs": [],
   "source": []
  }
 ],
 "metadata": {
  "kernelspec": {
   "display_name": "weather",
   "language": "python",
   "name": "python3"
  },
  "language_info": {
   "codemirror_mode": {
    "name": "ipython",
    "version": 3
   },
   "file_extension": ".py",
   "mimetype": "text/x-python",
   "name": "python",
   "nbconvert_exporter": "python",
   "pygments_lexer": "ipython3",
   "version": "3.12.0"
  }
 },
 "nbformat": 4,
 "nbformat_minor": 2
}
