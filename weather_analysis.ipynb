{
 "cells": [
  {
   "cell_type": "code",
   "execution_count": null,
   "metadata": {},
   "outputs": [],
   "source": [
    "from pathlib import Path\n",
    "import pandas as pd\n",
    "import numpy as np\n",
    "import tqdm\n",
    "import matplotlib.pyplot as plt\n",
    "import os"
   ]
  },
  {
   "cell_type": "code",
   "execution_count": null,
   "metadata": {},
   "outputs": [],
   "source": [
    "os.environ[\"GOOGLE_APPLICATION_CREDENTIALS\"] = str(Path.cwd() / \"secrets\" / \"my_credentials.json\")\n",
    "def get_weather_dataset(start_year, end_year, state):\n",
    "    \"\"\"This function runs a query on Google BigQuery from the noaa_gsod gsod dataset and returns a dataframe between a start_year and an end_year. The data is filtered by state.\n",
    "\n",
    "    Args:\n",
    "        start_year (int): the starting year in which we want to obtain the weather data\n",
    "        end_year (int): the ending year in which we want to obtain the weather data\n",
    "        state (str): the initials of the state we want to filter by (i.e. IL, MA, AZ, etc.)\n",
    "\n",
    "    Returns:\n",
    "        pandas.DataFrame: the data that pertains to a year range and state\n",
    "    \"\"\"\n",
    "    weather_query = f\"\"\"\n",
    "    SELECT gsod_combined.* \n",
    "    FROM `bigquery-public-data.noaa_gsod.gsod*` as gsod_combined\n",
    "    JOIN `bigquery-public-data.noaa_gsod.stations` AS stations ON gsod_combined.wban = stations.wban \n",
    "    WHERE stations.state = '{state}' AND CAST(gsod_combined.year AS INT64) BETWEEN {start_year} AND {end_year};\n",
    "    \"\"\"\n",
    "    weather_df = pd.read_gbq(weather_query, progress_bar_type = \"tqdm\")\n",
    "    return weather_df"
   ]
  },
  {
   "cell_type": "code",
   "execution_count": null,
   "metadata": {},
   "outputs": [],
   "source": [
    "# Gather the datasets for the weather of each year from 1990 to 2023\n",
    "combined_weather_data = get_weather_dataset(1990, 2023, \"IL\")"
   ]
  },
  {
   "cell_type": "code",
   "execution_count": null,
   "metadata": {},
   "outputs": [],
   "source": [
    "# Some data cleanup\n",
    "combined_weather_data.replace({999.9: np.nan}, inplace = True)\n",
    "combined_weather_data.replace({9999.9: np.nan}, inplace = True)"
   ]
  }
 ],
 "metadata": {
  "language_info": {
   "name": "python"
  }
 },
 "nbformat": 4,
 "nbformat_minor": 2
}
