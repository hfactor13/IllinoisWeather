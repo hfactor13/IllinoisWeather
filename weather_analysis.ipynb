{
 "cells": [
  {
   "cell_type": "markdown",
   "metadata": {},
   "source": [
    "# Exploratory Data Analysis of Weather in Illinois"
   ]
  },
  {
   "cell_type": "code",
   "execution_count": 1,
   "metadata": {},
   "outputs": [],
   "source": [
    "# DataFrame library\n",
    "import pandas as pd\n",
    "\n",
    "# Array library\n",
    "import numpy as np\n",
    "\n",
    "# Plotting library\n",
    "import matplotlib.pyplot as plt"
   ]
  },
  {
   "cell_type": "code",
   "execution_count": 2,
   "metadata": {},
   "outputs": [
    {
     "name": "stdout",
     "output_type": "stream",
     "text": [
      "<class 'pandas.core.frame.DataFrame'>\n",
      "RangeIndex: 19084993 entries, 0 to 19084992\n",
      "Data columns (total 10 columns):\n",
      " #   Column     Dtype  \n",
      "---  ------     -----  \n",
      " 0   id         string \n",
      " 1   date       string \n",
      " 2   time       string \n",
      " 3   element    string \n",
      " 4   value      float64\n",
      " 5   qflag      string \n",
      " 6   latitude   float64\n",
      " 7   longitude  float64\n",
      " 8   name       string \n",
      " 9   elevation  float64\n",
      "dtypes: float64(4), string(6)\n",
      "memory usage: 1.4 GB\n"
     ]
    }
   ],
   "source": [
    "# Loads the data based on the desired data types and columns\n",
    "raw_weather_data = pd.read_parquet(\"./data/raw_weather.parquet\", engine = \"pyarrow\")\n",
    "raw_weather_data.info()"
   ]
  },
  {
   "cell_type": "code",
   "execution_count": 3,
   "metadata": {},
   "outputs": [
    {
     "data": {
      "text/plain": [
       "<StringArray>\n",
       "[<NA>, 'I', 'L', 'D', 'S', 'M', 'O', 'G', 'W', 'X', 'K', 'Z', 'N', 'T', 'R']\n",
       "Length: 15, dtype: string"
      ]
     },
     "execution_count": 3,
     "metadata": {},
     "output_type": "execute_result"
    }
   ],
   "source": [
    "# The qflag represents quality of the measurement (we want the rows that don't have quality issues which is denoted <NA>)\n",
    "raw_weather_data[\"qflag\"].unique()"
   ]
  },
  {
   "cell_type": "code",
   "execution_count": 4,
   "metadata": {},
   "outputs": [
    {
     "data": {
      "text/plain": [
       "<StringArray>\n",
       "['PRCP', 'SNOW', 'SNWD', 'TMIN', 'DAPR', 'SX52', 'TMAX', 'TOBS', 'SN32',\n",
       " 'EVAP', 'SN52', 'WT01', 'WT04', 'SX32', 'WT03', 'WT06', 'WT11', 'WESD',\n",
       " 'WESF', 'TAVG', 'MDPR', 'WSFG', 'WDMV', 'MNPN', 'WT05', 'MXPN', 'AWND',\n",
       " 'PGTM', 'WDF2', 'WDF5', 'WSF2', 'WSF5', 'WT08', 'DASF', 'FMTM', 'TSUN',\n",
       " 'MDEV', 'WT02', 'WDFG', 'WT14', 'WT16', 'WT18', 'SN53', 'DAEV', 'SX53',\n",
       " 'MDSF', 'WT09', 'WT15', 'WT17', 'WT07', 'DAWM', 'MDWM', 'WT10', 'PSUN',\n",
       " 'WT13', 'WT22', 'ACMH', 'WDF1', 'WSF1', 'ACSH', 'ASLP', 'ADPT', 'WT21',\n",
       " 'RHMX', 'WT19', 'RHAV', 'AWBT', 'ASTP', 'RHMN', 'WV18', 'SN02', 'SN03',\n",
       " 'SX03', 'SX02', 'SX12', 'SN12', 'WV03', 'WV20', 'WV01']\n",
       "Length: 79, dtype: string"
      ]
     },
     "execution_count": 4,
     "metadata": {},
     "output_type": "execute_result"
    }
   ],
   "source": [
    "# Unique elements to gather data from\n",
    "# See the following website for more details https://docs.opendata.aws/noaa-ghcn-pds/readme.html#:~:text=SNWD%20%3D%20Snow%20depth%20(mm),temperature%20(tenths%20of%20degrees%20C)\n",
    "raw_weather_data[\"element\"].unique()"
   ]
  },
  {
   "cell_type": "code",
   "execution_count": 5,
   "metadata": {},
   "outputs": [
    {
     "data": {
      "text/plain": [
       "element\n",
       "WV01          1\n",
       "WV18          1\n",
       "PSUN          2\n",
       "WT10         13\n",
       "WV20         19\n",
       "         ...   \n",
       "TMIN    1678326\n",
       "TMAX    1679119\n",
       "SNWD    2693577\n",
       "SNOW    3964602\n",
       "PRCP    5183260\n",
       "Name: element, Length: 79, dtype: int64"
      ]
     },
     "execution_count": 5,
     "metadata": {},
     "output_type": "execute_result"
    }
   ],
   "source": [
    "# Counts the total number of occurrences of an element for each element\n",
    "element_count = raw_weather_data.groupby(\"element\")[\"element\"].count().sort_values()\n",
    "element_count"
   ]
  },
  {
   "cell_type": "code",
   "execution_count": 6,
   "metadata": {},
   "outputs": [
    {
     "data": {
      "text/plain": [
       "1950"
      ]
     },
     "execution_count": 6,
     "metadata": {},
     "output_type": "execute_result"
    }
   ],
   "source": [
    "# Number of stations in Illinois\n",
    "num_of_stations = raw_weather_data[\"name\"].nunique()\n",
    "num_of_stations"
   ]
  },
  {
   "cell_type": "code",
   "execution_count": 7,
   "metadata": {},
   "outputs": [
    {
     "data": {
      "text/plain": [
       "(19084993, 10)"
      ]
     },
     "execution_count": 7,
     "metadata": {},
     "output_type": "execute_result"
    }
   ],
   "source": [
    "raw_weather_data.shape"
   ]
  },
  {
   "cell_type": "code",
   "execution_count": 8,
   "metadata": {},
   "outputs": [
    {
     "name": "stderr",
     "output_type": "stream",
     "text": [
      "/var/folders/j5/byfswq3j1bg3s3yk6x9qdzbr0000gp/T/ipykernel_5500/3069688368.py:2: FutureWarning: A value is trying to be set on a copy of a DataFrame or Series through chained assignment using an inplace method.\n",
      "The behavior will change in pandas 3.0. This inplace method will never work because the intermediate object on which we are setting values always behaves as a copy.\n",
      "\n",
      "For example, when doing 'df[col].method(value, inplace=True)', try using 'df.method({col: value}, inplace=True)' or df[col] = df[col].method(value) instead, to perform the operation inplace on the original object.\n",
      "\n",
      "\n",
      "  raw_weather_data[\"time\"].fillna(\"0000\", inplace = True)\n"
     ]
    }
   ],
   "source": [
    "# Replaces all nan values with \"0000\"\n",
    "raw_weather_data[\"time\"].fillna(\"0000\", inplace = True)"
   ]
  },
  {
   "cell_type": "code",
   "execution_count": 9,
   "metadata": {},
   "outputs": [
    {
     "data": {
      "text/plain": [
       "array([4])"
      ]
     },
     "execution_count": 9,
     "metadata": {},
     "output_type": "execute_result"
    }
   ],
   "source": [
    "# Verifies how many unique length characters there was in the \"time\" column\n",
    "# There should only be one of length 4 characters to be able to parse into datetime format\n",
    "np.sort(raw_weather_data[\"time\"].apply(len).unique())"
   ]
  },
  {
   "cell_type": "code",
   "execution_count": 10,
   "metadata": {},
   "outputs": [],
   "source": [
    "# Adds a seconds placeholder for parsing\n",
    "raw_weather_data[\"time\"] = raw_weather_data[\"time\"].apply(lambda x: f\"{x[:-2]}:{x[-2:]}:00\")\n",
    "\n",
    "# Converts string format to datetime format for the time column\n",
    "raw_weather_data[\"time\"] = pd.to_timedelta(raw_weather_data[\"time\"])"
   ]
  },
  {
   "cell_type": "code",
   "execution_count": 11,
   "metadata": {},
   "outputs": [
    {
     "data": {
      "application/vnd.microsoft.datawrangler.viewer.v0+json": {
       "columns": [
        {
         "name": "index",
         "rawType": "int64",
         "type": "integer"
        },
        {
         "name": "id",
         "rawType": "string",
         "type": "string"
        },
        {
         "name": "date",
         "rawType": "datetime64[ns]",
         "type": "datetime"
        },
        {
         "name": "element",
         "rawType": "string",
         "type": "string"
        },
        {
         "name": "value",
         "rawType": "float64",
         "type": "float"
        },
        {
         "name": "latitude",
         "rawType": "float64",
         "type": "float"
        },
        {
         "name": "longitude",
         "rawType": "float64",
         "type": "float"
        },
        {
         "name": "name",
         "rawType": "string",
         "type": "string"
        },
        {
         "name": "elevation",
         "rawType": "float64",
         "type": "float"
        }
       ],
       "conversionMethod": "pd.DataFrame",
       "ref": "df615ade-29b2-4062-b130-7a3bce5614be",
       "rows": [
        [
         "0",
         "USC00111458",
         "1997-09-01 07:00:00",
         "PRCP",
         "0.0",
         "41.0092",
         "-87.8242",
         "CHEBANSE 5 E RIVER",
         "59.517340000000004"
        ],
        [
         "1",
         "USC00111664",
         "1997-12-28 07:00:00",
         "PRCP",
         "0.0",
         "38.5047",
         "-88.4094",
         "CISNE 2 S",
         "45.409040000000005"
        ],
        [
         "2",
         "USC00115935",
         "1997-10-02 07:00:00",
         "PRCP",
         "0.0",
         "39.9842",
         "-90.7525",
         "MT STERLING",
         "70.90241"
        ],
        [
         "3",
         "USC00119241",
         "1997-11-13 07:00:00",
         "PRCP",
         "0.0",
         "39.4408",
         "-90.3789",
         "WHITE HALL 1 E",
         "58.00808"
        ],
        [
         "4",
         "USC00110187",
         "1997-03-15 16:00:00",
         "PRCP",
         "0.0",
         "37.5222",
         "-89.2486",
         "ANNA 4 N",
         "59.287670000000006"
        ],
        [
         "5",
         "USC00111280",
         "1997-06-27 07:00:00",
         "PRCP",
         "0.0",
         "39.2881",
         "-89.8697",
         "CARLINVILLE",
         "61.09222"
        ],
        [
         "6",
         "USC00114957",
         "1997-12-30 06:00:00",
         "PRCP",
         "0.0",
         "38.7239",
         "-87.7197",
         "LAWRENCEVILLE 2WSW",
         "45.11375"
        ],
        [
         "7",
         "USC00117603",
         "1997-05-11 07:00:00",
         "PRCP",
         "0.0",
         "38.9364",
         "-88.0228",
         "STE MARIE (RIVER)",
         "50.00244"
        ],
        [
         "8",
         "USC00116642",
         "1997-04-17 07:00:00",
         "PRCP",
         "0.0",
         "38.7653",
         "-89.0561",
         "PATOKA",
         "51.90542"
        ],
        [
         "9",
         "USC00112679",
         "1997-06-30 08:00:00",
         "PRCP",
         "0.0",
         "38.8094",
         "-90.0033",
         "EDWARDSVILLE 2 W",
         "46.491769999999995"
        ],
        [
         "10",
         "USC00113666",
         "1997-08-22 07:00:00",
         "PRCP",
         "0.0",
         "39.3425",
         "-90.2061",
         "GREENFIELD",
         "54.00526000000001"
        ],
        [
         "11",
         "USC00114530",
         "1997-03-09 07:00:00",
         "PRCP",
         "0.0",
         "41.5033",
         "-88.1033",
         "JOLIET BRANDON ROAD LOCK/DAM",
         "54.30055"
        ],
        [
         "12",
         "USW00093809",
         "1997-05-03 07:00:00",
         "PRCP",
         "0.0",
         "37.0422",
         "-89.1856",
         "CAIRO 3N",
         "31.300740000000005"
        ],
        [
         "13",
         "USC00119241",
         "1997-02-07 07:00:00",
         "PRCP",
         "0.0",
         "39.4408",
         "-90.3789",
         "WHITE HALL 1 E",
         "58.00808"
        ],
        [
         "14",
         "USC00118324",
         "1997-07-11 07:00:00",
         "PRCP",
         "0.0",
         "42.0256",
         "-88.1783",
         "STREAMWOOD",
         "81.89376"
        ],
        [
         "15",
         "USC00115515",
         "1997-04-26 07:00:00",
         "PRCP",
         "0.0",
         "38.0844",
         "-88.5425",
         "MCLEANSBORO",
         "44.58879"
        ],
        [
         "16",
         "USC00112353",
         "1997-06-04 16:00:00",
         "PRCP",
         "0.0",
         "37.4389",
         "-88.6678",
         "DIXON SPRINGS AGRIC CTR",
         "52.692859999999996"
        ],
        [
         "17",
         "USC00111386",
         "1997-10-23 07:00:00",
         "PRCP",
         "0.0",
         "38.5556",
         "-89.1297",
         "CENTRALIA",
         "48.49318"
        ],
        [
         "18",
         "USC00116446",
         "1997-03-07 18:00:00",
         "PRCP",
         "0.0",
         "38.7006",
         "-88.0819",
         "OLNEY 2S",
         "45.90119"
        ],
        [
         "19",
         "USC00115372",
         "1997-05-31 06:00:00",
         "PRCP",
         "0.0",
         "41.3283",
         "-88.7533",
         "MARSEILLES LOCK/DAM",
         "48.69004"
        ],
        [
         "20",
         "USC00110442",
         "1997-03-21 07:00:00",
         "PRCP",
         "0.0",
         "42.1153",
         "-88.1639",
         "BARRINGTON 3SW",
         "87.50426999999999"
        ],
        [
         "21",
         "USC00112145",
         "1997-02-06 07:00:00",
         "PRCP",
         "0.0",
         "40.1019",
         "-87.5961",
         "DANVILLE SEWAGE PLT",
         "53.611540000000005"
        ],
        [
         "22",
         "USC00110761",
         "1997-10-21 08:00:00",
         "PRCP",
         "0.0",
         "40.4961",
         "-88.9994",
         "BLOOMINGTON WTR WKS",
         "76.61135"
        ],
        [
         "23",
         "USC00110761",
         "1997-12-07 08:00:00",
         "PRCP",
         "0.0",
         "40.4961",
         "-88.9994",
         "BLOOMINGTON WTR WKS",
         "76.61135"
        ],
        [
         "24",
         "USC00116200",
         "1997-02-11 07:00:00",
         "PRCP",
         "0.0",
         "40.5492",
         "-88.9497",
         "NORMAL 4NE",
         "79.00648000000001"
        ],
        [
         "25",
         "USC00119816",
         "1997-10-04 08:00:00",
         "PRCP",
         "0.0",
         "40.7781",
         "-90.0072",
         "YATES CITY",
         "66.89959"
        ],
        [
         "26",
         "USC00115758",
         "1997-02-16 07:00:00",
         "PRCP",
         "0.0",
         "41.1811",
         "-87.5725",
         "MOMENCE 5ENE",
         "63.29049"
        ],
        [
         "27",
         "USC00115935",
         "1997-01-05 07:00:00",
         "PRCP",
         "0.0",
         "39.9842",
         "-90.7525",
         "MT STERLING",
         "70.90241"
        ],
        [
         "28",
         "USC00112140",
         "1997-06-19 17:00:00",
         "PRCP",
         "0.0",
         "40.1392",
         "-87.6478",
         "DANVILLE",
         "55.51452"
        ],
        [
         "29",
         "USC00118916",
         "1997-09-02 08:00:00",
         "PRCP",
         "0.0",
         "41.5603",
         "-89.6025",
         "WALNUT",
         "67.09645"
        ],
        [
         "30",
         "USC00113580",
         "1997-05-02 07:00:00",
         "PRCP",
         "0.0",
         "37.1844",
         "-89.0658",
         "OLMSTED L&D",
         "37.50183"
        ],
        [
         "31",
         "USC00116200",
         "1997-09-01 07:00:00",
         "PRCP",
         "0.0",
         "40.5492",
         "-88.9497",
         "NORMAL 4NE",
         "79.00648000000001"
        ],
        [
         "32",
         "USC00112145",
         "1997-05-22 07:00:00",
         "PRCP",
         "0.0",
         "40.1019",
         "-87.5961",
         "DANVILLE SEWAGE PLT",
         "53.611540000000005"
        ],
        [
         "33",
         "USC00114089",
         "1997-09-11 07:00:00",
         "PRCP",
         "0.0",
         "38.7308",
         "-89.6531",
         "HIGHLAND",
         "52.00385"
        ],
        [
         "34",
         "USC00119241",
         "1997-04-15 07:00:00",
         "PRCP",
         "0.0",
         "39.4408",
         "-90.3789",
         "WHITE HALL 1 E",
         "58.00808"
        ],
        [
         "35",
         "USC00116610",
         "1997-11-19 07:00:00",
         "PRCP",
         "0.0",
         "39.6186",
         "-87.6672",
         "PARIS STP",
         "64.89818000000001"
        ],
        [
         "36",
         "USC00116072",
         "1997-01-02 00:00:00",
         "PRCP",
         "0.0",
         "38.3219",
         "-89.8756",
         "NEW ATHENS",
         "42.58738"
        ],
        [
         "37",
         "USC00113455",
         "1997-11-11 07:00:00",
         "PRCP",
         "0.0",
         "40.8822",
         "-91.0233",
         "GLADSTONE DAM 18",
         "53.8084"
        ],
        [
         "38",
         "USC00117014",
         "1997-07-06 07:00:00",
         "PRCP",
         "0.0",
         "41.6753",
         "-89.9375",
         "PROPHETSTOWN",
         "60.50164000000001"
        ],
        [
         "39",
         "USC00116157",
         "1997-02-15 00:00:00",
         "PRCP",
         "0.0",
         "38.9917",
         "-88.1828",
         "NEWTON",
         "53.08658"
        ],
        [
         "40",
         "USC00116874",
         "1997-04-17 07:00:00",
         "PRCP",
         "0.0",
         "37.895",
         "-89.0092",
         "PLUMFIELD",
         "39.306380000000004"
        ],
        [
         "41",
         "USC00110993",
         "1997-08-01 06:00:00",
         "PRCP",
         "0.0",
         "37.1275",
         "-88.6531",
         "BROOKPORT DAM 52",
         "33.006859999999996"
        ],
        [
         "42",
         "USC00115342",
         "1997-08-02 07:00:00",
         "PRCP",
         "0.0",
         "37.7747",
         "-88.8981",
         "MARION 4 NNE",
         "47.705740000000006"
        ],
        [
         "43",
         "USC00112178",
         "1997-03-08 08:00:00",
         "PRCP",
         "0.0",
         "41.3867",
         "-88.7906",
         "DAYTON RIVER",
         "46.19648000000001"
        ],
        [
         "44",
         "USC00115763",
         "1997-05-16 08:00:00",
         "PRCP",
         "0.0",
         "41.3936",
         "-87.7644",
         "MONEE RSVR",
         "75.29895"
        ],
        [
         "45",
         "USC00116998",
         "1997-08-29 00:00:00",
         "PRCP",
         "0.0",
         "41.3661",
         "-89.4519",
         "PRINCETON",
         "69.68844000000001"
        ],
        [
         "46",
         "USC00113940",
         "1997-12-08 07:00:00",
         "PRCP",
         "0.0",
         "40.3031",
         "-90.0647",
         "HAVANA",
         "46.29491"
        ],
        [
         "47",
         "USC00116490",
         "1997-10-04 07:00:00",
         "PRCP",
         "0.0",
         "42.0056",
         "-89.3278",
         "OREGON",
         "67.81827"
        ],
        [
         "48",
         "USC00110055",
         "1997-10-23 08:00:00",
         "PRCP",
         "0.0",
         "38.3778",
         "-88.0569",
         "ALBION",
         "52.98815"
        ],
        [
         "49",
         "USC00114530",
         "1997-05-30 07:00:00",
         "PRCP",
         "0.0",
         "41.5033",
         "-88.1033",
         "JOLIET BRANDON ROAD LOCK/DAM",
         "54.30055"
        ]
       ],
       "shape": {
        "columns": 8,
        "rows": 19025324
       }
      },
      "text/html": [
       "<div>\n",
       "<style scoped>\n",
       "    .dataframe tbody tr th:only-of-type {\n",
       "        vertical-align: middle;\n",
       "    }\n",
       "\n",
       "    .dataframe tbody tr th {\n",
       "        vertical-align: top;\n",
       "    }\n",
       "\n",
       "    .dataframe thead th {\n",
       "        text-align: right;\n",
       "    }\n",
       "</style>\n",
       "<table border=\"1\" class=\"dataframe\">\n",
       "  <thead>\n",
       "    <tr style=\"text-align: right;\">\n",
       "      <th></th>\n",
       "      <th>id</th>\n",
       "      <th>date</th>\n",
       "      <th>element</th>\n",
       "      <th>value</th>\n",
       "      <th>latitude</th>\n",
       "      <th>longitude</th>\n",
       "      <th>name</th>\n",
       "      <th>elevation</th>\n",
       "    </tr>\n",
       "  </thead>\n",
       "  <tbody>\n",
       "    <tr>\n",
       "      <th>0</th>\n",
       "      <td>USC00111458</td>\n",
       "      <td>1997-09-01 07:00:00</td>\n",
       "      <td>PRCP</td>\n",
       "      <td>0.0</td>\n",
       "      <td>41.0092</td>\n",
       "      <td>-87.8242</td>\n",
       "      <td>CHEBANSE 5 E RIVER</td>\n",
       "      <td>59.51734</td>\n",
       "    </tr>\n",
       "    <tr>\n",
       "      <th>1</th>\n",
       "      <td>USC00111664</td>\n",
       "      <td>1997-12-28 07:00:00</td>\n",
       "      <td>PRCP</td>\n",
       "      <td>0.0</td>\n",
       "      <td>38.5047</td>\n",
       "      <td>-88.4094</td>\n",
       "      <td>CISNE 2 S</td>\n",
       "      <td>45.40904</td>\n",
       "    </tr>\n",
       "    <tr>\n",
       "      <th>2</th>\n",
       "      <td>USC00115935</td>\n",
       "      <td>1997-10-02 07:00:00</td>\n",
       "      <td>PRCP</td>\n",
       "      <td>0.0</td>\n",
       "      <td>39.9842</td>\n",
       "      <td>-90.7525</td>\n",
       "      <td>MT STERLING</td>\n",
       "      <td>70.90241</td>\n",
       "    </tr>\n",
       "    <tr>\n",
       "      <th>3</th>\n",
       "      <td>USC00119241</td>\n",
       "      <td>1997-11-13 07:00:00</td>\n",
       "      <td>PRCP</td>\n",
       "      <td>0.0</td>\n",
       "      <td>39.4408</td>\n",
       "      <td>-90.3789</td>\n",
       "      <td>WHITE HALL 1 E</td>\n",
       "      <td>58.00808</td>\n",
       "    </tr>\n",
       "    <tr>\n",
       "      <th>4</th>\n",
       "      <td>USC00110187</td>\n",
       "      <td>1997-03-15 16:00:00</td>\n",
       "      <td>PRCP</td>\n",
       "      <td>0.0</td>\n",
       "      <td>37.5222</td>\n",
       "      <td>-89.2486</td>\n",
       "      <td>ANNA 4 N</td>\n",
       "      <td>59.28767</td>\n",
       "    </tr>\n",
       "    <tr>\n",
       "      <th>...</th>\n",
       "      <td>...</td>\n",
       "      <td>...</td>\n",
       "      <td>...</td>\n",
       "      <td>...</td>\n",
       "      <td>...</td>\n",
       "      <td>...</td>\n",
       "      <td>...</td>\n",
       "      <td>...</td>\n",
       "    </tr>\n",
       "    <tr>\n",
       "      <th>19084988</th>\n",
       "      <td>USC00119021</td>\n",
       "      <td>1994-10-04 07:00:00</td>\n",
       "      <td>TMIN</td>\n",
       "      <td>78.0</td>\n",
       "      <td>40.7939</td>\n",
       "      <td>-87.7544</td>\n",
       "      <td>WATSEKA 2NW</td>\n",
       "      <td>62.79834</td>\n",
       "    </tr>\n",
       "    <tr>\n",
       "      <th>19084989</th>\n",
       "      <td>USC00119021</td>\n",
       "      <td>1994-11-29 07:00:00</td>\n",
       "      <td>TOBS</td>\n",
       "      <td>-28.0</td>\n",
       "      <td>40.7939</td>\n",
       "      <td>-87.7544</td>\n",
       "      <td>WATSEKA 2NW</td>\n",
       "      <td>62.79834</td>\n",
       "    </tr>\n",
       "    <tr>\n",
       "      <th>19084990</th>\n",
       "      <td>USC00119021</td>\n",
       "      <td>1994-03-02 07:00:00</td>\n",
       "      <td>TOBS</td>\n",
       "      <td>-72.0</td>\n",
       "      <td>40.7939</td>\n",
       "      <td>-87.7544</td>\n",
       "      <td>WATSEKA 2NW</td>\n",
       "      <td>62.79834</td>\n",
       "    </tr>\n",
       "    <tr>\n",
       "      <th>19084991</th>\n",
       "      <td>USC00119021</td>\n",
       "      <td>1994-03-12 07:00:00</td>\n",
       "      <td>TOBS</td>\n",
       "      <td>17.0</td>\n",
       "      <td>40.7939</td>\n",
       "      <td>-87.7544</td>\n",
       "      <td>WATSEKA 2NW</td>\n",
       "      <td>62.79834</td>\n",
       "    </tr>\n",
       "    <tr>\n",
       "      <th>19084992</th>\n",
       "      <td>USC00119021</td>\n",
       "      <td>1994-06-13 00:00:00</td>\n",
       "      <td>WT03</td>\n",
       "      <td>1.0</td>\n",
       "      <td>40.7939</td>\n",
       "      <td>-87.7544</td>\n",
       "      <td>WATSEKA 2NW</td>\n",
       "      <td>62.79834</td>\n",
       "    </tr>\n",
       "  </tbody>\n",
       "</table>\n",
       "<p>19025324 rows × 8 columns</p>\n",
       "</div>"
      ],
      "text/plain": [
       "                   id                date element  value  latitude  longitude  \\\n",
       "0         USC00111458 1997-09-01 07:00:00    PRCP    0.0   41.0092   -87.8242   \n",
       "1         USC00111664 1997-12-28 07:00:00    PRCP    0.0   38.5047   -88.4094   \n",
       "2         USC00115935 1997-10-02 07:00:00    PRCP    0.0   39.9842   -90.7525   \n",
       "3         USC00119241 1997-11-13 07:00:00    PRCP    0.0   39.4408   -90.3789   \n",
       "4         USC00110187 1997-03-15 16:00:00    PRCP    0.0   37.5222   -89.2486   \n",
       "...               ...                 ...     ...    ...       ...        ...   \n",
       "19084988  USC00119021 1994-10-04 07:00:00    TMIN   78.0   40.7939   -87.7544   \n",
       "19084989  USC00119021 1994-11-29 07:00:00    TOBS  -28.0   40.7939   -87.7544   \n",
       "19084990  USC00119021 1994-03-02 07:00:00    TOBS  -72.0   40.7939   -87.7544   \n",
       "19084991  USC00119021 1994-03-12 07:00:00    TOBS   17.0   40.7939   -87.7544   \n",
       "19084992  USC00119021 1994-06-13 00:00:00    WT03    1.0   40.7939   -87.7544   \n",
       "\n",
       "                        name  elevation  \n",
       "0         CHEBANSE 5 E RIVER   59.51734  \n",
       "1                  CISNE 2 S   45.40904  \n",
       "2                MT STERLING   70.90241  \n",
       "3             WHITE HALL 1 E   58.00808  \n",
       "4                   ANNA 4 N   59.28767  \n",
       "...                      ...        ...  \n",
       "19084988         WATSEKA 2NW   62.79834  \n",
       "19084989         WATSEKA 2NW   62.79834  \n",
       "19084990         WATSEKA 2NW   62.79834  \n",
       "19084991         WATSEKA 2NW   62.79834  \n",
       "19084992         WATSEKA 2NW   62.79834  \n",
       "\n",
       "[19025324 rows x 8 columns]"
      ]
     },
     "execution_count": 11,
     "metadata": {},
     "output_type": "execute_result"
    }
   ],
   "source": [
    "# Converts the string format to a datetime format for the date column\n",
    "raw_weather_data[\"date\"] = pd.to_datetime(raw_weather_data[\"date\"])\n",
    "\n",
    "# Combines date and time into the same column which can be accessed via object attributes\n",
    "raw_weather_data[\"date\"] = raw_weather_data[\"date\"] + raw_weather_data[\"time\"]\n",
    "\n",
    "# Drops the redundant time column\n",
    "raw_weather_data.drop(columns = [\"time\"], inplace = True)\n",
    "\n",
    "# Drops the rows that have quality issues\n",
    "raw_weather_data = raw_weather_data[raw_weather_data[\"qflag\"].isna()].drop(columns = [\"qflag\"])\n",
    "\n",
    "# Converts elevation in tenths of meters to feet\n",
    "raw_weather_data[\"elevation\"] = raw_weather_data[\"elevation\"] / 10 * 3.281\n",
    "raw_weather_data"
   ]
  },
  {
   "cell_type": "code",
   "execution_count": 12,
   "metadata": {},
   "outputs": [],
   "source": [
    "# Elements of interest\n",
    "desired_elements = [\"TMIN\", \"TMAX\", \"TOBS\", \"TSUN\", \"PRCP\", \"SNOW\", \"SNWD\"]\n",
    "desired_data = raw_weather_data[raw_weather_data[\"element\"].isin(desired_elements)]"
   ]
  },
  {
   "cell_type": "code",
   "execution_count": 13,
   "metadata": {},
   "outputs": [
    {
     "data": {
      "application/vnd.microsoft.datawrangler.viewer.v0+json": {
       "columns": [
        {
         "name": "index",
         "rawType": "int64",
         "type": "integer"
        },
        {
         "name": "PRCP",
         "rawType": "float64",
         "type": "float"
        },
        {
         "name": "SNOW",
         "rawType": "float64",
         "type": "float"
        },
        {
         "name": "SNWD",
         "rawType": "float64",
         "type": "float"
        },
        {
         "name": "TMAX",
         "rawType": "float64",
         "type": "float"
        },
        {
         "name": "TMIN",
         "rawType": "float64",
         "type": "float"
        },
        {
         "name": "TOBS",
         "rawType": "float64",
         "type": "float"
        },
        {
         "name": "TSUN",
         "rawType": "float64",
         "type": "float"
        }
       ],
       "conversionMethod": "pd.DataFrame",
       "ref": "78df6781-f92c-4bc9-bd0e-81deee296adb",
       "rows": [
        [
         "0",
         "0.0",
         null,
         null,
         null,
         null,
         null,
         null
        ],
        [
         "1",
         "0.0",
         null,
         null,
         null,
         null,
         null,
         null
        ],
        [
         "2",
         "0.0",
         null,
         null,
         null,
         null,
         null,
         null
        ],
        [
         "3",
         "0.0",
         null,
         null,
         null,
         null,
         null,
         null
        ],
        [
         "4",
         "0.0",
         null,
         null,
         null,
         null,
         null,
         null
        ],
        [
         "5",
         "0.0",
         null,
         null,
         null,
         null,
         null,
         null
        ],
        [
         "6",
         "0.0",
         null,
         null,
         null,
         null,
         null,
         null
        ],
        [
         "7",
         "0.0",
         null,
         null,
         null,
         null,
         null,
         null
        ],
        [
         "8",
         "0.0",
         null,
         null,
         null,
         null,
         null,
         null
        ],
        [
         "9",
         "0.0",
         null,
         null,
         null,
         null,
         null,
         null
        ],
        [
         "10",
         "0.0",
         null,
         null,
         null,
         null,
         null,
         null
        ],
        [
         "11",
         "0.0",
         null,
         null,
         null,
         null,
         null,
         null
        ],
        [
         "12",
         "0.0",
         null,
         null,
         null,
         null,
         null,
         null
        ],
        [
         "13",
         "0.0",
         null,
         null,
         null,
         null,
         null,
         null
        ],
        [
         "14",
         "0.0",
         null,
         null,
         null,
         null,
         null,
         null
        ],
        [
         "15",
         "0.0",
         null,
         null,
         null,
         null,
         null,
         null
        ],
        [
         "16",
         "0.0",
         null,
         null,
         null,
         null,
         null,
         null
        ],
        [
         "17",
         "0.0",
         null,
         null,
         null,
         null,
         null,
         null
        ],
        [
         "18",
         "0.0",
         null,
         null,
         null,
         null,
         null,
         null
        ],
        [
         "19",
         "0.0",
         null,
         null,
         null,
         null,
         null,
         null
        ],
        [
         "20",
         "0.0",
         null,
         null,
         null,
         null,
         null,
         null
        ],
        [
         "21",
         "0.0",
         null,
         null,
         null,
         null,
         null,
         null
        ],
        [
         "22",
         "0.0",
         null,
         null,
         null,
         null,
         null,
         null
        ],
        [
         "23",
         "0.0",
         null,
         null,
         null,
         null,
         null,
         null
        ],
        [
         "24",
         "0.0",
         null,
         null,
         null,
         null,
         null,
         null
        ],
        [
         "25",
         "0.0",
         null,
         null,
         null,
         null,
         null,
         null
        ],
        [
         "26",
         "0.0",
         null,
         null,
         null,
         null,
         null,
         null
        ],
        [
         "27",
         "0.0",
         null,
         null,
         null,
         null,
         null,
         null
        ],
        [
         "28",
         "0.0",
         null,
         null,
         null,
         null,
         null,
         null
        ],
        [
         "29",
         "0.0",
         null,
         null,
         null,
         null,
         null,
         null
        ],
        [
         "30",
         "0.0",
         null,
         null,
         null,
         null,
         null,
         null
        ],
        [
         "31",
         "0.0",
         null,
         null,
         null,
         null,
         null,
         null
        ],
        [
         "32",
         "0.0",
         null,
         null,
         null,
         null,
         null,
         null
        ],
        [
         "33",
         "0.0",
         null,
         null,
         null,
         null,
         null,
         null
        ],
        [
         "34",
         "0.0",
         null,
         null,
         null,
         null,
         null,
         null
        ],
        [
         "35",
         "0.0",
         null,
         null,
         null,
         null,
         null,
         null
        ],
        [
         "36",
         "0.0",
         null,
         null,
         null,
         null,
         null,
         null
        ],
        [
         "37",
         "0.0",
         null,
         null,
         null,
         null,
         null,
         null
        ],
        [
         "38",
         "0.0",
         null,
         null,
         null,
         null,
         null,
         null
        ],
        [
         "39",
         "0.0",
         null,
         null,
         null,
         null,
         null,
         null
        ],
        [
         "40",
         "0.0",
         null,
         null,
         null,
         null,
         null,
         null
        ],
        [
         "41",
         "0.0",
         null,
         null,
         null,
         null,
         null,
         null
        ],
        [
         "42",
         "0.0",
         null,
         null,
         null,
         null,
         null,
         null
        ],
        [
         "43",
         "0.0",
         null,
         null,
         null,
         null,
         null,
         null
        ],
        [
         "44",
         "0.0",
         null,
         null,
         null,
         null,
         null,
         null
        ],
        [
         "45",
         "0.0",
         null,
         null,
         null,
         null,
         null,
         null
        ],
        [
         "46",
         "0.0",
         null,
         null,
         null,
         null,
         null,
         null
        ],
        [
         "47",
         "0.0",
         null,
         null,
         null,
         null,
         null,
         null
        ],
        [
         "48",
         "0.0",
         null,
         null,
         null,
         null,
         null,
         null
        ],
        [
         "49",
         "0.0",
         null,
         null,
         null,
         null,
         null,
         null
        ]
       ],
       "shape": {
        "columns": 7,
        "rows": 16614169
       }
      },
      "text/html": [
       "<div>\n",
       "<style scoped>\n",
       "    .dataframe tbody tr th:only-of-type {\n",
       "        vertical-align: middle;\n",
       "    }\n",
       "\n",
       "    .dataframe tbody tr th {\n",
       "        vertical-align: top;\n",
       "    }\n",
       "\n",
       "    .dataframe thead th {\n",
       "        text-align: right;\n",
       "    }\n",
       "</style>\n",
       "<table border=\"1\" class=\"dataframe\">\n",
       "  <thead>\n",
       "    <tr style=\"text-align: right;\">\n",
       "      <th>element</th>\n",
       "      <th>PRCP</th>\n",
       "      <th>SNOW</th>\n",
       "      <th>SNWD</th>\n",
       "      <th>TMAX</th>\n",
       "      <th>TMIN</th>\n",
       "      <th>TOBS</th>\n",
       "      <th>TSUN</th>\n",
       "    </tr>\n",
       "  </thead>\n",
       "  <tbody>\n",
       "    <tr>\n",
       "      <th>0</th>\n",
       "      <td>0.0</td>\n",
       "      <td>NaN</td>\n",
       "      <td>NaN</td>\n",
       "      <td>NaN</td>\n",
       "      <td>NaN</td>\n",
       "      <td>NaN</td>\n",
       "      <td>NaN</td>\n",
       "    </tr>\n",
       "    <tr>\n",
       "      <th>1</th>\n",
       "      <td>0.0</td>\n",
       "      <td>NaN</td>\n",
       "      <td>NaN</td>\n",
       "      <td>NaN</td>\n",
       "      <td>NaN</td>\n",
       "      <td>NaN</td>\n",
       "      <td>NaN</td>\n",
       "    </tr>\n",
       "    <tr>\n",
       "      <th>2</th>\n",
       "      <td>0.0</td>\n",
       "      <td>NaN</td>\n",
       "      <td>NaN</td>\n",
       "      <td>NaN</td>\n",
       "      <td>NaN</td>\n",
       "      <td>NaN</td>\n",
       "      <td>NaN</td>\n",
       "    </tr>\n",
       "    <tr>\n",
       "      <th>3</th>\n",
       "      <td>0.0</td>\n",
       "      <td>NaN</td>\n",
       "      <td>NaN</td>\n",
       "      <td>NaN</td>\n",
       "      <td>NaN</td>\n",
       "      <td>NaN</td>\n",
       "      <td>NaN</td>\n",
       "    </tr>\n",
       "    <tr>\n",
       "      <th>4</th>\n",
       "      <td>0.0</td>\n",
       "      <td>NaN</td>\n",
       "      <td>NaN</td>\n",
       "      <td>NaN</td>\n",
       "      <td>NaN</td>\n",
       "      <td>NaN</td>\n",
       "      <td>NaN</td>\n",
       "    </tr>\n",
       "    <tr>\n",
       "      <th>...</th>\n",
       "      <td>...</td>\n",
       "      <td>...</td>\n",
       "      <td>...</td>\n",
       "      <td>...</td>\n",
       "      <td>...</td>\n",
       "      <td>...</td>\n",
       "      <td>...</td>\n",
       "    </tr>\n",
       "    <tr>\n",
       "      <th>19084987</th>\n",
       "      <td>NaN</td>\n",
       "      <td>NaN</td>\n",
       "      <td>NaN</td>\n",
       "      <td>NaN</td>\n",
       "      <td>178.0</td>\n",
       "      <td>NaN</td>\n",
       "      <td>NaN</td>\n",
       "    </tr>\n",
       "    <tr>\n",
       "      <th>19084988</th>\n",
       "      <td>NaN</td>\n",
       "      <td>NaN</td>\n",
       "      <td>NaN</td>\n",
       "      <td>NaN</td>\n",
       "      <td>78.0</td>\n",
       "      <td>NaN</td>\n",
       "      <td>NaN</td>\n",
       "    </tr>\n",
       "    <tr>\n",
       "      <th>19084989</th>\n",
       "      <td>NaN</td>\n",
       "      <td>NaN</td>\n",
       "      <td>NaN</td>\n",
       "      <td>NaN</td>\n",
       "      <td>NaN</td>\n",
       "      <td>-28.0</td>\n",
       "      <td>NaN</td>\n",
       "    </tr>\n",
       "    <tr>\n",
       "      <th>19084990</th>\n",
       "      <td>NaN</td>\n",
       "      <td>NaN</td>\n",
       "      <td>NaN</td>\n",
       "      <td>NaN</td>\n",
       "      <td>NaN</td>\n",
       "      <td>-72.0</td>\n",
       "      <td>NaN</td>\n",
       "    </tr>\n",
       "    <tr>\n",
       "      <th>19084991</th>\n",
       "      <td>NaN</td>\n",
       "      <td>NaN</td>\n",
       "      <td>NaN</td>\n",
       "      <td>NaN</td>\n",
       "      <td>NaN</td>\n",
       "      <td>17.0</td>\n",
       "      <td>NaN</td>\n",
       "    </tr>\n",
       "  </tbody>\n",
       "</table>\n",
       "<p>16614169 rows × 7 columns</p>\n",
       "</div>"
      ],
      "text/plain": [
       "element   PRCP  SNOW  SNWD  TMAX   TMIN  TOBS  TSUN\n",
       "0          0.0   NaN   NaN   NaN    NaN   NaN   NaN\n",
       "1          0.0   NaN   NaN   NaN    NaN   NaN   NaN\n",
       "2          0.0   NaN   NaN   NaN    NaN   NaN   NaN\n",
       "3          0.0   NaN   NaN   NaN    NaN   NaN   NaN\n",
       "4          0.0   NaN   NaN   NaN    NaN   NaN   NaN\n",
       "...        ...   ...   ...   ...    ...   ...   ...\n",
       "19084987   NaN   NaN   NaN   NaN  178.0   NaN   NaN\n",
       "19084988   NaN   NaN   NaN   NaN   78.0   NaN   NaN\n",
       "19084989   NaN   NaN   NaN   NaN    NaN -28.0   NaN\n",
       "19084990   NaN   NaN   NaN   NaN    NaN -72.0   NaN\n",
       "19084991   NaN   NaN   NaN   NaN    NaN  17.0   NaN\n",
       "\n",
       "[16614169 rows x 7 columns]"
      ]
     },
     "execution_count": 13,
     "metadata": {},
     "output_type": "execute_result"
    }
   ],
   "source": [
    "# Pivots the element values into columns which are more useful in column format\n",
    "desired_weather_pivot = desired_data.pivot(columns = \"element\", values = \"value\")\n",
    "desired_weather_pivot"
   ]
  },
  {
   "cell_type": "code",
   "execution_count": 14,
   "metadata": {},
   "outputs": [
    {
     "data": {
      "application/vnd.microsoft.datawrangler.viewer.v0+json": {
       "columns": [
        {
         "name": "index",
         "rawType": "int64",
         "type": "integer"
        },
        {
         "name": "id",
         "rawType": "string",
         "type": "string"
        },
        {
         "name": "date",
         "rawType": "datetime64[ns]",
         "type": "datetime"
        },
        {
         "name": "latitude",
         "rawType": "float64",
         "type": "float"
        },
        {
         "name": "longitude",
         "rawType": "float64",
         "type": "float"
        },
        {
         "name": "name",
         "rawType": "string",
         "type": "string"
        },
        {
         "name": "elevation",
         "rawType": "float64",
         "type": "float"
        },
        {
         "name": "PRCP",
         "rawType": "float64",
         "type": "float"
        },
        {
         "name": "SNOW",
         "rawType": "float64",
         "type": "float"
        },
        {
         "name": "SNWD",
         "rawType": "float64",
         "type": "float"
        },
        {
         "name": "TMAX",
         "rawType": "float64",
         "type": "float"
        },
        {
         "name": "TMIN",
         "rawType": "float64",
         "type": "float"
        },
        {
         "name": "TOBS",
         "rawType": "float64",
         "type": "float"
        },
        {
         "name": "TSUN",
         "rawType": "float64",
         "type": "float"
        }
       ],
       "conversionMethod": "pd.DataFrame",
       "ref": "a61884b8-7ed5-4fd3-869a-830f91786ab2",
       "rows": [
        [
         "0",
         "USC00111458",
         "1997-09-01 07:00:00",
         "41.0092",
         "-87.8242",
         "CHEBANSE 5 E RIVER",
         "59.517340000000004",
         "0.0",
         null,
         null,
         null,
         null,
         null,
         null
        ],
        [
         "1",
         "USC00111664",
         "1997-12-28 07:00:00",
         "38.5047",
         "-88.4094",
         "CISNE 2 S",
         "45.409040000000005",
         "0.0",
         null,
         null,
         null,
         null,
         null,
         null
        ],
        [
         "2",
         "USC00115935",
         "1997-10-02 07:00:00",
         "39.9842",
         "-90.7525",
         "MT STERLING",
         "70.90241",
         "0.0",
         null,
         null,
         null,
         null,
         null,
         null
        ],
        [
         "3",
         "USC00119241",
         "1997-11-13 07:00:00",
         "39.4408",
         "-90.3789",
         "WHITE HALL 1 E",
         "58.00808",
         "0.0",
         null,
         null,
         null,
         null,
         null,
         null
        ],
        [
         "4",
         "USC00110187",
         "1997-03-15 16:00:00",
         "37.5222",
         "-89.2486",
         "ANNA 4 N",
         "59.287670000000006",
         "0.0",
         null,
         null,
         null,
         null,
         null,
         null
        ],
        [
         "5",
         "USC00111280",
         "1997-06-27 07:00:00",
         "39.2881",
         "-89.8697",
         "CARLINVILLE",
         "61.09222",
         "0.0",
         null,
         null,
         null,
         null,
         null,
         null
        ],
        [
         "6",
         "USC00114957",
         "1997-12-30 06:00:00",
         "38.7239",
         "-87.7197",
         "LAWRENCEVILLE 2WSW",
         "45.11375",
         "0.0",
         null,
         null,
         null,
         null,
         null,
         null
        ],
        [
         "7",
         "USC00117603",
         "1997-05-11 07:00:00",
         "38.9364",
         "-88.0228",
         "STE MARIE (RIVER)",
         "50.00244",
         "0.0",
         null,
         null,
         null,
         null,
         null,
         null
        ],
        [
         "8",
         "USC00116642",
         "1997-04-17 07:00:00",
         "38.7653",
         "-89.0561",
         "PATOKA",
         "51.90542",
         "0.0",
         null,
         null,
         null,
         null,
         null,
         null
        ],
        [
         "9",
         "USC00112679",
         "1997-06-30 08:00:00",
         "38.8094",
         "-90.0033",
         "EDWARDSVILLE 2 W",
         "46.491769999999995",
         "0.0",
         null,
         null,
         null,
         null,
         null,
         null
        ],
        [
         "10",
         "USC00113666",
         "1997-08-22 07:00:00",
         "39.3425",
         "-90.2061",
         "GREENFIELD",
         "54.00526000000001",
         "0.0",
         null,
         null,
         null,
         null,
         null,
         null
        ],
        [
         "11",
         "USC00114530",
         "1997-03-09 07:00:00",
         "41.5033",
         "-88.1033",
         "JOLIET BRANDON ROAD LOCK/DAM",
         "54.30055",
         "0.0",
         null,
         null,
         null,
         null,
         null,
         null
        ],
        [
         "12",
         "USW00093809",
         "1997-05-03 07:00:00",
         "37.0422",
         "-89.1856",
         "CAIRO 3N",
         "31.300740000000005",
         "0.0",
         null,
         null,
         null,
         null,
         null,
         null
        ],
        [
         "13",
         "USC00119241",
         "1997-02-07 07:00:00",
         "39.4408",
         "-90.3789",
         "WHITE HALL 1 E",
         "58.00808",
         "0.0",
         null,
         null,
         null,
         null,
         null,
         null
        ],
        [
         "14",
         "USC00118324",
         "1997-07-11 07:00:00",
         "42.0256",
         "-88.1783",
         "STREAMWOOD",
         "81.89376",
         "0.0",
         null,
         null,
         null,
         null,
         null,
         null
        ],
        [
         "15",
         "USC00115515",
         "1997-04-26 07:00:00",
         "38.0844",
         "-88.5425",
         "MCLEANSBORO",
         "44.58879",
         "0.0",
         null,
         null,
         null,
         null,
         null,
         null
        ],
        [
         "16",
         "USC00112353",
         "1997-06-04 16:00:00",
         "37.4389",
         "-88.6678",
         "DIXON SPRINGS AGRIC CTR",
         "52.692859999999996",
         "0.0",
         null,
         null,
         null,
         null,
         null,
         null
        ],
        [
         "17",
         "USC00111386",
         "1997-10-23 07:00:00",
         "38.5556",
         "-89.1297",
         "CENTRALIA",
         "48.49318",
         "0.0",
         null,
         null,
         null,
         null,
         null,
         null
        ],
        [
         "18",
         "USC00116446",
         "1997-03-07 18:00:00",
         "38.7006",
         "-88.0819",
         "OLNEY 2S",
         "45.90119",
         "0.0",
         null,
         null,
         null,
         null,
         null,
         null
        ],
        [
         "19",
         "USC00115372",
         "1997-05-31 06:00:00",
         "41.3283",
         "-88.7533",
         "MARSEILLES LOCK/DAM",
         "48.69004",
         "0.0",
         null,
         null,
         null,
         null,
         null,
         null
        ],
        [
         "20",
         "USC00110442",
         "1997-03-21 07:00:00",
         "42.1153",
         "-88.1639",
         "BARRINGTON 3SW",
         "87.50426999999999",
         "0.0",
         null,
         null,
         null,
         null,
         null,
         null
        ],
        [
         "21",
         "USC00112145",
         "1997-02-06 07:00:00",
         "40.1019",
         "-87.5961",
         "DANVILLE SEWAGE PLT",
         "53.611540000000005",
         "0.0",
         null,
         null,
         null,
         null,
         null,
         null
        ],
        [
         "22",
         "USC00110761",
         "1997-10-21 08:00:00",
         "40.4961",
         "-88.9994",
         "BLOOMINGTON WTR WKS",
         "76.61135",
         "0.0",
         null,
         null,
         null,
         null,
         null,
         null
        ],
        [
         "23",
         "USC00110761",
         "1997-12-07 08:00:00",
         "40.4961",
         "-88.9994",
         "BLOOMINGTON WTR WKS",
         "76.61135",
         "0.0",
         null,
         null,
         null,
         null,
         null,
         null
        ],
        [
         "24",
         "USC00116200",
         "1997-02-11 07:00:00",
         "40.5492",
         "-88.9497",
         "NORMAL 4NE",
         "79.00648000000001",
         "0.0",
         null,
         null,
         null,
         null,
         null,
         null
        ],
        [
         "25",
         "USC00119816",
         "1997-10-04 08:00:00",
         "40.7781",
         "-90.0072",
         "YATES CITY",
         "66.89959",
         "0.0",
         null,
         null,
         null,
         null,
         null,
         null
        ],
        [
         "26",
         "USC00115758",
         "1997-02-16 07:00:00",
         "41.1811",
         "-87.5725",
         "MOMENCE 5ENE",
         "63.29049",
         "0.0",
         null,
         null,
         null,
         null,
         null,
         null
        ],
        [
         "27",
         "USC00115935",
         "1997-01-05 07:00:00",
         "39.9842",
         "-90.7525",
         "MT STERLING",
         "70.90241",
         "0.0",
         null,
         null,
         null,
         null,
         null,
         null
        ],
        [
         "28",
         "USC00112140",
         "1997-06-19 17:00:00",
         "40.1392",
         "-87.6478",
         "DANVILLE",
         "55.51452",
         "0.0",
         null,
         null,
         null,
         null,
         null,
         null
        ],
        [
         "29",
         "USC00118916",
         "1997-09-02 08:00:00",
         "41.5603",
         "-89.6025",
         "WALNUT",
         "67.09645",
         "0.0",
         null,
         null,
         null,
         null,
         null,
         null
        ],
        [
         "30",
         "USC00113580",
         "1997-05-02 07:00:00",
         "37.1844",
         "-89.0658",
         "OLMSTED L&D",
         "37.50183",
         "0.0",
         null,
         null,
         null,
         null,
         null,
         null
        ],
        [
         "31",
         "USC00116200",
         "1997-09-01 07:00:00",
         "40.5492",
         "-88.9497",
         "NORMAL 4NE",
         "79.00648000000001",
         "0.0",
         null,
         null,
         null,
         null,
         null,
         null
        ],
        [
         "32",
         "USC00112145",
         "1997-05-22 07:00:00",
         "40.1019",
         "-87.5961",
         "DANVILLE SEWAGE PLT",
         "53.611540000000005",
         "0.0",
         null,
         null,
         null,
         null,
         null,
         null
        ],
        [
         "33",
         "USC00114089",
         "1997-09-11 07:00:00",
         "38.7308",
         "-89.6531",
         "HIGHLAND",
         "52.00385",
         "0.0",
         null,
         null,
         null,
         null,
         null,
         null
        ],
        [
         "34",
         "USC00119241",
         "1997-04-15 07:00:00",
         "39.4408",
         "-90.3789",
         "WHITE HALL 1 E",
         "58.00808",
         "0.0",
         null,
         null,
         null,
         null,
         null,
         null
        ],
        [
         "35",
         "USC00116610",
         "1997-11-19 07:00:00",
         "39.6186",
         "-87.6672",
         "PARIS STP",
         "64.89818000000001",
         "0.0",
         null,
         null,
         null,
         null,
         null,
         null
        ],
        [
         "36",
         "USC00116072",
         "1997-01-02 00:00:00",
         "38.3219",
         "-89.8756",
         "NEW ATHENS",
         "42.58738",
         "0.0",
         null,
         null,
         null,
         null,
         null,
         null
        ],
        [
         "37",
         "USC00113455",
         "1997-11-11 07:00:00",
         "40.8822",
         "-91.0233",
         "GLADSTONE DAM 18",
         "53.8084",
         "0.0",
         null,
         null,
         null,
         null,
         null,
         null
        ],
        [
         "38",
         "USC00117014",
         "1997-07-06 07:00:00",
         "41.6753",
         "-89.9375",
         "PROPHETSTOWN",
         "60.50164000000001",
         "0.0",
         null,
         null,
         null,
         null,
         null,
         null
        ],
        [
         "39",
         "USC00116157",
         "1997-02-15 00:00:00",
         "38.9917",
         "-88.1828",
         "NEWTON",
         "53.08658",
         "0.0",
         null,
         null,
         null,
         null,
         null,
         null
        ],
        [
         "40",
         "USC00116874",
         "1997-04-17 07:00:00",
         "37.895",
         "-89.0092",
         "PLUMFIELD",
         "39.306380000000004",
         "0.0",
         null,
         null,
         null,
         null,
         null,
         null
        ],
        [
         "41",
         "USC00110993",
         "1997-08-01 06:00:00",
         "37.1275",
         "-88.6531",
         "BROOKPORT DAM 52",
         "33.006859999999996",
         "0.0",
         null,
         null,
         null,
         null,
         null,
         null
        ],
        [
         "42",
         "USC00115342",
         "1997-08-02 07:00:00",
         "37.7747",
         "-88.8981",
         "MARION 4 NNE",
         "47.705740000000006",
         "0.0",
         null,
         null,
         null,
         null,
         null,
         null
        ],
        [
         "43",
         "USC00112178",
         "1997-03-08 08:00:00",
         "41.3867",
         "-88.7906",
         "DAYTON RIVER",
         "46.19648000000001",
         "0.0",
         null,
         null,
         null,
         null,
         null,
         null
        ],
        [
         "44",
         "USC00115763",
         "1997-05-16 08:00:00",
         "41.3936",
         "-87.7644",
         "MONEE RSVR",
         "75.29895",
         "0.0",
         null,
         null,
         null,
         null,
         null,
         null
        ],
        [
         "45",
         "USC00116998",
         "1997-08-29 00:00:00",
         "41.3661",
         "-89.4519",
         "PRINCETON",
         "69.68844000000001",
         "0.0",
         null,
         null,
         null,
         null,
         null,
         null
        ],
        [
         "46",
         "USC00113940",
         "1997-12-08 07:00:00",
         "40.3031",
         "-90.0647",
         "HAVANA",
         "46.29491",
         "0.0",
         null,
         null,
         null,
         null,
         null,
         null
        ],
        [
         "47",
         "USC00116490",
         "1997-10-04 07:00:00",
         "42.0056",
         "-89.3278",
         "OREGON",
         "67.81827",
         "0.0",
         null,
         null,
         null,
         null,
         null,
         null
        ],
        [
         "48",
         "USC00110055",
         "1997-10-23 08:00:00",
         "38.3778",
         "-88.0569",
         "ALBION",
         "52.98815",
         "0.0",
         null,
         null,
         null,
         null,
         null,
         null
        ],
        [
         "49",
         "USC00114530",
         "1997-05-30 07:00:00",
         "41.5033",
         "-88.1033",
         "JOLIET BRANDON ROAD LOCK/DAM",
         "54.30055",
         "0.0",
         null,
         null,
         null,
         null,
         null,
         null
        ]
       ],
       "shape": {
        "columns": 13,
        "rows": 16614111
       }
      },
      "text/html": [
       "<div>\n",
       "<style scoped>\n",
       "    .dataframe tbody tr th:only-of-type {\n",
       "        vertical-align: middle;\n",
       "    }\n",
       "\n",
       "    .dataframe tbody tr th {\n",
       "        vertical-align: top;\n",
       "    }\n",
       "\n",
       "    .dataframe thead th {\n",
       "        text-align: right;\n",
       "    }\n",
       "</style>\n",
       "<table border=\"1\" class=\"dataframe\">\n",
       "  <thead>\n",
       "    <tr style=\"text-align: right;\">\n",
       "      <th></th>\n",
       "      <th>id</th>\n",
       "      <th>date</th>\n",
       "      <th>latitude</th>\n",
       "      <th>longitude</th>\n",
       "      <th>name</th>\n",
       "      <th>elevation</th>\n",
       "      <th>PRCP</th>\n",
       "      <th>SNOW</th>\n",
       "      <th>SNWD</th>\n",
       "      <th>TMAX</th>\n",
       "      <th>TMIN</th>\n",
       "      <th>TOBS</th>\n",
       "      <th>TSUN</th>\n",
       "    </tr>\n",
       "  </thead>\n",
       "  <tbody>\n",
       "    <tr>\n",
       "      <th>0</th>\n",
       "      <td>USC00111458</td>\n",
       "      <td>1997-09-01 07:00:00</td>\n",
       "      <td>41.0092</td>\n",
       "      <td>-87.8242</td>\n",
       "      <td>CHEBANSE 5 E RIVER</td>\n",
       "      <td>59.51734</td>\n",
       "      <td>0.0</td>\n",
       "      <td>NaN</td>\n",
       "      <td>NaN</td>\n",
       "      <td>NaN</td>\n",
       "      <td>NaN</td>\n",
       "      <td>NaN</td>\n",
       "      <td>NaN</td>\n",
       "    </tr>\n",
       "    <tr>\n",
       "      <th>1</th>\n",
       "      <td>USC00111664</td>\n",
       "      <td>1997-12-28 07:00:00</td>\n",
       "      <td>38.5047</td>\n",
       "      <td>-88.4094</td>\n",
       "      <td>CISNE 2 S</td>\n",
       "      <td>45.40904</td>\n",
       "      <td>0.0</td>\n",
       "      <td>NaN</td>\n",
       "      <td>NaN</td>\n",
       "      <td>NaN</td>\n",
       "      <td>NaN</td>\n",
       "      <td>NaN</td>\n",
       "      <td>NaN</td>\n",
       "    </tr>\n",
       "    <tr>\n",
       "      <th>2</th>\n",
       "      <td>USC00115935</td>\n",
       "      <td>1997-10-02 07:00:00</td>\n",
       "      <td>39.9842</td>\n",
       "      <td>-90.7525</td>\n",
       "      <td>MT STERLING</td>\n",
       "      <td>70.90241</td>\n",
       "      <td>0.0</td>\n",
       "      <td>NaN</td>\n",
       "      <td>NaN</td>\n",
       "      <td>NaN</td>\n",
       "      <td>NaN</td>\n",
       "      <td>NaN</td>\n",
       "      <td>NaN</td>\n",
       "    </tr>\n",
       "    <tr>\n",
       "      <th>3</th>\n",
       "      <td>USC00119241</td>\n",
       "      <td>1997-11-13 07:00:00</td>\n",
       "      <td>39.4408</td>\n",
       "      <td>-90.3789</td>\n",
       "      <td>WHITE HALL 1 E</td>\n",
       "      <td>58.00808</td>\n",
       "      <td>0.0</td>\n",
       "      <td>NaN</td>\n",
       "      <td>NaN</td>\n",
       "      <td>NaN</td>\n",
       "      <td>NaN</td>\n",
       "      <td>NaN</td>\n",
       "      <td>NaN</td>\n",
       "    </tr>\n",
       "    <tr>\n",
       "      <th>4</th>\n",
       "      <td>USC00110187</td>\n",
       "      <td>1997-03-15 16:00:00</td>\n",
       "      <td>37.5222</td>\n",
       "      <td>-89.2486</td>\n",
       "      <td>ANNA 4 N</td>\n",
       "      <td>59.28767</td>\n",
       "      <td>0.0</td>\n",
       "      <td>NaN</td>\n",
       "      <td>NaN</td>\n",
       "      <td>NaN</td>\n",
       "      <td>NaN</td>\n",
       "      <td>NaN</td>\n",
       "      <td>NaN</td>\n",
       "    </tr>\n",
       "    <tr>\n",
       "      <th>...</th>\n",
       "      <td>...</td>\n",
       "      <td>...</td>\n",
       "      <td>...</td>\n",
       "      <td>...</td>\n",
       "      <td>...</td>\n",
       "      <td>...</td>\n",
       "      <td>...</td>\n",
       "      <td>...</td>\n",
       "      <td>...</td>\n",
       "      <td>...</td>\n",
       "      <td>...</td>\n",
       "      <td>...</td>\n",
       "      <td>...</td>\n",
       "    </tr>\n",
       "    <tr>\n",
       "      <th>19084987</th>\n",
       "      <td>USC00119021</td>\n",
       "      <td>1994-07-17 07:00:00</td>\n",
       "      <td>40.7939</td>\n",
       "      <td>-87.7544</td>\n",
       "      <td>WATSEKA 2NW</td>\n",
       "      <td>62.79834</td>\n",
       "      <td>NaN</td>\n",
       "      <td>NaN</td>\n",
       "      <td>NaN</td>\n",
       "      <td>NaN</td>\n",
       "      <td>178.0</td>\n",
       "      <td>NaN</td>\n",
       "      <td>NaN</td>\n",
       "    </tr>\n",
       "    <tr>\n",
       "      <th>19084988</th>\n",
       "      <td>USC00119021</td>\n",
       "      <td>1994-10-04 07:00:00</td>\n",
       "      <td>40.7939</td>\n",
       "      <td>-87.7544</td>\n",
       "      <td>WATSEKA 2NW</td>\n",
       "      <td>62.79834</td>\n",
       "      <td>NaN</td>\n",
       "      <td>NaN</td>\n",
       "      <td>NaN</td>\n",
       "      <td>NaN</td>\n",
       "      <td>78.0</td>\n",
       "      <td>NaN</td>\n",
       "      <td>NaN</td>\n",
       "    </tr>\n",
       "    <tr>\n",
       "      <th>19084989</th>\n",
       "      <td>USC00119021</td>\n",
       "      <td>1994-11-29 07:00:00</td>\n",
       "      <td>40.7939</td>\n",
       "      <td>-87.7544</td>\n",
       "      <td>WATSEKA 2NW</td>\n",
       "      <td>62.79834</td>\n",
       "      <td>NaN</td>\n",
       "      <td>NaN</td>\n",
       "      <td>NaN</td>\n",
       "      <td>NaN</td>\n",
       "      <td>NaN</td>\n",
       "      <td>-28.0</td>\n",
       "      <td>NaN</td>\n",
       "    </tr>\n",
       "    <tr>\n",
       "      <th>19084990</th>\n",
       "      <td>USC00119021</td>\n",
       "      <td>1994-03-02 07:00:00</td>\n",
       "      <td>40.7939</td>\n",
       "      <td>-87.7544</td>\n",
       "      <td>WATSEKA 2NW</td>\n",
       "      <td>62.79834</td>\n",
       "      <td>NaN</td>\n",
       "      <td>NaN</td>\n",
       "      <td>NaN</td>\n",
       "      <td>NaN</td>\n",
       "      <td>NaN</td>\n",
       "      <td>-72.0</td>\n",
       "      <td>NaN</td>\n",
       "    </tr>\n",
       "    <tr>\n",
       "      <th>19084991</th>\n",
       "      <td>USC00119021</td>\n",
       "      <td>1994-03-12 07:00:00</td>\n",
       "      <td>40.7939</td>\n",
       "      <td>-87.7544</td>\n",
       "      <td>WATSEKA 2NW</td>\n",
       "      <td>62.79834</td>\n",
       "      <td>NaN</td>\n",
       "      <td>NaN</td>\n",
       "      <td>NaN</td>\n",
       "      <td>NaN</td>\n",
       "      <td>NaN</td>\n",
       "      <td>17.0</td>\n",
       "      <td>NaN</td>\n",
       "    </tr>\n",
       "  </tbody>\n",
       "</table>\n",
       "<p>16614111 rows × 13 columns</p>\n",
       "</div>"
      ],
      "text/plain": [
       "                   id                date  latitude  longitude  \\\n",
       "0         USC00111458 1997-09-01 07:00:00   41.0092   -87.8242   \n",
       "1         USC00111664 1997-12-28 07:00:00   38.5047   -88.4094   \n",
       "2         USC00115935 1997-10-02 07:00:00   39.9842   -90.7525   \n",
       "3         USC00119241 1997-11-13 07:00:00   39.4408   -90.3789   \n",
       "4         USC00110187 1997-03-15 16:00:00   37.5222   -89.2486   \n",
       "...               ...                 ...       ...        ...   \n",
       "19084987  USC00119021 1994-07-17 07:00:00   40.7939   -87.7544   \n",
       "19084988  USC00119021 1994-10-04 07:00:00   40.7939   -87.7544   \n",
       "19084989  USC00119021 1994-11-29 07:00:00   40.7939   -87.7544   \n",
       "19084990  USC00119021 1994-03-02 07:00:00   40.7939   -87.7544   \n",
       "19084991  USC00119021 1994-03-12 07:00:00   40.7939   -87.7544   \n",
       "\n",
       "                        name  elevation  PRCP  SNOW  SNWD  TMAX   TMIN  TOBS  \\\n",
       "0         CHEBANSE 5 E RIVER   59.51734   0.0   NaN   NaN   NaN    NaN   NaN   \n",
       "1                  CISNE 2 S   45.40904   0.0   NaN   NaN   NaN    NaN   NaN   \n",
       "2                MT STERLING   70.90241   0.0   NaN   NaN   NaN    NaN   NaN   \n",
       "3             WHITE HALL 1 E   58.00808   0.0   NaN   NaN   NaN    NaN   NaN   \n",
       "4                   ANNA 4 N   59.28767   0.0   NaN   NaN   NaN    NaN   NaN   \n",
       "...                      ...        ...   ...   ...   ...   ...    ...   ...   \n",
       "19084987         WATSEKA 2NW   62.79834   NaN   NaN   NaN   NaN  178.0   NaN   \n",
       "19084988         WATSEKA 2NW   62.79834   NaN   NaN   NaN   NaN   78.0   NaN   \n",
       "19084989         WATSEKA 2NW   62.79834   NaN   NaN   NaN   NaN    NaN -28.0   \n",
       "19084990         WATSEKA 2NW   62.79834   NaN   NaN   NaN   NaN    NaN -72.0   \n",
       "19084991         WATSEKA 2NW   62.79834   NaN   NaN   NaN   NaN    NaN  17.0   \n",
       "\n",
       "          TSUN  \n",
       "0          NaN  \n",
       "1          NaN  \n",
       "2          NaN  \n",
       "3          NaN  \n",
       "4          NaN  \n",
       "...        ...  \n",
       "19084987   NaN  \n",
       "19084988   NaN  \n",
       "19084989   NaN  \n",
       "19084990   NaN  \n",
       "19084991   NaN  \n",
       "\n",
       "[16614111 rows x 13 columns]"
      ]
     },
     "execution_count": 14,
     "metadata": {},
     "output_type": "execute_result"
    }
   ],
   "source": [
    "# Combines the newly generated columns with the existing dataframe\n",
    "transformed_data = pd.concat([desired_data, desired_weather_pivot], axis = 1)\n",
    "transformed_data.drop_duplicates(inplace = True)\n",
    "\n",
    "# Drops the element and value columns\n",
    "transformed_data.drop(columns = [\"element\", \"value\"], inplace = True)\n",
    "\n",
    "# Drops the rows that contain the year 2024 (an artifact of concatenating the dataframes from earlier)\n",
    "transformed_data = transformed_data[transformed_data[\"date\"].dt.year != 2024]\n",
    "transformed_data"
   ]
  },
  {
   "cell_type": "code",
   "execution_count": 15,
   "metadata": {},
   "outputs": [],
   "source": [
    "def unit_conversion(df, element_label):\n",
    "    \"\"\"Converts the columns in the dataframe to the appropriate units.\n",
    "\n",
    "    Args:\n",
    "        df (pandas.DataFrame): the dataframe that contains the columns that need conversion\n",
    "        element_label (str): the name of the columns that need to be converted\n",
    "    \n",
    "    Raises:\n",
    "        Exception: If you provide a label that isn't in the list of conditionals, it will throw an error.\n",
    "\n",
    "    Returns:\n",
    "        pandas.Series: A series of values will be returned at the end of the conversion.\n",
    "    \"\"\"\n",
    "    if (element_label == \"TMIN\") or (element_label == \"TMAX\") or (element_label == \"TOBS\"):\n",
    "        return 9/5 * (df[element_label] / 10) + 32\n",
    "    elif (element_label == \"PRCP\") or (element_label == \"SNOW\") or (element_label == \"SNWD\"):\n",
    "        return (df[element_label] / 10) * (1 / 25.4)\n",
    "    else:\n",
    "        raise Exception(\"Invalid element label. You must pick one of the appropriate element types TMIN, TMAX, TOBS, PRCP, SNOW, or SNWD.\")\n",
    "\n",
    "transformed_data.loc[:, \"TMIN\"] = unit_conversion(transformed_data, \"TMIN\")\n",
    "transformed_data.loc[:, \"TMAX\"] = unit_conversion(transformed_data, \"TMAX\")\n",
    "transformed_data.loc[:, \"TOBS\"] = unit_conversion(transformed_data, \"TOBS\")\n",
    "transformed_data.loc[:, \"PRCP\"] = unit_conversion(transformed_data, \"PRCP\")\n",
    "transformed_data.loc[:, \"SNOW\"] = unit_conversion(transformed_data, \"SNOW\")\n",
    "transformed_data.loc[:, \"SNWD\"] = unit_conversion(transformed_data, \"SNWD\")"
   ]
  },
  {
   "cell_type": "markdown",
   "metadata": {},
   "source": [
    "### This cell below plots the minimum, maximum, and observed temperatures."
   ]
  },
  {
   "cell_type": "markdown",
   "metadata": {},
   "source": [
    "#### Note: ``pandas.DataFrame.plot`` attribute can be used to shorten the time to make a plot. The tradeoff is less customization of the plot."
   ]
  },
  {
   "cell_type": "code",
   "execution_count": 16,
   "metadata": {},
   "outputs": [
    {
     "name": "stderr",
     "output_type": "stream",
     "text": [
      "/var/folders/j5/byfswq3j1bg3s3yk6x9qdzbr0000gp/T/ipykernel_5500/2220992324.py:4: FutureWarning: 'Y' is deprecated and will be removed in a future version, please use 'YE' instead.\n",
      "  resampled_temp_data = temp_data.resample(\"Y\").mean()\n"
     ]
    },
    {
     "data": {
      "image/png": "[encoded data removed]",
      "text/plain": [
       "<Figure size 640x480 with 1 Axes>"
      ]
     },
     "metadata": {},
     "output_type": "display_data"
    }
   ],
   "source": [
    "# Resamples the temperature data annually and calculate the mean\n",
    "temp_data = transformed_data[[\"date\", \"TMIN\", \"TMAX\", \"TOBS\"]]\n",
    "temp_data.set_index(\"date\", inplace = True)\n",
    "resampled_temp_data = temp_data.resample(\"Y\").mean()\n",
    "resampled_temp_data.index = pd.to_datetime(resampled_temp_data.index)\n",
    "tmin_label = r\"$T_{min}$\"\n",
    "tmax_label = r\"$T_{max}$\"\n",
    "tobs_label = r\"$T_{obs}$\"\n",
    "\n",
    "# Plots TMIN, TMAX, and TOBS\n",
    "plt.plot(resampled_temp_data.index.year, resampled_temp_data[\"TMIN\"], label = tmin_label)\n",
    "plt.plot(resampled_temp_data.index.year, resampled_temp_data[\"TMAX\"], label = tmax_label)\n",
    "plt.plot(resampled_temp_data.index.year, resampled_temp_data[\"TOBS\"], label = tobs_label)\n",
    "\n",
    "# Sets labels and title\n",
    "plt.xlabel(\"Year\")\n",
    "plt.ylabel(r\"Temperature ($\\circ F$)\")\n",
    "plt.title(\"Temperatures in Illinois Sampled Annually from 1990 to 2023\")\n",
    "\n",
    "# Displays the legend\n",
    "plt.legend(loc=\"best\")\n",
    "\n",
    "# Fixes the x-range so that it's between 1990 and 2023\n",
    "plt.xlim(resampled_temp_data.index.year.min(), resampled_temp_data.index.year.max())\n",
    "\n",
    "# Displays the grid\n",
    "plt.grid()\n",
    "\n",
    "# Displays minor ticks\n",
    "plt.minorticks_on()\n",
    "\n",
    "# Shows the plot\n",
    "plt.show()"
   ]
  },
  {
   "cell_type": "markdown",
   "metadata": {},
   "source": [
    "**Figure 1**"
   ]
  },
  {
   "cell_type": "code",
   "execution_count": 17,
   "metadata": {},
   "outputs": [],
   "source": [
    "def moving_avg_plot(df, window_interval):\n",
    "    \"\"\"Creates a moving average plot specified at a certain interval.\n",
    "\n",
    "    Args:\n",
    "        df (pandas.DataFrame): dataframe used to preform the rolling average plot\n",
    "        window_interval (int): the amount of years we want to do the rolling average over (i.e. 1 year, 3 years, etc.)\n",
    "    \"\"\"\n",
    "    \n",
    "\n",
    "    moving_average_temp_data = df.rolling(window = window_interval, min_periods = 1).mean()\n",
    "\n",
    "\n",
    "    # Plots TMIN, TMAX, and TOBS with moving averages\n",
    "    plt.plot(moving_average_temp_data.index.year, moving_average_temp_data[\"TMIN\"], label = tmin_label)\n",
    "    plt.plot(moving_average_temp_data.index.year, moving_average_temp_data[\"TMAX\"], label = tmax_label)\n",
    "    plt.plot(moving_average_temp_data.index.year, moving_average_temp_data[\"TOBS\"], label = tobs_label)\n",
    "\n",
    "\n",
    "    # Sets labels and title\n",
    "    plt.xlabel(\"Year\")\n",
    "    plt.ylabel(r\"Temperature ($\\circ$F)\")\n",
    "    plt.title(f\"{window_interval}-Year Moving Average of Temperatures in Illinois\")\n",
    "\n",
    "    # Displays the legend\n",
    "    plt.legend(loc=\"best\")\n",
    "\n",
    "    # Adjusts the x-range to accommodate the moving average calculation\n",
    "    plt.xlim(moving_average_temp_data.index.year.min(), moving_average_temp_data.index.year.max())\n",
    "\n",
    "    # Displays the grid\n",
    "    plt.grid()\n",
    "\n",
    "    # Displays minor ticks\n",
    "    plt.minorticks_on()\n",
    "\n",
    "    # Shows the plot\n",
    "    plt.show()"
   ]
  },
  {
   "cell_type": "code",
   "execution_count": 18,
   "metadata": {},
   "outputs": [
    {
     "data": {
      "image/png": "[encoded data removed]",
      "text/plain": [
       "<Figure size 640x480 with 1 Axes>"
      ]
     },
     "metadata": {},
     "output_type": "display_data"
    }
   ],
   "source": [
    "moving_avg_plot(resampled_temp_data, 3)"
   ]
  },
  {
   "cell_type": "markdown",
   "metadata": {},
   "source": [
    "**Figure 2**"
   ]
  },
  {
   "cell_type": "code",
   "execution_count": 19,
   "metadata": {},
   "outputs": [
    {
     "data": {
      "image/png": "[encoded data removed]",
      "text/plain": [
       "<Figure size 640x480 with 1 Axes>"
      ]
     },
     "metadata": {},
     "output_type": "display_data"
    }
   ],
   "source": [
    "moving_avg_plot(resampled_temp_data, 5)"
   ]
  },
  {
   "cell_type": "markdown",
   "metadata": {},
   "source": [
    "**Figure 3**"
   ]
  },
  {
   "cell_type": "markdown",
   "metadata": {},
   "source": [
    "### The cell below plots the temeprature difference for the minimum, maximum, and observed temperatures."
   ]
  },
  {
   "cell_type": "code",
   "execution_count": 20,
   "metadata": {},
   "outputs": [
    {
     "data": {
      "image/png": "[encoded data removed]",
      "text/plain": [
       "<Figure size 640x480 with 1 Axes>"
      ]
     },
     "metadata": {},
     "output_type": "display_data"
    }
   ],
   "source": [
    "# Plots the temperature gradient (difference) for TMIN, TMAX, TOBS\n",
    "plt.bar(resampled_temp_data.index.year, resampled_temp_data[\"TMIN\"].diff(), label = tmin_label)\n",
    "plt.bar(resampled_temp_data.index.year, resampled_temp_data[\"TMAX\"].diff(), label = tmax_label)\n",
    "plt.bar(resampled_temp_data.index.year, resampled_temp_data[\"TOBS\"].diff(), label = tobs_label)\n",
    "\n",
    "# Adds labels and legend\n",
    "plt.xlabel(\"Year\")\n",
    "plt.ylabel(r\"Temperature Difference ($\\circ F$)\")\n",
    "plt.legend(loc = \"lower left\")\n",
    "\n",
    "# Fixes the x-range so that all the bars for each year display properly\n",
    "plt.xlim(resampled_temp_data.index.year.min(), resampled_temp_data.index.year.max() + 0.25)\n",
    "\n",
    "# Adds a title\n",
    "plt.title(\"Temperature Difference Sampled Annually from 1990 to 2023\")\n",
    "\n",
    "# Displays grid and minor ticks\n",
    "plt.grid()\n",
    "plt.minorticks_on()\n",
    "\n",
    "# Shows the plot\n",
    "plt.show()"
   ]
  },
  {
   "cell_type": "markdown",
   "metadata": {},
   "source": [
    "**Figure 4**"
   ]
  },
  {
   "cell_type": "code",
   "execution_count": 21,
   "metadata": {},
   "outputs": [
    {
     "data": {
      "application/vnd.microsoft.datawrangler.viewer.v0+json": {
       "columns": [
        {
         "name": "index",
         "rawType": "int64",
         "type": "integer"
        },
        {
         "name": "name",
         "rawType": "string",
         "type": "string"
        },
        {
         "name": "size",
         "rawType": "int64",
         "type": "integer"
        }
       ],
       "conversionMethod": "pd.DataFrame",
       "ref": "1349cae1-b619-4d74-8f04-0df83974102a",
       "rows": [
        [
         "379",
         "CHICAGO MIDWAY AP 3SW",
         "74230"
        ],
        [
         "327",
         "CHAMPAIGN 3S",
         "74207"
        ],
        [
         "1509",
         "PRINCETON",
         "74088"
        ],
        [
         "867",
         "JACKSONVILLE 2E",
         "73530"
        ],
        [
         "1242",
         "MT CARROLL",
         "73232"
        ],
        [
         "1734",
         "STOCKTON 3 NNE",
         "73089"
        ],
        [
         "580",
         "ELGIN",
         "73017"
        ],
        [
         "670",
         "FREEPORT WASTE WTP",
         "72928"
        ],
        [
         "1605",
         "SALEM",
         "72869"
        ],
        [
         "689",
         "GENESEO",
         "72646"
        ],
        [
         "871",
         "JERSEYVILLE 2 SW",
         "72609"
        ],
        [
         "1362",
         "OLNEY 2S",
         "72483"
        ],
        [
         "913",
         "LA HARPE",
         "72450"
        ],
        [
         "1322",
         "NORMAL 4NE",
         "72323"
        ],
        [
         "1210",
         "MORRISON",
         "72229"
        ],
        [
         "1415",
         "PARIS STP",
         "72199"
        ],
        [
         "888",
         "JOLIET BRANDON ROAD LOCK/DAM",
         "72106"
        ],
        [
         "73",
         "AURORA",
         "71755"
        ],
        [
         "490",
         "DE KALB",
         "71604"
        ],
        [
         "1165",
         "MINONK",
         "71253"
        ],
        [
         "1416",
         "PARK FOREST",
         "71250"
        ],
        [
         "1184",
         "MONMOUTH",
         "71207"
        ],
        [
         "1563",
         "ROCK ISLAND L&D 15",
         "70996"
        ],
        [
         "728",
         "GLADSTONE DAM 18",
         "70882"
        ],
        [
         "678",
         "GALESBURG",
         "70864"
        ],
        [
         "1528",
         "RANTOUL",
         "70805"
        ],
        [
         "6",
         "ALEDO",
         "70800"
        ],
        [
         "1792",
         "TUSCOLA",
         "70740"
        ],
        [
         "1424",
         "PAW PAW 2S",
         "70461"
        ],
        [
         "1895",
         "WHITE HALL 1 E",
         "70168"
        ],
        [
         "845",
         "HOOPESTON",
         "69704"
        ],
        [
         "338",
         "CHARLESTON",
         "69653"
        ],
        [
         "1394",
         "OTTAWA 4SW",
         "69191"
        ],
        [
         "1847",
         "WALNUT",
         "68853"
        ],
        [
         "902",
         "KEWANEE 1 E",
         "68686"
        ],
        [
         "1524",
         "RAMSEY",
         "68409"
        ],
        [
         "1903",
         "WINDSOR",
         "68334"
        ],
        [
         "974",
         "LINCOLN",
         "68309"
        ],
        [
         "464",
         "DANVILLE",
         "68253"
        ],
        [
         "1592",
         "ROSICLARE 5NW",
         "68107"
        ],
        [
         "898",
         "KANKAKEE WWTP",
         "68040"
        ],
        [
         "540",
         "DWIGHT",
         "66980"
        ],
        [
         "508",
         "DECATUR WTP",
         "66860"
        ],
        [
         "132",
         "BELLEVILLE SIU RSCH",
         "66672"
        ],
        [
         "588",
         "ELIZABETH",
         "66410"
        ],
        [
         "1125",
         "MC HENRY -WG STRATTON L&D",
         "66403"
        ],
        [
         "1247",
         "MT VERNON 3 NE",
         "66132"
        ],
        [
         "139",
         "BENTLEY",
         "65869"
        ],
        [
         "682",
         "GALVA",
         "65715"
        ],
        [
         "1275",
         "NASHVILLE 1 E",
         "65417"
        ]
       ],
       "shape": {
        "columns": 2,
        "rows": 1950
       }
      },
      "text/html": [
       "<div>\n",
       "<style scoped>\n",
       "    .dataframe tbody tr th:only-of-type {\n",
       "        vertical-align: middle;\n",
       "    }\n",
       "\n",
       "    .dataframe tbody tr th {\n",
       "        vertical-align: top;\n",
       "    }\n",
       "\n",
       "    .dataframe thead th {\n",
       "        text-align: right;\n",
       "    }\n",
       "</style>\n",
       "<table border=\"1\" class=\"dataframe\">\n",
       "  <thead>\n",
       "    <tr style=\"text-align: right;\">\n",
       "      <th></th>\n",
       "      <th>name</th>\n",
       "      <th>size</th>\n",
       "    </tr>\n",
       "  </thead>\n",
       "  <tbody>\n",
       "    <tr>\n",
       "      <th>379</th>\n",
       "      <td>CHICAGO MIDWAY AP 3SW</td>\n",
       "      <td>74230</td>\n",
       "    </tr>\n",
       "    <tr>\n",
       "      <th>327</th>\n",
       "      <td>CHAMPAIGN 3S</td>\n",
       "      <td>74207</td>\n",
       "    </tr>\n",
       "    <tr>\n",
       "      <th>1509</th>\n",
       "      <td>PRINCETON</td>\n",
       "      <td>74088</td>\n",
       "    </tr>\n",
       "    <tr>\n",
       "      <th>867</th>\n",
       "      <td>JACKSONVILLE 2E</td>\n",
       "      <td>73530</td>\n",
       "    </tr>\n",
       "    <tr>\n",
       "      <th>1242</th>\n",
       "      <td>MT CARROLL</td>\n",
       "      <td>73232</td>\n",
       "    </tr>\n",
       "    <tr>\n",
       "      <th>...</th>\n",
       "      <td>...</td>\n",
       "      <td>...</td>\n",
       "    </tr>\n",
       "    <tr>\n",
       "      <th>859</th>\n",
       "      <td>INA</td>\n",
       "      <td>28</td>\n",
       "    </tr>\n",
       "    <tr>\n",
       "      <th>100</th>\n",
       "      <td>BARTLETT 1.4 SE</td>\n",
       "      <td>26</td>\n",
       "    </tr>\n",
       "    <tr>\n",
       "      <th>1602</th>\n",
       "      <td>RUSHVILLE 2.4 S</td>\n",
       "      <td>25</td>\n",
       "    </tr>\n",
       "    <tr>\n",
       "      <th>164</th>\n",
       "      <td>BLOOMINGTON 4.3 ENE</td>\n",
       "      <td>16</td>\n",
       "    </tr>\n",
       "    <tr>\n",
       "      <th>402</th>\n",
       "      <td>CLARENDON HILLS 0.6 S</td>\n",
       "      <td>1</td>\n",
       "    </tr>\n",
       "  </tbody>\n",
       "</table>\n",
       "<p>1950 rows × 2 columns</p>\n",
       "</div>"
      ],
      "text/plain": [
       "                       name   size\n",
       "379   CHICAGO MIDWAY AP 3SW  74230\n",
       "327            CHAMPAIGN 3S  74207\n",
       "1509              PRINCETON  74088\n",
       "867         JACKSONVILLE 2E  73530\n",
       "1242             MT CARROLL  73232\n",
       "...                     ...    ...\n",
       "859                     INA     28\n",
       "100         BARTLETT 1.4 SE     26\n",
       "1602        RUSHVILLE 2.4 S     25\n",
       "164     BLOOMINGTON 4.3 ENE     16\n",
       "402   CLARENDON HILLS 0.6 S      1\n",
       "\n",
       "[1950 rows x 2 columns]"
      ]
     },
     "execution_count": 21,
     "metadata": {},
     "output_type": "execute_result"
    }
   ],
   "source": [
    "# Number of observations per station w.r.t. TMIN, TMAX, TOBS\n",
    "num_obs_per_station = transformed_data.groupby(\"name\", as_index = False).size().sort_values(by = \"size\", ascending = False)\n",
    "num_obs_per_station"
   ]
  },
  {
   "cell_type": "code",
   "execution_count": 22,
   "metadata": {},
   "outputs": [
    {
     "name": "stdout",
     "output_type": "stream",
     "text": [
      "                       name   size\n",
      "379   CHICAGO MIDWAY AP 3SW  74230\n",
      "327            CHAMPAIGN 3S  74207\n",
      "1509              PRINCETON  74088\n",
      "867         JACKSONVILLE 2E  73530\n",
      "1242             MT CARROLL  73232\n",
      "1734         STOCKTON 3 NNE  73089\n",
      "580                   ELGIN  73017\n",
      "670      FREEPORT WASTE WTP  72928\n",
      "1605                  SALEM  72869\n",
      "689                 GENESEO  72646\n"
     ]
    },
    {
     "data": {
      "image/png": "[encoded data removed]",
      "text/plain": [
       "<Figure size 640x480 with 1 Axes>"
      ]
     },
     "metadata": {},
     "output_type": "display_data"
    }
   ],
   "source": [
    "num_obs_per_station[:10].plot(x = \"name\", y = \"size\", kind = \"barh\", \n",
    "                              title = \"Top 10 Stations with the most observations for temperature measurements\", legend = False)\n",
    "print(num_obs_per_station[:10])\n",
    "plt.show()"
   ]
  },
  {
   "cell_type": "markdown",
   "metadata": {},
   "source": [
    "**Figure 5**"
   ]
  },
  {
   "cell_type": "code",
   "execution_count": 23,
   "metadata": {},
   "outputs": [
    {
     "data": {
      "application/vnd.microsoft.datawrangler.viewer.v0+json": {
       "columns": [
        {
         "name": "index",
         "rawType": "object",
         "type": "string"
        },
        {
         "name": "size",
         "rawType": "float64",
         "type": "float"
        }
       ],
       "conversionMethod": "pd.DataFrame",
       "ref": "1dbb8456-6355-4216-be92-fc02b8842127",
       "rows": [
        [
         "count",
         "1950.0"
        ],
        [
         "mean",
         "8520.056923076923"
        ],
        [
         "std",
         "15827.572784566006"
        ],
        [
         "min",
         "1.0"
        ],
        [
         "25%",
         "684.25"
        ],
        [
         "50%",
         "2078.5"
        ],
        [
         "75%",
         "7178.0"
        ],
        [
         "max",
         "74230.0"
        ]
       ],
       "shape": {
        "columns": 1,
        "rows": 8
       }
      },
      "text/html": [
       "<div>\n",
       "<style scoped>\n",
       "    .dataframe tbody tr th:only-of-type {\n",
       "        vertical-align: middle;\n",
       "    }\n",
       "\n",
       "    .dataframe tbody tr th {\n",
       "        vertical-align: top;\n",
       "    }\n",
       "\n",
       "    .dataframe thead th {\n",
       "        text-align: right;\n",
       "    }\n",
       "</style>\n",
       "<table border=\"1\" class=\"dataframe\">\n",
       "  <thead>\n",
       "    <tr style=\"text-align: right;\">\n",
       "      <th></th>\n",
       "      <th>size</th>\n",
       "    </tr>\n",
       "  </thead>\n",
       "  <tbody>\n",
       "    <tr>\n",
       "      <th>count</th>\n",
       "      <td>1950.000000</td>\n",
       "    </tr>\n",
       "    <tr>\n",
       "      <th>mean</th>\n",
       "      <td>8520.056923</td>\n",
       "    </tr>\n",
       "    <tr>\n",
       "      <th>std</th>\n",
       "      <td>15827.572785</td>\n",
       "    </tr>\n",
       "    <tr>\n",
       "      <th>min</th>\n",
       "      <td>1.000000</td>\n",
       "    </tr>\n",
       "    <tr>\n",
       "      <th>25%</th>\n",
       "      <td>684.250000</td>\n",
       "    </tr>\n",
       "    <tr>\n",
       "      <th>50%</th>\n",
       "      <td>2078.500000</td>\n",
       "    </tr>\n",
       "    <tr>\n",
       "      <th>75%</th>\n",
       "      <td>7178.000000</td>\n",
       "    </tr>\n",
       "    <tr>\n",
       "      <th>max</th>\n",
       "      <td>74230.000000</td>\n",
       "    </tr>\n",
       "  </tbody>\n",
       "</table>\n",
       "</div>"
      ],
      "text/plain": [
       "               size\n",
       "count   1950.000000\n",
       "mean    8520.056923\n",
       "std    15827.572785\n",
       "min        1.000000\n",
       "25%      684.250000\n",
       "50%     2078.500000\n",
       "75%     7178.000000\n",
       "max    74230.000000"
      ]
     },
     "execution_count": 23,
     "metadata": {},
     "output_type": "execute_result"
    }
   ],
   "source": [
    "num_obs_per_station.describe()"
   ]
  },
  {
   "cell_type": "code",
   "execution_count": 24,
   "metadata": {},
   "outputs": [
    {
     "data": {
      "application/vnd.microsoft.datawrangler.viewer.v0+json": {
       "columns": [
        {
         "name": "index",
         "rawType": "int64",
         "type": "integer"
        },
        {
         "name": "name",
         "rawType": "string",
         "type": "string"
        },
        {
         "name": "size",
         "rawType": "int64",
         "type": "integer"
        }
       ],
       "conversionMethod": "pd.DataFrame",
       "ref": "b14c2881-a96a-46e9-ab84-9d59c64527c2",
       "rows": [
        [
         "512",
         "DEWEY 1.6 NNW",
         "7173"
        ],
        [
         "1567",
         "ROCKFORD 1.5 ENE",
         "7159"
        ],
        [
         "837",
         "HOMER 2.1 NNE",
         "7130"
        ],
        [
         "996",
         "LINCOLNSHIRE 1.3 WSW",
         "7122"
        ],
        [
         "1932",
         "WORTH 0.1 E",
         "7106"
        ],
        [
         "1356",
         "OKAWVILLE 2.3 SW",
         "7104"
        ],
        [
         "1722",
         "STANFORD 2S",
         "7083"
        ],
        [
         "1274",
         "NAPERVILLE 4.0 SSW",
         "7059"
        ],
        [
         "489",
         "DAYTON RIVER",
         "6978"
        ],
        [
         "526",
         "DOWNERS GROVE 0.4 NNE",
         "6951"
        ],
        [
         "554",
         "EDWARDSVILLE 0.9 WSW",
         "6944"
        ],
        [
         "704",
         "GENEVA 1.6 ENE",
         "6942"
        ],
        [
         "1031",
         "LONDON MILLS 1.4 SE",
         "6919"
        ],
        [
         "1857",
         "WASHINGTON 2 W",
         "6909"
        ],
        [
         "947",
         "LAWRENCEVILLE 1.4 W",
         "6856"
        ],
        [
         "42",
         "ARCOLA",
         "6839"
        ],
        [
         "1566",
         "ROCKFORD 0.7 NW",
         "6828"
        ],
        [
         "923",
         "LAKE BLUFF 1.3 W",
         "6782"
        ],
        [
         "433",
         "COUNTRYSIDE 0.8 ENE",
         "6782"
        ],
        [
         "987",
         "LINCOLN 1.4 SE",
         "6782"
        ],
        [
         "1071",
         "MANHATTAN 1.9 SE",
         "6772"
        ],
        [
         "292",
         "CHAMPAIGN 0.7 SW",
         "6763"
        ],
        [
         "1569",
         "ROCKFORD 3.3 NE",
         "6731"
        ],
        [
         "815",
         "HERSCHER 3.3 E",
         "6716"
        ],
        [
         "1900",
         "WILMINGTON 6.3 NW",
         "6711"
        ],
        [
         "1422",
         "PARK RIDGE 0.7 WNW",
         "6702"
        ],
        [
         "176",
         "BOLINGBROOK 2.7 NE",
         "6701"
        ],
        [
         "1366",
         "ORANGEVILLE 2.8 NW",
         "6698"
        ],
        [
         "81",
         "AURORA 3.5 NE",
         "6672"
        ],
        [
         "1631",
         "SHANNON 6 WNW",
         "6649"
        ],
        [
         "335",
         "CHANNAHON 2.5 SSE",
         "6646"
        ],
        [
         "1755",
         "SUGAR GROVE 1.4 ENE",
         "6629"
        ],
        [
         "914",
         "LA HARPE 0.7 E",
         "6627"
        ],
        [
         "408",
         "CLINTON 0.4 WSW",
         "6596"
        ],
        [
         "1141",
         "MENDOTA 0.9 N",
         "6580"
        ],
        [
         "690",
         "GENESEO 2.0 NW",
         "6568"
        ],
        [
         "1055",
         "MAHOMET 1.2 S",
         "6525"
        ],
        [
         "983",
         "LINCOLN 0.87 SE",
         "6505"
        ],
        [
         "915",
         "LA MOILLE 0.2 NNE",
         "6481"
        ],
        [
         "1172",
         "MOLINE 0.7 NNE",
         "6473"
        ],
        [
         "932",
         "LAKE VILLA 2.3 WSW",
         "6455"
        ],
        [
         "1421",
         "PARK RIDGE 0.5 SSW",
         "6410"
        ],
        [
         "706",
         "GENEVA 1.7 WSW",
         "6409"
        ],
        [
         "848",
         "HOOPESTON 0.8 W",
         "6408"
        ],
        [
         "1851",
         "WALTONVILLE 3.4 WSW",
         "6395"
        ],
        [
         "1581",
         "ROGERS PARK 1.5 SW",
         "6392"
        ],
        [
         "322",
         "CHAMPAIGN 3.5 SSE",
         "6362"
        ],
        [
         "60",
         "ASHKUM 5.6 E",
         "6345"
        ],
        [
         "365",
         "CHICAGO 4.7 NE",
         "6329"
        ],
        [
         "756",
         "GRANITE CITY 2.3 NE",
         "6320"
        ]
       ],
       "shape": {
        "columns": 2,
        "rows": 973
       }
      },
      "text/html": [
       "<div>\n",
       "<style scoped>\n",
       "    .dataframe tbody tr th:only-of-type {\n",
       "        vertical-align: middle;\n",
       "    }\n",
       "\n",
       "    .dataframe tbody tr th {\n",
       "        vertical-align: top;\n",
       "    }\n",
       "\n",
       "    .dataframe thead th {\n",
       "        text-align: right;\n",
       "    }\n",
       "</style>\n",
       "<table border=\"1\" class=\"dataframe\">\n",
       "  <thead>\n",
       "    <tr style=\"text-align: right;\">\n",
       "      <th></th>\n",
       "      <th>name</th>\n",
       "      <th>size</th>\n",
       "    </tr>\n",
       "  </thead>\n",
       "  <tbody>\n",
       "    <tr>\n",
       "      <th>512</th>\n",
       "      <td>DEWEY 1.6 NNW</td>\n",
       "      <td>7173</td>\n",
       "    </tr>\n",
       "    <tr>\n",
       "      <th>1567</th>\n",
       "      <td>ROCKFORD 1.5 ENE</td>\n",
       "      <td>7159</td>\n",
       "    </tr>\n",
       "    <tr>\n",
       "      <th>837</th>\n",
       "      <td>HOMER 2.1 NNE</td>\n",
       "      <td>7130</td>\n",
       "    </tr>\n",
       "    <tr>\n",
       "      <th>996</th>\n",
       "      <td>LINCOLNSHIRE 1.3 WSW</td>\n",
       "      <td>7122</td>\n",
       "    </tr>\n",
       "    <tr>\n",
       "      <th>1932</th>\n",
       "      <td>WORTH 0.1 E</td>\n",
       "      <td>7106</td>\n",
       "    </tr>\n",
       "    <tr>\n",
       "      <th>...</th>\n",
       "      <td>...</td>\n",
       "      <td>...</td>\n",
       "    </tr>\n",
       "    <tr>\n",
       "      <th>420</th>\n",
       "      <td>COLLISON 2.0 SE</td>\n",
       "      <td>688</td>\n",
       "    </tr>\n",
       "    <tr>\n",
       "      <th>1306</th>\n",
       "      <td>NILES 0.7 NE</td>\n",
       "      <td>688</td>\n",
       "    </tr>\n",
       "    <tr>\n",
       "      <th>1144</th>\n",
       "      <td>MERRIONETTE PARK 1.2 NNW</td>\n",
       "      <td>688</td>\n",
       "    </tr>\n",
       "    <tr>\n",
       "      <th>1911</th>\n",
       "      <td>WINTHROP HARBOR 0.2 SE</td>\n",
       "      <td>687</td>\n",
       "    </tr>\n",
       "    <tr>\n",
       "      <th>1928</th>\n",
       "      <td>WOODSTOCK 1.5 WSW</td>\n",
       "      <td>685</td>\n",
       "    </tr>\n",
       "  </tbody>\n",
       "</table>\n",
       "<p>973 rows × 2 columns</p>\n",
       "</div>"
      ],
      "text/plain": [
       "                          name  size\n",
       "512              DEWEY 1.6 NNW  7173\n",
       "1567          ROCKFORD 1.5 ENE  7159\n",
       "837              HOMER 2.1 NNE  7130\n",
       "996       LINCOLNSHIRE 1.3 WSW  7122\n",
       "1932               WORTH 0.1 E  7106\n",
       "...                        ...   ...\n",
       "420            COLLISON 2.0 SE   688\n",
       "1306              NILES 0.7 NE   688\n",
       "1144  MERRIONETTE PARK 1.2 NNW   688\n",
       "1911    WINTHROP HARBOR 0.2 SE   687\n",
       "1928         WOODSTOCK 1.5 WSW   685\n",
       "\n",
       "[973 rows x 2 columns]"
      ]
     },
     "execution_count": 24,
     "metadata": {},
     "output_type": "execute_result"
    }
   ],
   "source": [
    "quantiles_filter = ((num_obs_per_station[\"size\"] > num_obs_per_station[\"size\"].quantile(0.25)) & \n",
    "                   (num_obs_per_station[\"size\"] < num_obs_per_station[\"size\"].quantile(0.75)))\n",
    "stations_in_between_quantiles = num_obs_per_station[quantiles_filter].sort_values(by = \"size\", ascending = False)\n",
    "stations_in_between_quantiles"
   ]
  },
  {
   "cell_type": "code",
   "execution_count": 25,
   "metadata": {},
   "outputs": [
    {
     "name": "stdout",
     "output_type": "stream",
     "text": [
      "                       name  size\n",
      "512           DEWEY 1.6 NNW  7173\n",
      "1567       ROCKFORD 1.5 ENE  7159\n",
      "837           HOMER 2.1 NNE  7130\n",
      "996    LINCOLNSHIRE 1.3 WSW  7122\n",
      "1932            WORTH 0.1 E  7106\n",
      "1356       OKAWVILLE 2.3 SW  7104\n",
      "1722            STANFORD 2S  7083\n",
      "1274     NAPERVILLE 4.0 SSW  7059\n",
      "489            DAYTON RIVER  6978\n",
      "526   DOWNERS GROVE 0.4 NNE  6951\n"
     ]
    },
    {
     "data": {
      "image/png": "[encoded data removed]",
      "text/plain": [
       "<Figure size 640x480 with 1 Axes>"
      ]
     },
     "metadata": {},
     "output_type": "display_data"
    }
   ],
   "source": [
    "stations_in_between_quantiles[:10].plot(x = \"name\", y = \"size\", kind = \"barh\", \n",
    "                                        title = \"Top 10 stations in between the quantiles for temperature measurements\", legend = False)\n",
    "print(stations_in_between_quantiles[:10])\n",
    "plt.show()"
   ]
  },
  {
   "cell_type": "markdown",
   "metadata": {},
   "source": [
    "**Figure 6**"
   ]
  }
 ],
 "metadata": {
  "kernelspec": {
   "display_name": "weather",
   "language": "python",
   "name": "python3"
  },
  "language_info": {
   "codemirror_mode": {
    "name": "ipython",
    "version": 3
   },
   "file_extension": ".py",
   "mimetype": "text/x-python",
   "name": "python",
   "nbconvert_exporter": "python",
   "pygments_lexer": "ipython3",
   "version": "3.13.3"
  }
 },
 "nbformat": 4,
 "nbformat_minor": 2
}
