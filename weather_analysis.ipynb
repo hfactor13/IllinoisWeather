{
 "cells": [
  {
   "cell_type": "markdown",
   "metadata": {},
   "source": [
    "# Exploratory Data Analysis of Weather in Illinois"
   ]
  },
  {
   "cell_type": "code",
   "execution_count": 1,
   "metadata": {},
   "outputs": [],
   "source": [
    "import pandas as pd # DataFrame library\n",
    "import numpy as np # Array library\n",
    "import matplotlib.pyplot as plt # Plotting library\n",
    "import folium # Geographical map library\n",
    "from folium.plugins import MarkerCluster # Allows multiple markers to be created at once without slowing down the rendering of the map\n",
    "import os"
   ]
  },
  {
   "cell_type": "markdown",
   "metadata": {},
   "source": [
    "### The data was extracted from the NOAA's Global Historical Climatology Network (GHCN) dataset. The SQL query was run in the Google BigQuery console as shown below. The resulting dataset was saved to a dataframe as shown in the next cell."
   ]
  },
  {
   "cell_type": "markdown",
   "metadata": {},
   "source": [
    "![Illinois Temperature Data (1990 - 2023).png](<attachment:Illinois Temperature Data (1990 - 2023).png>)"
   ]
  },
  {
   "cell_type": "code",
   "execution_count": 2,
   "metadata": {},
   "outputs": [],
   "source": [
    "os.environ[\"GOOGLE_APPLICATION_CREDENTIALS\"] = \"./secrets/my_credentials.json\" # Credentials to be able to access the Google BigQuery public datasets"
   ]
  },
  {
   "cell_type": "code",
   "execution_count": 3,
   "metadata": {},
   "outputs": [
    {
     "data": {
      "application/vnd.jupyter.widget-view+json": {
       "model_id": "a276b47e43fd4dc49a695218c5e9cd9b",
       "version_major": 2,
       "version_minor": 0
      },
      "text/plain": [
       "Downloading:   0%|          |"
      ]
     },
     "metadata": {},
     "output_type": "display_data"
    }
   ],
   "source": [
    "raw_weather_query = \"\"\"SELECT weather.id, weather.date, weather.time, weather.element, weather.value,\n",
    "                       stations.latitude, stations.longitude, stations.name \n",
    "                       FROM `bigquery-public-data.ghcn_d.ghcnd_*` AS weather\n",
    "                       INNER JOIN `bigquery-public-data.ghcn_d.ghcnd_stations` AS stations\n",
    "                       ON weather.id = stations.id\n",
    "                       WHERE weather.id LIKE 'US%'\n",
    "                       AND weather.element IN ('TMAX', 'TMIN', 'TOBS')\n",
    "                       AND weather.qflag IS NULL\n",
    "                       AND EXTRACT(YEAR FROM weather.date) BETWEEN 1990 AND 2023\n",
    "                       AND weather._TABLE_SUFFIX BETWEEN '1990' AND '2023'\n",
    "                       AND stations.id LIKE 'US%'\n",
    "                       AND stations.state = 'IL'; \"\"\" # This query extracts weather data from the US in Illinois from the year 1990 to 2023\n",
    "raw_weather_data = pd.read_gbq(raw_weather_query, use_bqstorage_api = True, progress_bar_type = \"tqdm_notebook\", dialect = \"standard\") # Load the data from the SQL query through Google BigQuery"
   ]
  },
  {
   "cell_type": "markdown",
   "metadata": {},
   "source": [
    "### The cell below loads a subset of the data that's needed for analysis along with some modifications to the \"time\" column."
   ]
  },
  {
   "cell_type": "code",
   "execution_count": 4,
   "metadata": {},
   "outputs": [
    {
     "name": "stdout",
     "output_type": "stream",
     "text": [
      "<class 'pandas.core.frame.DataFrame'>\n",
      "RangeIndex: 4741298 entries, 0 to 4741297\n",
      "Data columns (total 8 columns):\n",
      " #   Column     Dtype  \n",
      "---  ------     -----  \n",
      " 0   id         string \n",
      " 1   date       string \n",
      " 2   time       string \n",
      " 3   element    string \n",
      " 4   value      float64\n",
      " 5   latitude   float64\n",
      " 6   longitude  float64\n",
      " 7   name       string \n",
      "dtypes: float64(3), string(5)\n",
      "memory usage: 289.4 MB\n"
     ]
    }
   ],
   "source": [
    "desired_cols = [\"id\", \"date\", \"time\", \"name\", \"element\", \"value\", \"latitude\", \"longitude\"] # columns that are going to be used for analysis\n",
    "desired_types = {\"id\": \"string\", \n",
    "                 \"date\": \"string\", \n",
    "                 \"time\": \"string\", \n",
    "                 \"name\": \"string\", \n",
    "                 \"element\": \"string\", \n",
    "                 \"value\": \"float\", \n",
    "                 \"latitude\": \"float\", \n",
    "                 \"longitude\": \"float\"} # the data types that will be assigned per column\n",
    "raw_weather_data = raw_weather_data.astype(desired_types) # assign the appropriate data types for each column\n",
    "raw_weather_data.info()"
   ]
  },
  {
   "cell_type": "code",
   "execution_count": 5,
   "metadata": {},
   "outputs": [],
   "source": [
    "raw_weather_data[\"time\"].fillna(\"0000\", inplace = True) # replace all nan values with \"0000\""
   ]
  },
  {
   "cell_type": "markdown",
   "metadata": {},
   "source": [
    "### The function below fixes the length of the time values which are in string form so that they have a fixed length of 4 characters."
   ]
  },
  {
   "cell_type": "code",
   "execution_count": 6,
   "metadata": {},
   "outputs": [
    {
     "data": {
      "text/plain": [
       "array([4])"
      ]
     },
     "execution_count": 6,
     "metadata": {},
     "output_type": "execute_result"
    }
   ],
   "source": [
    "np.sort(raw_weather_data[\"time\"].apply(len).unique()) # helps to verify how many unique length characters there was in the \"time\" column. \n",
    "# there should only be one of length 4 characters to be able to parse into datetime format."
   ]
  },
  {
   "cell_type": "code",
   "execution_count": 7,
   "metadata": {},
   "outputs": [],
   "source": [
    "raw_weather_data[\"time\"] = raw_weather_data[\"time\"].apply(lambda x: f\"{x[:-2]}:{x[-2:]}:00\") # added a seconds placeholder for parsing\n",
    "raw_weather_data[\"time\"] = pd.to_timedelta(raw_weather_data[\"time\"]) # converts string format to datetime format"
   ]
  },
  {
   "cell_type": "code",
   "execution_count": 8,
   "metadata": {},
   "outputs": [
    {
     "data": {
      "text/html": [
       "<div>\n",
       "<style scoped>\n",
       "    .dataframe tbody tr th:only-of-type {\n",
       "        vertical-align: middle;\n",
       "    }\n",
       "\n",
       "    .dataframe tbody tr th {\n",
       "        vertical-align: top;\n",
       "    }\n",
       "\n",
       "    .dataframe thead th {\n",
       "        text-align: right;\n",
       "    }\n",
       "</style>\n",
       "<table border=\"1\" class=\"dataframe\">\n",
       "  <thead>\n",
       "    <tr style=\"text-align: right;\">\n",
       "      <th></th>\n",
       "      <th>id</th>\n",
       "      <th>date</th>\n",
       "      <th>element</th>\n",
       "      <th>value</th>\n",
       "      <th>latitude</th>\n",
       "      <th>longitude</th>\n",
       "      <th>name</th>\n",
       "    </tr>\n",
       "  </thead>\n",
       "  <tbody>\n",
       "    <tr>\n",
       "      <th>0</th>\n",
       "      <td>USC00118389</td>\n",
       "      <td>2020-06-19 07:00:00</td>\n",
       "      <td>TMAX</td>\n",
       "      <td>317.0</td>\n",
       "      <td>39.5608</td>\n",
       "      <td>-88.6089</td>\n",
       "      <td>SULLIVAN 3S</td>\n",
       "    </tr>\n",
       "    <tr>\n",
       "      <th>1</th>\n",
       "      <td>USC00110356</td>\n",
       "      <td>2020-06-19 07:00:00</td>\n",
       "      <td>TMIN</td>\n",
       "      <td>150.0</td>\n",
       "      <td>40.6633</td>\n",
       "      <td>-90.4447</td>\n",
       "      <td>AVON</td>\n",
       "    </tr>\n",
       "    <tr>\n",
       "      <th>2</th>\n",
       "      <td>USC00116344</td>\n",
       "      <td>2020-06-24 00:00:00</td>\n",
       "      <td>TOBS</td>\n",
       "      <td>139.0</td>\n",
       "      <td>40.1100</td>\n",
       "      <td>-87.9567</td>\n",
       "      <td>OGDEN</td>\n",
       "    </tr>\n",
       "    <tr>\n",
       "      <th>3</th>\n",
       "      <td>USC00110356</td>\n",
       "      <td>2020-06-25 07:00:00</td>\n",
       "      <td>TMAX</td>\n",
       "      <td>261.0</td>\n",
       "      <td>40.6633</td>\n",
       "      <td>-90.4447</td>\n",
       "      <td>AVON</td>\n",
       "    </tr>\n",
       "    <tr>\n",
       "      <th>4</th>\n",
       "      <td>USC00118389</td>\n",
       "      <td>2020-06-27 07:00:00</td>\n",
       "      <td>TMIN</td>\n",
       "      <td>239.0</td>\n",
       "      <td>39.5608</td>\n",
       "      <td>-88.6089</td>\n",
       "      <td>SULLIVAN 3S</td>\n",
       "    </tr>\n",
       "    <tr>\n",
       "      <th>...</th>\n",
       "      <td>...</td>\n",
       "      <td>...</td>\n",
       "      <td>...</td>\n",
       "      <td>...</td>\n",
       "      <td>...</td>\n",
       "      <td>...</td>\n",
       "      <td>...</td>\n",
       "    </tr>\n",
       "    <tr>\n",
       "      <th>4741293</th>\n",
       "      <td>USC00112745</td>\n",
       "      <td>2016-10-27 07:00:00</td>\n",
       "      <td>TOBS</td>\n",
       "      <td>61.0</td>\n",
       "      <td>42.3161</td>\n",
       "      <td>-90.2269</td>\n",
       "      <td>ELIZABETH</td>\n",
       "    </tr>\n",
       "    <tr>\n",
       "      <th>4741294</th>\n",
       "      <td>USC00112745</td>\n",
       "      <td>2016-05-04 07:00:00</td>\n",
       "      <td>TMAX</td>\n",
       "      <td>200.0</td>\n",
       "      <td>42.3161</td>\n",
       "      <td>-90.2269</td>\n",
       "      <td>ELIZABETH</td>\n",
       "    </tr>\n",
       "    <tr>\n",
       "      <th>4741295</th>\n",
       "      <td>USC00112745</td>\n",
       "      <td>2016-08-17 07:00:00</td>\n",
       "      <td>TMIN</td>\n",
       "      <td>172.0</td>\n",
       "      <td>42.3161</td>\n",
       "      <td>-90.2269</td>\n",
       "      <td>ELIZABETH</td>\n",
       "    </tr>\n",
       "    <tr>\n",
       "      <th>4741296</th>\n",
       "      <td>USC00112745</td>\n",
       "      <td>2016-08-18 07:00:00</td>\n",
       "      <td>TMIN</td>\n",
       "      <td>200.0</td>\n",
       "      <td>42.3161</td>\n",
       "      <td>-90.2269</td>\n",
       "      <td>ELIZABETH</td>\n",
       "    </tr>\n",
       "    <tr>\n",
       "      <th>4741297</th>\n",
       "      <td>USC00112745</td>\n",
       "      <td>2016-08-23 07:00:00</td>\n",
       "      <td>TOBS</td>\n",
       "      <td>161.0</td>\n",
       "      <td>42.3161</td>\n",
       "      <td>-90.2269</td>\n",
       "      <td>ELIZABETH</td>\n",
       "    </tr>\n",
       "  </tbody>\n",
       "</table>\n",
       "<p>4741298 rows × 7 columns</p>\n",
       "</div>"
      ],
      "text/plain": [
       "                  id                date element  value  latitude  longitude  \\\n",
       "0        USC00118389 2020-06-19 07:00:00    TMAX  317.0   39.5608   -88.6089   \n",
       "1        USC00110356 2020-06-19 07:00:00    TMIN  150.0   40.6633   -90.4447   \n",
       "2        USC00116344 2020-06-24 00:00:00    TOBS  139.0   40.1100   -87.9567   \n",
       "3        USC00110356 2020-06-25 07:00:00    TMAX  261.0   40.6633   -90.4447   \n",
       "4        USC00118389 2020-06-27 07:00:00    TMIN  239.0   39.5608   -88.6089   \n",
       "...              ...                 ...     ...    ...       ...        ...   \n",
       "4741293  USC00112745 2016-10-27 07:00:00    TOBS   61.0   42.3161   -90.2269   \n",
       "4741294  USC00112745 2016-05-04 07:00:00    TMAX  200.0   42.3161   -90.2269   \n",
       "4741295  USC00112745 2016-08-17 07:00:00    TMIN  172.0   42.3161   -90.2269   \n",
       "4741296  USC00112745 2016-08-18 07:00:00    TMIN  200.0   42.3161   -90.2269   \n",
       "4741297  USC00112745 2016-08-23 07:00:00    TOBS  161.0   42.3161   -90.2269   \n",
       "\n",
       "                name  \n",
       "0        SULLIVAN 3S  \n",
       "1               AVON  \n",
       "2              OGDEN  \n",
       "3               AVON  \n",
       "4        SULLIVAN 3S  \n",
       "...              ...  \n",
       "4741293    ELIZABETH  \n",
       "4741294    ELIZABETH  \n",
       "4741295    ELIZABETH  \n",
       "4741296    ELIZABETH  \n",
       "4741297    ELIZABETH  \n",
       "\n",
       "[4741298 rows x 7 columns]"
      ]
     },
     "execution_count": 8,
     "metadata": {},
     "output_type": "execute_result"
    }
   ],
   "source": [
    "raw_weather_data[\"date\"] = pd.to_datetime(raw_weather_data[\"date\"]) # converts the string format to a datetime format\n",
    "raw_weather_data[\"date\"] = raw_weather_data[\"date\"] + raw_weather_data[\"time\"] # combines date and time into the same column which can be accessed via object attributes\n",
    "raw_weather_data.drop(columns = [\"time\"], inplace = True) # drops the redundant time column\n",
    "raw_weather_data"
   ]
  },
  {
   "cell_type": "markdown",
   "metadata": {},
   "source": [
    "### The cell below pivots the element values into columns which are more useful in column format."
   ]
  },
  {
   "cell_type": "code",
   "execution_count": 9,
   "metadata": {},
   "outputs": [
    {
     "data": {
      "text/html": [
       "<div>\n",
       "<style scoped>\n",
       "    .dataframe tbody tr th:only-of-type {\n",
       "        vertical-align: middle;\n",
       "    }\n",
       "\n",
       "    .dataframe tbody tr th {\n",
       "        vertical-align: top;\n",
       "    }\n",
       "\n",
       "    .dataframe thead th {\n",
       "        text-align: right;\n",
       "    }\n",
       "</style>\n",
       "<table border=\"1\" class=\"dataframe\">\n",
       "  <thead>\n",
       "    <tr style=\"text-align: right;\">\n",
       "      <th>element</th>\n",
       "      <th>TMAX</th>\n",
       "      <th>TMIN</th>\n",
       "      <th>TOBS</th>\n",
       "    </tr>\n",
       "  </thead>\n",
       "  <tbody>\n",
       "    <tr>\n",
       "      <th>0</th>\n",
       "      <td>317.0</td>\n",
       "      <td>NaN</td>\n",
       "      <td>NaN</td>\n",
       "    </tr>\n",
       "    <tr>\n",
       "      <th>1</th>\n",
       "      <td>NaN</td>\n",
       "      <td>150.0</td>\n",
       "      <td>NaN</td>\n",
       "    </tr>\n",
       "    <tr>\n",
       "      <th>2</th>\n",
       "      <td>NaN</td>\n",
       "      <td>NaN</td>\n",
       "      <td>139.0</td>\n",
       "    </tr>\n",
       "    <tr>\n",
       "      <th>3</th>\n",
       "      <td>261.0</td>\n",
       "      <td>NaN</td>\n",
       "      <td>NaN</td>\n",
       "    </tr>\n",
       "    <tr>\n",
       "      <th>4</th>\n",
       "      <td>NaN</td>\n",
       "      <td>239.0</td>\n",
       "      <td>NaN</td>\n",
       "    </tr>\n",
       "    <tr>\n",
       "      <th>...</th>\n",
       "      <td>...</td>\n",
       "      <td>...</td>\n",
       "      <td>...</td>\n",
       "    </tr>\n",
       "    <tr>\n",
       "      <th>4741293</th>\n",
       "      <td>NaN</td>\n",
       "      <td>NaN</td>\n",
       "      <td>61.0</td>\n",
       "    </tr>\n",
       "    <tr>\n",
       "      <th>4741294</th>\n",
       "      <td>200.0</td>\n",
       "      <td>NaN</td>\n",
       "      <td>NaN</td>\n",
       "    </tr>\n",
       "    <tr>\n",
       "      <th>4741295</th>\n",
       "      <td>NaN</td>\n",
       "      <td>172.0</td>\n",
       "      <td>NaN</td>\n",
       "    </tr>\n",
       "    <tr>\n",
       "      <th>4741296</th>\n",
       "      <td>NaN</td>\n",
       "      <td>200.0</td>\n",
       "      <td>NaN</td>\n",
       "    </tr>\n",
       "    <tr>\n",
       "      <th>4741297</th>\n",
       "      <td>NaN</td>\n",
       "      <td>NaN</td>\n",
       "      <td>161.0</td>\n",
       "    </tr>\n",
       "  </tbody>\n",
       "</table>\n",
       "<p>4741298 rows × 3 columns</p>\n",
       "</div>"
      ],
      "text/plain": [
       "element   TMAX   TMIN   TOBS\n",
       "0        317.0    NaN    NaN\n",
       "1          NaN  150.0    NaN\n",
       "2          NaN    NaN  139.0\n",
       "3        261.0    NaN    NaN\n",
       "4          NaN  239.0    NaN\n",
       "...        ...    ...    ...\n",
       "4741293    NaN    NaN   61.0\n",
       "4741294  200.0    NaN    NaN\n",
       "4741295    NaN  172.0    NaN\n",
       "4741296    NaN  200.0    NaN\n",
       "4741297    NaN    NaN  161.0\n",
       "\n",
       "[4741298 rows x 3 columns]"
      ]
     },
     "execution_count": 9,
     "metadata": {},
     "output_type": "execute_result"
    }
   ],
   "source": [
    "raw_weather_pivot = raw_weather_data.pivot(columns = \"element\", values = \"value\")\n",
    "raw_weather_pivot"
   ]
  },
  {
   "cell_type": "code",
   "execution_count": 10,
   "metadata": {},
   "outputs": [
    {
     "data": {
      "text/html": [
       "<div>\n",
       "<style scoped>\n",
       "    .dataframe tbody tr th:only-of-type {\n",
       "        vertical-align: middle;\n",
       "    }\n",
       "\n",
       "    .dataframe tbody tr th {\n",
       "        vertical-align: top;\n",
       "    }\n",
       "\n",
       "    .dataframe thead th {\n",
       "        text-align: right;\n",
       "    }\n",
       "</style>\n",
       "<table border=\"1\" class=\"dataframe\">\n",
       "  <thead>\n",
       "    <tr style=\"text-align: right;\">\n",
       "      <th></th>\n",
       "      <th>id</th>\n",
       "      <th>date</th>\n",
       "      <th>latitude</th>\n",
       "      <th>longitude</th>\n",
       "      <th>name</th>\n",
       "      <th>TMAX</th>\n",
       "      <th>TMIN</th>\n",
       "      <th>TOBS</th>\n",
       "    </tr>\n",
       "  </thead>\n",
       "  <tbody>\n",
       "    <tr>\n",
       "      <th>0</th>\n",
       "      <td>USC00118389</td>\n",
       "      <td>2020-06-19 07:00:00</td>\n",
       "      <td>39.5608</td>\n",
       "      <td>-88.6089</td>\n",
       "      <td>SULLIVAN 3S</td>\n",
       "      <td>89.06</td>\n",
       "      <td>NaN</td>\n",
       "      <td>NaN</td>\n",
       "    </tr>\n",
       "    <tr>\n",
       "      <th>1</th>\n",
       "      <td>USC00110356</td>\n",
       "      <td>2020-06-19 07:00:00</td>\n",
       "      <td>40.6633</td>\n",
       "      <td>-90.4447</td>\n",
       "      <td>AVON</td>\n",
       "      <td>NaN</td>\n",
       "      <td>59.00</td>\n",
       "      <td>NaN</td>\n",
       "    </tr>\n",
       "    <tr>\n",
       "      <th>2</th>\n",
       "      <td>USC00116344</td>\n",
       "      <td>2020-06-24 00:00:00</td>\n",
       "      <td>40.1100</td>\n",
       "      <td>-87.9567</td>\n",
       "      <td>OGDEN</td>\n",
       "      <td>NaN</td>\n",
       "      <td>NaN</td>\n",
       "      <td>57.02</td>\n",
       "    </tr>\n",
       "    <tr>\n",
       "      <th>3</th>\n",
       "      <td>USC00110356</td>\n",
       "      <td>2020-06-25 07:00:00</td>\n",
       "      <td>40.6633</td>\n",
       "      <td>-90.4447</td>\n",
       "      <td>AVON</td>\n",
       "      <td>78.98</td>\n",
       "      <td>NaN</td>\n",
       "      <td>NaN</td>\n",
       "    </tr>\n",
       "    <tr>\n",
       "      <th>4</th>\n",
       "      <td>USC00118389</td>\n",
       "      <td>2020-06-27 07:00:00</td>\n",
       "      <td>39.5608</td>\n",
       "      <td>-88.6089</td>\n",
       "      <td>SULLIVAN 3S</td>\n",
       "      <td>NaN</td>\n",
       "      <td>75.02</td>\n",
       "      <td>NaN</td>\n",
       "    </tr>\n",
       "    <tr>\n",
       "      <th>...</th>\n",
       "      <td>...</td>\n",
       "      <td>...</td>\n",
       "      <td>...</td>\n",
       "      <td>...</td>\n",
       "      <td>...</td>\n",
       "      <td>...</td>\n",
       "      <td>...</td>\n",
       "      <td>...</td>\n",
       "    </tr>\n",
       "    <tr>\n",
       "      <th>4741293</th>\n",
       "      <td>USC00112745</td>\n",
       "      <td>2016-10-27 07:00:00</td>\n",
       "      <td>42.3161</td>\n",
       "      <td>-90.2269</td>\n",
       "      <td>ELIZABETH</td>\n",
       "      <td>NaN</td>\n",
       "      <td>NaN</td>\n",
       "      <td>42.98</td>\n",
       "    </tr>\n",
       "    <tr>\n",
       "      <th>4741294</th>\n",
       "      <td>USC00112745</td>\n",
       "      <td>2016-05-04 07:00:00</td>\n",
       "      <td>42.3161</td>\n",
       "      <td>-90.2269</td>\n",
       "      <td>ELIZABETH</td>\n",
       "      <td>68.00</td>\n",
       "      <td>NaN</td>\n",
       "      <td>NaN</td>\n",
       "    </tr>\n",
       "    <tr>\n",
       "      <th>4741295</th>\n",
       "      <td>USC00112745</td>\n",
       "      <td>2016-08-17 07:00:00</td>\n",
       "      <td>42.3161</td>\n",
       "      <td>-90.2269</td>\n",
       "      <td>ELIZABETH</td>\n",
       "      <td>NaN</td>\n",
       "      <td>62.96</td>\n",
       "      <td>NaN</td>\n",
       "    </tr>\n",
       "    <tr>\n",
       "      <th>4741296</th>\n",
       "      <td>USC00112745</td>\n",
       "      <td>2016-08-18 07:00:00</td>\n",
       "      <td>42.3161</td>\n",
       "      <td>-90.2269</td>\n",
       "      <td>ELIZABETH</td>\n",
       "      <td>NaN</td>\n",
       "      <td>68.00</td>\n",
       "      <td>NaN</td>\n",
       "    </tr>\n",
       "    <tr>\n",
       "      <th>4741297</th>\n",
       "      <td>USC00112745</td>\n",
       "      <td>2016-08-23 07:00:00</td>\n",
       "      <td>42.3161</td>\n",
       "      <td>-90.2269</td>\n",
       "      <td>ELIZABETH</td>\n",
       "      <td>NaN</td>\n",
       "      <td>NaN</td>\n",
       "      <td>60.98</td>\n",
       "    </tr>\n",
       "  </tbody>\n",
       "</table>\n",
       "<p>4741298 rows × 8 columns</p>\n",
       "</div>"
      ],
      "text/plain": [
       "                  id                date  latitude  longitude         name  \\\n",
       "0        USC00118389 2020-06-19 07:00:00   39.5608   -88.6089  SULLIVAN 3S   \n",
       "1        USC00110356 2020-06-19 07:00:00   40.6633   -90.4447         AVON   \n",
       "2        USC00116344 2020-06-24 00:00:00   40.1100   -87.9567        OGDEN   \n",
       "3        USC00110356 2020-06-25 07:00:00   40.6633   -90.4447         AVON   \n",
       "4        USC00118389 2020-06-27 07:00:00   39.5608   -88.6089  SULLIVAN 3S   \n",
       "...              ...                 ...       ...        ...          ...   \n",
       "4741293  USC00112745 2016-10-27 07:00:00   42.3161   -90.2269    ELIZABETH   \n",
       "4741294  USC00112745 2016-05-04 07:00:00   42.3161   -90.2269    ELIZABETH   \n",
       "4741295  USC00112745 2016-08-17 07:00:00   42.3161   -90.2269    ELIZABETH   \n",
       "4741296  USC00112745 2016-08-18 07:00:00   42.3161   -90.2269    ELIZABETH   \n",
       "4741297  USC00112745 2016-08-23 07:00:00   42.3161   -90.2269    ELIZABETH   \n",
       "\n",
       "          TMAX   TMIN   TOBS  \n",
       "0        89.06    NaN    NaN  \n",
       "1          NaN  59.00    NaN  \n",
       "2          NaN    NaN  57.02  \n",
       "3        78.98    NaN    NaN  \n",
       "4          NaN  75.02    NaN  \n",
       "...        ...    ...    ...  \n",
       "4741293    NaN    NaN  42.98  \n",
       "4741294  68.00    NaN    NaN  \n",
       "4741295    NaN  62.96    NaN  \n",
       "4741296    NaN  68.00    NaN  \n",
       "4741297    NaN    NaN  60.98  \n",
       "\n",
       "[4741298 rows x 8 columns]"
      ]
     },
     "execution_count": 10,
     "metadata": {},
     "output_type": "execute_result"
    }
   ],
   "source": [
    "transformed_data = pd.concat([raw_weather_data, raw_weather_pivot], axis = 1) # combine the newly generated columns with the existing dataframe\n",
    "transformed_data.drop(columns = [\"element\", \"value\"], inplace = True) # drop the element and value columns\n",
    "transformed_data[\"TMIN\"] = 9/5 * (transformed_data[\"TMIN\"] / 10) + 32 # converting from tenths of a degree Celsius to Fahrenheit\n",
    "transformed_data[\"TMAX\"] = 9/5 * (transformed_data[\"TMAX\"] / 10) + 32 \n",
    "transformed_data[\"TOBS\"] = 9/5 * (transformed_data[\"TOBS\"] / 10) + 32\n",
    "transformed_data"
   ]
  },
  {
   "cell_type": "markdown",
   "metadata": {},
   "source": [
    "### This cell below plots the minimum, maximum, and observed temperatures."
   ]
  },
  {
   "cell_type": "code",
   "execution_count": 11,
   "metadata": {},
   "outputs": [
    {
     "data": {
      "image/png": "[encoded data removed]",
      "text/plain": [
       "<Figure size 640x480 with 1 Axes>"
      ]
     },
     "metadata": {},
     "output_type": "display_data"
    }
   ],
   "source": [
    "# Resample the temperature data annually and calculate the mean\n",
    "numeric_data = transformed_data.select_dtypes(include = [\"datetime64[ns]\", \"float\"])\n",
    "resampled_data = numeric_data.resample(\"Y\", on=\"date\").mean()\n",
    "resampled_data.index = pd.to_datetime(resampled_data.index)\n",
    "tmin_label = r\"$T_{min}$\"\n",
    "tmax_label = r\"$T_{max}$\"\n",
    "tobs_label = r\"$T_{obs}$\"\n",
    "\n",
    "# Plotting TMIN, TMAX, and TOBS\n",
    "plt.plot(resampled_data.index.year, resampled_data[\"TMIN\"], label= tmin_label)\n",
    "plt.plot(resampled_data.index.year, resampled_data[\"TMAX\"], label= tmax_label)\n",
    "plt.plot(resampled_data.index.year, resampled_data[\"TOBS\"], label= tobs_label)\n",
    "\n",
    "# Set labels and title\n",
    "plt.xlabel(\"Year\")\n",
    "plt.ylabel(r\"Temperature ($\\circ F$)\")\n",
    "plt.title(\"Temperatures in Illinois Sampled Annually from 1990 to 2023\")\n",
    "\n",
    "# Display the legend\n",
    "plt.legend(loc=\"best\")\n",
    "\n",
    "# Fixes the x-range so that it's between 1990 and 2023\n",
    "plt.xlim(resampled_data.index.year.min(), resampled_data.index.year.max())\n",
    "\n",
    "# Display the grid\n",
    "plt.grid()\n",
    "\n",
    "# Display minor ticks\n",
    "plt.minorticks_on()\n",
    "\n",
    "# Show the plot\n",
    "plt.show()"
   ]
  },
  {
   "cell_type": "code",
   "execution_count": 12,
   "metadata": {},
   "outputs": [
    {
     "data": {
      "image/png": "[encoded data removed]",
      "text/plain": [
       "<Figure size 640x480 with 1 Axes>"
      ]
     },
     "metadata": {},
     "output_type": "display_data"
    }
   ],
   "source": [
    "# Plotting the temperature gradient (difference) for TMIN, TMAX, TOBS\n",
    "plt.bar(resampled_data.index.year, resampled_data[\"TMIN\"].diff(), label = tmin_label)\n",
    "plt.bar(resampled_data.index.year, resampled_data[\"TMAX\"].diff(), label = tmax_label)\n",
    "plt.bar(resampled_data.index.year, resampled_data[\"TOBS\"].diff(), label = tobs_label)\n",
    "\n",
    "# Adding labels\n",
    "plt.xlabel(\"Year\")\n",
    "plt.ylabel(r\"Temperature Difference ($\\circ F$)\")\n",
    "\n",
    "# Fix the x-range so that all the bars for each year display properly\n",
    "plt.xlim(resampled_data.index.year.min(), resampled_data.index.year.max() + 0.25)\n",
    "\n",
    "# Adding a title\n",
    "plt.title(\"Temperature Difference Sampled Annually from 1990 to 2023\")\n",
    "\n",
    "# Display grid and minor ticks\n",
    "plt.grid()\n",
    "\n",
    "plt.minorticks_on()\n",
    "\n",
    "# Show the plot\n",
    "plt.show()"
   ]
  },
  {
   "cell_type": "code",
   "execution_count": 13,
   "metadata": {},
   "outputs": [
    {
     "data": {
      "text/plain": [
       "1927"
      ]
     },
     "execution_count": 13,
     "metadata": {},
     "output_type": "execute_result"
    }
   ],
   "source": [
    "count_query = \"\"\"SELECT COUNT(DISTINCT weather.id)\n",
    "                 FROM `bigquery-public-data.ghcn_d.ghcnd_*` AS weather\n",
    "                 INNER JOIN `bigquery-public-data.ghcn_d.ghcnd_stations` AS stations\n",
    "                 ON weather.id = stations.id\n",
    "                 WHERE weather.id LIKE 'US%'\n",
    "                 AND EXTRACT(YEAR FROM weather.date) BETWEEN 1990 AND 2023\n",
    "                 AND weather._TABLE_SUFFIX BETWEEN '1990' AND '2023'\n",
    "                 AND stations.id LIKE 'US%'\n",
    "                 AND stations.state = 'IL'; \"\"\"\n",
    "total_number_of_stations = pd.read_gbq(count_query).iloc[0,0]\n",
    "total_number_of_stations"
   ]
  },
  {
   "cell_type": "code",
   "execution_count": 14,
   "metadata": {},
   "outputs": [
    {
     "data": {
      "text/plain": [
       "209"
      ]
     },
     "execution_count": 14,
     "metadata": {},
     "output_type": "execute_result"
    }
   ],
   "source": [
    "transformed_data[\"name\"].nunique() # number of stations in Illinois with respect to TMIN, TMAX, TOBS"
   ]
  },
  {
   "cell_type": "code",
   "execution_count": 15,
   "metadata": {},
   "outputs": [
    {
     "data": {
      "text/plain": [
       "'10.85% of stations are temperature measurements.'"
      ]
     },
     "execution_count": 15,
     "metadata": {},
     "output_type": "execute_result"
    }
   ],
   "source": [
    "f\"{transformed_data[\"name\"].nunique() / total_number_of_stations * 100:.2f}% of stations are temperature measurements.\""
   ]
  },
  {
   "cell_type": "code",
   "execution_count": 23,
   "metadata": {},
   "outputs": [
    {
     "data": {
      "text/html": [
       "<div>\n",
       "<style scoped>\n",
       "    .dataframe tbody tr th:only-of-type {\n",
       "        vertical-align: middle;\n",
       "    }\n",
       "\n",
       "    .dataframe tbody tr th {\n",
       "        vertical-align: top;\n",
       "    }\n",
       "\n",
       "    .dataframe thead th {\n",
       "        text-align: right;\n",
       "    }\n",
       "</style>\n",
       "<table border=\"1\" class=\"dataframe\">\n",
       "  <thead>\n",
       "    <tr style=\"text-align: right;\">\n",
       "      <th></th>\n",
       "      <th>name</th>\n",
       "      <th>obs_count</th>\n",
       "    </tr>\n",
       "  </thead>\n",
       "  <tbody>\n",
       "    <tr>\n",
       "      <th>0</th>\n",
       "      <td>ALBION</td>\n",
       "      <td>15352</td>\n",
       "    </tr>\n",
       "    <tr>\n",
       "      <th>1</th>\n",
       "      <td>ALEDO</td>\n",
       "      <td>35761</td>\n",
       "    </tr>\n",
       "    <tr>\n",
       "      <th>2</th>\n",
       "      <td>ALTON - MELVIN PRICE L&amp;D</td>\n",
       "      <td>31602</td>\n",
       "    </tr>\n",
       "    <tr>\n",
       "      <th>3</th>\n",
       "      <td>ALTONA</td>\n",
       "      <td>17872</td>\n",
       "    </tr>\n",
       "    <tr>\n",
       "      <th>4</th>\n",
       "      <td>ANNA 4 N</td>\n",
       "      <td>25714</td>\n",
       "    </tr>\n",
       "    <tr>\n",
       "      <th>...</th>\n",
       "      <td>...</td>\n",
       "      <td>...</td>\n",
       "    </tr>\n",
       "    <tr>\n",
       "      <th>204</th>\n",
       "      <td>WAUKEGAN</td>\n",
       "      <td>12384</td>\n",
       "    </tr>\n",
       "    <tr>\n",
       "      <th>205</th>\n",
       "      <td>WHEATON 3 SE</td>\n",
       "      <td>22074</td>\n",
       "    </tr>\n",
       "    <tr>\n",
       "      <th>206</th>\n",
       "      <td>WHITE HALL 1 E</td>\n",
       "      <td>36514</td>\n",
       "    </tr>\n",
       "    <tr>\n",
       "      <th>207</th>\n",
       "      <td>WINCHESTER</td>\n",
       "      <td>17375</td>\n",
       "    </tr>\n",
       "    <tr>\n",
       "      <th>208</th>\n",
       "      <td>WINDSOR</td>\n",
       "      <td>34703</td>\n",
       "    </tr>\n",
       "  </tbody>\n",
       "</table>\n",
       "<p>209 rows × 2 columns</p>\n",
       "</div>"
      ],
      "text/plain": [
       "                         name  obs_count\n",
       "0                      ALBION      15352\n",
       "1                       ALEDO      35761\n",
       "2    ALTON - MELVIN PRICE L&D      31602\n",
       "3                      ALTONA      17872\n",
       "4                    ANNA 4 N      25714\n",
       "..                        ...        ...\n",
       "204                  WAUKEGAN      12384\n",
       "205              WHEATON 3 SE      22074\n",
       "206            WHITE HALL 1 E      36514\n",
       "207                WINCHESTER      17375\n",
       "208                   WINDSOR      34703\n",
       "\n",
       "[209 rows x 2 columns]"
      ]
     },
     "execution_count": 23,
     "metadata": {},
     "output_type": "execute_result"
    }
   ],
   "source": [
    "num_obs_per_station = transformed_data.groupby(\"name\", as_index = False)[\"date\"].count() # number of observations per station w.r.t. TMIN, TMAX, TOBS\n",
    "num_obs_per_station.rename(columns = {\"date\": \"obs_count\"}, inplace = True)\n",
    "num_obs_per_station"
   ]
  },
  {
   "cell_type": "code",
   "execution_count": 24,
   "metadata": {},
   "outputs": [
    {
     "data": {
      "text/html": [
       "<div>\n",
       "<style scoped>\n",
       "    .dataframe tbody tr th:only-of-type {\n",
       "        vertical-align: middle;\n",
       "    }\n",
       "\n",
       "    .dataframe tbody tr th {\n",
       "        vertical-align: top;\n",
       "    }\n",
       "\n",
       "    .dataframe thead th {\n",
       "        text-align: right;\n",
       "    }\n",
       "</style>\n",
       "<table border=\"1\" class=\"dataframe\">\n",
       "  <thead>\n",
       "    <tr style=\"text-align: right;\">\n",
       "      <th></th>\n",
       "      <th>obs_count</th>\n",
       "    </tr>\n",
       "  </thead>\n",
       "  <tbody>\n",
       "    <tr>\n",
       "      <th>count</th>\n",
       "      <td>209.000000</td>\n",
       "    </tr>\n",
       "    <tr>\n",
       "      <th>mean</th>\n",
       "      <td>22685.636364</td>\n",
       "    </tr>\n",
       "    <tr>\n",
       "      <th>std</th>\n",
       "      <td>11375.888388</td>\n",
       "    </tr>\n",
       "    <tr>\n",
       "      <th>min</th>\n",
       "      <td>1.000000</td>\n",
       "    </tr>\n",
       "    <tr>\n",
       "      <th>25%</th>\n",
       "      <td>14156.000000</td>\n",
       "    </tr>\n",
       "    <tr>\n",
       "      <th>50%</th>\n",
       "      <td>24173.000000</td>\n",
       "    </tr>\n",
       "    <tr>\n",
       "      <th>75%</th>\n",
       "      <td>33674.000000</td>\n",
       "    </tr>\n",
       "    <tr>\n",
       "      <th>max</th>\n",
       "      <td>37155.000000</td>\n",
       "    </tr>\n",
       "  </tbody>\n",
       "</table>\n",
       "</div>"
      ],
      "text/plain": [
       "          obs_count\n",
       "count    209.000000\n",
       "mean   22685.636364\n",
       "std    11375.888388\n",
       "min        1.000000\n",
       "25%    14156.000000\n",
       "50%    24173.000000\n",
       "75%    33674.000000\n",
       "max    37155.000000"
      ]
     },
     "execution_count": 24,
     "metadata": {},
     "output_type": "execute_result"
    }
   ],
   "source": [
    "num_obs_per_station.describe()"
   ]
  },
  {
   "cell_type": "code",
   "execution_count": 30,
   "metadata": {},
   "outputs": [
    {
     "data": {
      "text/html": [
       "<div>\n",
       "<style scoped>\n",
       "    .dataframe tbody tr th:only-of-type {\n",
       "        vertical-align: middle;\n",
       "    }\n",
       "\n",
       "    .dataframe tbody tr th {\n",
       "        vertical-align: top;\n",
       "    }\n",
       "\n",
       "    .dataframe thead th {\n",
       "        text-align: right;\n",
       "    }\n",
       "</style>\n",
       "<table border=\"1\" class=\"dataframe\">\n",
       "  <thead>\n",
       "    <tr style=\"text-align: right;\">\n",
       "      <th></th>\n",
       "      <th>name</th>\n",
       "      <th>obs_count</th>\n",
       "    </tr>\n",
       "  </thead>\n",
       "  <tbody>\n",
       "    <tr>\n",
       "      <th>0</th>\n",
       "      <td>ALBION</td>\n",
       "      <td>15352</td>\n",
       "    </tr>\n",
       "    <tr>\n",
       "      <th>2</th>\n",
       "      <td>ALTON - MELVIN PRICE L&amp;D</td>\n",
       "      <td>31602</td>\n",
       "    </tr>\n",
       "    <tr>\n",
       "      <th>3</th>\n",
       "      <td>ALTONA</td>\n",
       "      <td>17872</td>\n",
       "    </tr>\n",
       "    <tr>\n",
       "      <th>4</th>\n",
       "      <td>ANNA 4 N</td>\n",
       "      <td>25714</td>\n",
       "    </tr>\n",
       "    <tr>\n",
       "      <th>5</th>\n",
       "      <td>ANTIOCH</td>\n",
       "      <td>17156</td>\n",
       "    </tr>\n",
       "    <tr>\n",
       "      <th>...</th>\n",
       "      <td>...</td>\n",
       "      <td>...</td>\n",
       "    </tr>\n",
       "    <tr>\n",
       "      <th>198</th>\n",
       "      <td>VANDALIA</td>\n",
       "      <td>24391</td>\n",
       "    </tr>\n",
       "    <tr>\n",
       "      <th>200</th>\n",
       "      <td>VIRDEN</td>\n",
       "      <td>22900</td>\n",
       "    </tr>\n",
       "    <tr>\n",
       "      <th>203</th>\n",
       "      <td>WATSEKA 2NW</td>\n",
       "      <td>31809</td>\n",
       "    </tr>\n",
       "    <tr>\n",
       "      <th>205</th>\n",
       "      <td>WHEATON 3 SE</td>\n",
       "      <td>22074</td>\n",
       "    </tr>\n",
       "    <tr>\n",
       "      <th>207</th>\n",
       "      <td>WINCHESTER</td>\n",
       "      <td>17375</td>\n",
       "    </tr>\n",
       "  </tbody>\n",
       "</table>\n",
       "<p>103 rows × 2 columns</p>\n",
       "</div>"
      ],
      "text/plain": [
       "                         name  obs_count\n",
       "0                      ALBION      15352\n",
       "2    ALTON - MELVIN PRICE L&D      31602\n",
       "3                      ALTONA      17872\n",
       "4                    ANNA 4 N      25714\n",
       "5                     ANTIOCH      17156\n",
       "..                        ...        ...\n",
       "198                  VANDALIA      24391\n",
       "200                    VIRDEN      22900\n",
       "203               WATSEKA 2NW      31809\n",
       "205              WHEATON 3 SE      22074\n",
       "207                WINCHESTER      17375\n",
       "\n",
       "[103 rows x 2 columns]"
      ]
     },
     "execution_count": 30,
     "metadata": {},
     "output_type": "execute_result"
    }
   ],
   "source": [
    "stations_in_between_quantiles = (num_obs_per_station[\"obs_count\"] > num_obs_per_station[\"obs_count\"].quantile(0.25)) & (num_obs_per_station[\"obs_count\"] < num_obs_per_station[\"obs_count\"].quantile(0.75))\n",
    "num_obs_per_station[stations_in_between_quantiles]"
   ]
  },
  {
   "cell_type": "code",
   "execution_count": 17,
   "metadata": {},
   "outputs": [
    {
     "name": "stderr",
     "output_type": "stream",
     "text": [
      "/var/folders/j5/byfswq3j1bg3s3yk6x9qdzbr0000gp/T/ipykernel_5215/2289167633.py:1: FutureWarning: <class 'pandas.core.arrays.string_.StringArray'>._reduce will require a `keepdims` parameter in the future\n",
      "  num_obs_per_station.min() # Station with the least number of observations w.r.t. TMIN, TMAX, TOBS\n"
     ]
    },
    {
     "data": {
      "text/plain": [
       "name         ALBION\n",
       "obs_count         1\n",
       "dtype: object"
      ]
     },
     "execution_count": 17,
     "metadata": {},
     "output_type": "execute_result"
    }
   ],
   "source": [
    "num_obs_per_station.min() # Station with the least number of observations w.r.t. TMIN, TMAX, TOBS"
   ]
  },
  {
   "cell_type": "code",
   "execution_count": 18,
   "metadata": {},
   "outputs": [
    {
     "name": "stderr",
     "output_type": "stream",
     "text": [
      "/var/folders/j5/byfswq3j1bg3s3yk6x9qdzbr0000gp/T/ipykernel_5215/2916560759.py:1: FutureWarning: <class 'pandas.core.arrays.string_.StringArray'>._reduce will require a `keepdims` parameter in the future\n",
      "  num_obs_per_station.max() # Station with the most number of observations w.r.t. TMIN, TMAX, TOBS\n"
     ]
    },
    {
     "data": {
      "text/plain": [
       "name         WINDSOR\n",
       "obs_count      37155\n",
       "dtype: object"
      ]
     },
     "execution_count": 18,
     "metadata": {},
     "output_type": "execute_result"
    }
   ],
   "source": [
    "num_obs_per_station.max() # Station with the most number of observations w.r.t. TMIN, TMAX, TOBS"
   ]
  },
  {
   "cell_type": "code",
   "execution_count": 19,
   "metadata": {},
   "outputs": [],
   "source": [
    "def map_of_temps_for_each_year(df, year):\n",
    "    \"\"\"Generates a map for each year this will be updated to generate a slider bar or dropdown menu\n",
    "\n",
    "    Args:\n",
    "        df (pandas.DataFrame): the dataset that will be plotted on the map\n",
    "        year (int): the year for which to filter the dataset and put markers for\n",
    "    \"\"\"\n",
    "    year_data = df[df[\"date\"].dt.year == year]\n",
    "    # Create a base map\n",
    "    my_map = folium.Map(location = [year_data[\"latitude\"].dropna().mean(), year_data[\"longitude\"].dropna().mean()], zoom_start = 100)\n",
    "\n",
    "    # Create marker cluster\n",
    "    marker_cluster = MarkerCluster().add_to(my_map)\n",
    "\n",
    "    # Add markers for each data point\n",
    "    for index, row in year_data.iterrows():\n",
    "        folium.Marker([row[\"latitude\"], row[\"longitude\"]], \n",
    "                     popup = f\"Temperature: {row[\"TOBS\"]:.0f}°F\",\n",
    "                     tooltip = f\"Station Name: {row[\"name\"]}\").add_to(marker_cluster)\n",
    "    my_map.save(f\"{year} Temperature Map.html\")"
   ]
  },
  {
   "cell_type": "code",
   "execution_count": 20,
   "metadata": {},
   "outputs": [],
   "source": [
    "map_of_temps_for_each_year(transformed_data, 1990)"
   ]
  },
  {
   "cell_type": "code",
   "execution_count": null,
   "metadata": {},
   "outputs": [],
   "source": []
  }
 ],
 "metadata": {
  "kernelspec": {
   "display_name": "weather",
   "language": "python",
   "name": "python3"
  },
  "language_info": {
   "codemirror_mode": {
    "name": "ipython",
    "version": 3
   },
   "file_extension": ".py",
   "mimetype": "text/x-python",
   "name": "python",
   "nbconvert_exporter": "python",
   "pygments_lexer": "ipython3",
   "version": "3.12.0"
  }
 },
 "nbformat": 4,
 "nbformat_minor": 2
}
