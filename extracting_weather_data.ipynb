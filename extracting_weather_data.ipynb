{
 "cells": [
  {
   "cell_type": "code",
   "execution_count": 1,
   "metadata": {},
   "outputs": [],
   "source": [
    "import pandas as pd # DataFrame library\n",
    "import os # Operating system library"
   ]
  },
  {
   "cell_type": "code",
   "execution_count": 2,
   "metadata": {},
   "outputs": [],
   "source": [
    "os.environ[\"GOOGLE_APPLICATION_CREDENTIALS\"] = \"./secrets/my_credentials.json\" # Credentials to be able to access the Google BigQuery public datasets"
   ]
  },
  {
   "cell_type": "code",
   "execution_count": 3,
   "metadata": {},
   "outputs": [
    {
     "name": "stderr",
     "output_type": "stream",
     "text": [
      "/var/folders/j5/byfswq3j1bg3s3yk6x9qdzbr0000gp/T/ipykernel_14429/1168019163.py:6: FutureWarning: read_gbq is deprecated and will be removed in a future version. Please use pandas_gbq.read_gbq instead: https://pandas-gbq.readthedocs.io/en/latest/api.html#pandas_gbq.read_gbq\n",
      "  raw_weather_data = pd.read_gbq(raw_weather_query, use_bqstorage_api = True, progress_bar_type = \"tqdm_notebook\", dialect = \"standard\")\n",
      "/Users/henry/miniconda3/envs/weather/lib/python3.13/site-packages/pandas/io/gbq.py:207: LargeResultsWarning: Recommendation: Your results are 1.4 GiB. Consider using BigQuery DataFrames (https://bit.ly/bigframes-intro)to process large results with pandas compatible APIs with transparent SQL pushdown to BigQuery engine. This provides an opportunity to save on costs and improve performance. Please reach out to bigframes-feedback@google.com with any questions or concerns. To disable this message, run warnings.simplefilter('ignore', category=pandas_gbq.exceptions.LargeResultsWarning)\n",
      "  return pandas_gbq.read_gbq(\n",
      "/Users/henry/miniconda3/envs/weather/lib/python3.13/site-packages/google/cloud/bigquery/table.py:2645: UserWarning: A progress bar was requested, but there was an error loading the tqdm library. Please install tqdm to use the progress bar functionality.\n",
      "  record_batch = self.to_arrow(\n"
     ]
    }
   ],
   "source": [
    "# This query extracts weather data from the US in Illinois from the year 1990 to 2023\n",
    "with open(\"weather_query.sql\", \"r\") as query_file:\n",
    "    raw_weather_query = query_file.read()\n",
    "\n",
    "# Load the data from the SQL query through Google BigQuery\n",
    "raw_weather_data = pd.read_gbq(raw_weather_query, use_bqstorage_api = True, progress_bar_type = \"tqdm_notebook\", dialect = \"standard\")"
   ]
  },
  {
   "cell_type": "code",
   "execution_count": 4,
   "metadata": {},
   "outputs": [
    {
     "name": "stdout",
     "output_type": "stream",
     "text": [
      "<class 'pandas.core.frame.DataFrame'>\n",
      "RangeIndex: 19102488 entries, 0 to 19102487\n",
      "Data columns (total 10 columns):\n",
      " #   Column     Dtype  \n",
      "---  ------     -----  \n",
      " 0   id         object \n",
      " 1   date       dbdate \n",
      " 2   time       object \n",
      " 3   element    object \n",
      " 4   value      float64\n",
      " 5   qflag      object \n",
      " 6   latitude   float64\n",
      " 7   longitude  float64\n",
      " 8   name       object \n",
      " 9   elevation  float64\n",
      "dtypes: dbdate(1), float64(4), object(5)\n",
      "memory usage: 1.4+ GB\n"
     ]
    }
   ],
   "source": [
    "raw_weather_data.info()"
   ]
  },
  {
   "cell_type": "code",
   "execution_count": 5,
   "metadata": {},
   "outputs": [
    {
     "data": {
      "text/plain": [
       "(19102488, 10)"
      ]
     },
     "execution_count": 5,
     "metadata": {},
     "output_type": "execute_result"
    }
   ],
   "source": [
    "raw_weather_data.shape"
   ]
  },
  {
   "cell_type": "code",
   "execution_count": 6,
   "metadata": {},
   "outputs": [
    {
     "name": "stdout",
     "output_type": "stream",
     "text": [
      "<class 'pandas.core.frame.DataFrame'>\n",
      "RangeIndex: 19102488 entries, 0 to 19102487\n",
      "Data columns (total 10 columns):\n",
      " #   Column     Dtype  \n",
      "---  ------     -----  \n",
      " 0   id         string \n",
      " 1   date       string \n",
      " 2   time       string \n",
      " 3   element    string \n",
      " 4   value      float64\n",
      " 5   qflag      string \n",
      " 6   latitude   float64\n",
      " 7   longitude  float64\n",
      " 8   name       string \n",
      " 9   elevation  float64\n",
      "dtypes: float64(4), string(6)\n",
      "memory usage: 1.4 GB\n"
     ]
    }
   ],
   "source": [
    "desired_types = {\"id\": \"string\", \n",
    "                 \"date\": \"string\", \n",
    "                 \"time\": \"string\", \n",
    "                 \"name\": \"string\", \n",
    "                 \"element\": \"string\", \n",
    "                 \"value\": \"float\", \n",
    "                 \"latitude\": \"float\", \n",
    "                 \"longitude\": \"float\",\n",
    "                 \"elevation\": \"float\",\n",
    "                 \"qflag\": \"string\"}\n",
    "\n",
    "raw_weather_data = raw_weather_data.astype(desired_types)\n",
    "raw_weather_data.info()"
   ]
  },
  {
   "cell_type": "code",
   "execution_count": 7,
   "metadata": {},
   "outputs": [],
   "source": [
    "# Filter the data to only include the years 1990 to 2023\n",
    "raw_weather_data = raw_weather_data[raw_weather_data[\"date\"].str[:4].astype(int).between(1990, 2023)] "
   ]
  },
  {
   "cell_type": "code",
   "execution_count": 8,
   "metadata": {},
   "outputs": [],
   "source": [
    "raw_weather_data.to_parquet(\"./data/raw_weather.parquet\", index = False)"
   ]
  }
 ],
 "metadata": {
  "kernelspec": {
   "display_name": "weather",
   "language": "python",
   "name": "python3"
  },
  "language_info": {
   "codemirror_mode": {
    "name": "ipython",
    "version": 3
   },
   "file_extension": ".py",
   "mimetype": "text/x-python",
   "name": "python",
   "nbconvert_exporter": "python",
   "pygments_lexer": "ipython3",
   "version": "3.13.3"
  }
 },
 "nbformat": 4,
 "nbformat_minor": 2
}
