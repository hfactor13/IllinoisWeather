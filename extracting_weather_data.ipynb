{
 "cells": [
  {
   "cell_type": "code",
   "execution_count": 1,
   "metadata": {},
   "outputs": [],
   "source": [
    "import pandas as pd # DataFrame library\n",
    "import os # Operating system library"
   ]
  },
  {
   "cell_type": "code",
   "execution_count": 2,
   "metadata": {},
   "outputs": [],
   "source": [
    "os.environ[\"GOOGLE_APPLICATION_CREDENTIALS\"] = \"./secrets/my_credentials.json\" # Credentials to be able to access the Google BigQuery public datasets"
   ]
  },
  {
   "cell_type": "code",
   "execution_count": 3,
   "metadata": {},
   "outputs": [
    {
     "data": {
      "application/vnd.jupyter.widget-view+json": {
       "model_id": "6a38e6348de74060858107286f809348",
       "version_major": 2,
       "version_minor": 0
      },
      "text/plain": [
       "Downloading:   0%|          |"
      ]
     },
     "metadata": {},
     "output_type": "display_data"
    }
   ],
   "source": [
    "raw_weather_query = \"\"\"SELECT weather.id, weather.date, weather.time, weather.element, weather.value,\n",
    "                       stations.latitude, stations.longitude, stations.name, stations.elevation \n",
    "                       FROM `bigquery-public-data.ghcn_d.ghcnd_*` AS weather\n",
    "                       INNER JOIN `bigquery-public-data.ghcn_d.ghcnd_stations` AS stations\n",
    "                       ON weather.id = stations.id\n",
    "                       WHERE weather.id LIKE 'US%'\n",
    "                       AND weather.element IN ('TMAX', 'TMIN', 'TOBS')\n",
    "                       AND weather.qflag IS NULL\n",
    "                       AND EXTRACT(YEAR FROM weather.date) BETWEEN 1990 AND 2023\n",
    "                       AND weather._TABLE_SUFFIX BETWEEN '1990' AND '2023'\n",
    "                       AND stations.id LIKE 'US%'\n",
    "                       AND stations.state = 'IL'; \"\"\" # This query extracts weather data from the US in Illinois from the year 1990 to 2023\n",
    "raw_weather_data = pd.read_gbq(raw_weather_query, use_bqstorage_api = True, progress_bar_type = \"tqdm_notebook\", dialect = \"standard\") # Load the data from the SQL query through Google BigQuery"
   ]
  },
  {
   "cell_type": "code",
   "execution_count": 5,
   "metadata": {},
   "outputs": [],
   "source": [
    "raw_weather_data.to_csv(\"./data/raw_illinois_weather_data.csv\", index = False)"
   ]
  }
 ],
 "metadata": {
  "kernelspec": {
   "display_name": "weather",
   "language": "python",
   "name": "python3"
  },
  "language_info": {
   "codemirror_mode": {
    "name": "ipython",
    "version": 3
   },
   "file_extension": ".py",
   "mimetype": "text/x-python",
   "name": "python",
   "nbconvert_exporter": "python",
   "pygments_lexer": "ipython3",
   "version": "3.12.0"
  }
 },
 "nbformat": 4,
 "nbformat_minor": 2
}
