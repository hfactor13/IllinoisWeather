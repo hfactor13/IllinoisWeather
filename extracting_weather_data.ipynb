{
 "cells": [
  {
   "cell_type": "code",
   "execution_count": 1,
   "metadata": {},
   "outputs": [],
   "source": [
    "import pandas as pd # DataFrame library\n",
    "import os # Operating system library"
   ]
  },
  {
   "cell_type": "code",
   "execution_count": 2,
   "metadata": {},
   "outputs": [],
   "source": [
    "os.environ[\"GOOGLE_APPLICATION_CREDENTIALS\"] = \"./secrets/my_credentials.json\" # Credentials to be able to access the Google BigQuery public datasets"
   ]
  },
  {
   "cell_type": "code",
   "execution_count": 3,
   "metadata": {},
   "outputs": [
    {
     "data": {
      "application/vnd.jupyter.widget-view+json": {
       "model_id": "178c8c7ba38d44b5bcbeb34e4aa8744c",
       "version_major": 2,
       "version_minor": 0
      },
      "text/plain": [
       "Downloading:   0%|          |"
      ]
     },
     "metadata": {},
     "output_type": "display_data"
    }
   ],
   "source": [
    "raw_weather_query = \"\"\"SELECT weather.id, weather.date, weather.time, weather.element, weather.value, weather.qflag,\n",
    "                       stations.latitude, stations.longitude, stations.name, stations.elevation \n",
    "                       FROM `bigquery-public-data.ghcn_d.ghcnd_*` AS weather\n",
    "                       INNER JOIN `bigquery-public-data.ghcn_d.ghcnd_stations` AS stations\n",
    "                       ON weather.id = stations.id\n",
    "                       WHERE weather.id LIKE 'US%'\n",
    "                       AND EXTRACT(YEAR FROM weather.date) BETWEEN 1990 AND 2023\n",
    "                       AND weather._TABLE_SUFFIX BETWEEN '1990' AND '2023'\n",
    "                       AND stations.id LIKE 'US%'\n",
    "                       AND stations.state = 'IL'; \"\"\" # This query extracts weather data from the US in Illinois from the year 1990 to 2023\n",
    "raw_weather_data = pd.read_gbq(raw_weather_query, use_bqstorage_api = True, progress_bar_type = \"tqdm_notebook\", dialect = \"standard\") # Load the data from the SQL query through Google BigQuery"
   ]
  },
  {
   "cell_type": "code",
   "execution_count": 4,
   "metadata": {},
   "outputs": [
    {
     "name": "stdout",
     "output_type": "stream",
     "text": [
      "<class 'pandas.core.frame.DataFrame'>\n",
      "RangeIndex: 19084993 entries, 0 to 19084992\n",
      "Data columns (total 10 columns):\n",
      " #   Column     Dtype  \n",
      "---  ------     -----  \n",
      " 0   id         object \n",
      " 1   date       dbdate \n",
      " 2   time       object \n",
      " 3   element    object \n",
      " 4   value      float64\n",
      " 5   qflag      object \n",
      " 6   latitude   float64\n",
      " 7   longitude  float64\n",
      " 8   name       object \n",
      " 9   elevation  float64\n",
      "dtypes: dbdate(1), float64(4), object(5)\n",
      "memory usage: 1.4+ GB\n"
     ]
    }
   ],
   "source": [
    "raw_weather_data.info()"
   ]
  },
  {
   "cell_type": "code",
   "execution_count": 5,
   "metadata": {},
   "outputs": [
    {
     "data": {
      "text/plain": [
       "(19084993, 10)"
      ]
     },
     "execution_count": 5,
     "metadata": {},
     "output_type": "execute_result"
    }
   ],
   "source": [
    "raw_weather_data.shape"
   ]
  },
  {
   "cell_type": "code",
   "execution_count": 6,
   "metadata": {},
   "outputs": [
    {
     "name": "stdout",
     "output_type": "stream",
     "text": [
      "<class 'pandas.core.frame.DataFrame'>\n",
      "RangeIndex: 19084993 entries, 0 to 19084992\n",
      "Data columns (total 10 columns):\n",
      " #   Column     Dtype  \n",
      "---  ------     -----  \n",
      " 0   id         string \n",
      " 1   date       string \n",
      " 2   time       string \n",
      " 3   element    string \n",
      " 4   value      float64\n",
      " 5   qflag      string \n",
      " 6   latitude   float64\n",
      " 7   longitude  float64\n",
      " 8   name       string \n",
      " 9   elevation  float64\n",
      "dtypes: float64(4), string(6)\n",
      "memory usage: 1.4 GB\n"
     ]
    }
   ],
   "source": [
    "desired_types = {\"id\": \"string\", \n",
    "                 \"date\": \"string\", \n",
    "                 \"time\": \"string\", \n",
    "                 \"name\": \"string\", \n",
    "                 \"element\": \"string\", \n",
    "                 \"value\": \"float\", \n",
    "                 \"latitude\": \"float\", \n",
    "                 \"longitude\": \"float\",\n",
    "                 \"elevation\": \"float\",\n",
    "                 \"qflag\": \"string\"}\n",
    "\n",
    "raw_weather_data = raw_weather_data.astype(desired_types)\n",
    "raw_weather_data.info()"
   ]
  },
  {
   "cell_type": "code",
   "execution_count": 7,
   "metadata": {},
   "outputs": [],
   "source": [
    "raw_weather_data.to_parquet(\"./data/raw_weather.parquet\", index = False)"
   ]
  }
 ],
 "metadata": {
  "kernelspec": {
   "display_name": "weather",
   "language": "python",
   "name": "python3"
  },
  "language_info": {
   "codemirror_mode": {
    "name": "ipython",
    "version": 3
   },
   "file_extension": ".py",
   "mimetype": "text/x-python",
   "name": "python",
   "nbconvert_exporter": "python",
   "pygments_lexer": "ipython3",
   "version": "3.12.0"
  }
 },
 "nbformat": 4,
 "nbformat_minor": 2
}
